{
 "cells": [
  {
   "cell_type": "markdown",
   "metadata": {},
   "source": [
    "# Определение стоимости автомобилей"
   ]
  },
  {
   "cell_type": "markdown",
   "metadata": {},
   "source": [
    "Сервис по продаже автомобилей с пробегом «Не бит, не крашен» разрабатывает приложение для привлечения новых клиентов. В нём можно быстро узнать рыночную стоимость своего автомобиля. В вашем распоряжении исторические данные: технические характеристики, комплектации и цены автомобилей. Вам нужно построить модель для определения стоимости. \n",
    "\n",
    "Заказчику важны:\n",
    "\n",
    "- качество предсказания;\n",
    "- скорость предсказания;\n",
    "- время обучения."
   ]
  },
  {
   "cell_type": "markdown",
   "metadata": {},
   "source": [
    "**Признаки**\n",
    "- DateCrawled — дата скачивания анкеты из базы\n",
    "- VehicleType — тип автомобильного кузова\n",
    "- RegistrationYear — год регистрации автомобиля\n",
    "- Gearbox — тип коробки передач\n",
    "- Power — мощность (л. с.)\n",
    "- Model — модель автомобиля\n",
    "- Kilometer — пробег (км)\n",
    "- RegistrationMonth — месяц регистрации автомобиля\n",
    "- FuelType — тип топлива\n",
    "- Brand — марка автомобиля\n",
    "- Repaired — была машина в ремонте или нет\n",
    "- DateCreated — дата создания анкеты\n",
    "- NumberOfPictures — количество фотографий автомобиля\n",
    "- PostalCode — почтовый индекс владельца анкеты (пользователя)\n",
    "- LastSeen — дата последней активности пользователя\\\n",
    "  .\\\n",
    "**Целевой признак**\\\n",
    "Price — цена (евро)"
   ]
  },
  {
   "cell_type": "markdown",
   "metadata": {},
   "source": [
    "В данном задании необходимо решить задачу регрессии, чтобы узнать рыночную стоимость автомобиля."
   ]
  },
  {
   "cell_type": "markdown",
   "metadata": {},
   "source": [
    "## Подготовка данных"
   ]
  },
  {
   "cell_type": "code",
   "execution_count": 1,
   "metadata": {},
   "outputs": [],
   "source": [
    "import pandas as pd\n",
    "import numpy as np\n",
    "import lightgbm as lgb\n",
    "import matplotlib.pyplot as plt\n",
    "from sklearn.preprocessing import OneHotEncoder, OrdinalEncoder\n",
    "from sklearn.tree import DecisionTreeClassifier, DecisionTreeRegressor\n",
    "from sklearn.linear_model import LinearRegression\n",
    "from sklearn.tree import DecisionTreeClassifier \n",
    "from sklearn.ensemble import RandomForestClassifier, RandomForestRegressor\n",
    "from sklearn.preprocessing import StandardScaler\n",
    "from sklearn.model_selection import train_test_split\n",
    "from sklearn.metrics import mean_squared_error\n",
    "from sklearn.metrics import roc_curve\n",
    "from sklearn.metrics import r2_score\n",
    "from sklearn.metrics import mean_absolute_error"
   ]
  },
  {
   "cell_type": "code",
   "execution_count": 2,
   "metadata": {},
   "outputs": [
    {
     "data": {
      "text/html": [
       "<div>\n",
       "<style scoped>\n",
       "    .dataframe tbody tr th:only-of-type {\n",
       "        vertical-align: middle;\n",
       "    }\n",
       "\n",
       "    .dataframe tbody tr th {\n",
       "        vertical-align: top;\n",
       "    }\n",
       "\n",
       "    .dataframe thead th {\n",
       "        text-align: right;\n",
       "    }\n",
       "</style>\n",
       "<table border=\"1\" class=\"dataframe\">\n",
       "  <thead>\n",
       "    <tr style=\"text-align: right;\">\n",
       "      <th></th>\n",
       "      <th>DateCrawled</th>\n",
       "      <th>Price</th>\n",
       "      <th>VehicleType</th>\n",
       "      <th>RegistrationYear</th>\n",
       "      <th>Gearbox</th>\n",
       "      <th>Power</th>\n",
       "      <th>Model</th>\n",
       "      <th>Kilometer</th>\n",
       "      <th>RegistrationMonth</th>\n",
       "      <th>FuelType</th>\n",
       "      <th>Brand</th>\n",
       "      <th>Repaired</th>\n",
       "      <th>DateCreated</th>\n",
       "      <th>NumberOfPictures</th>\n",
       "      <th>PostalCode</th>\n",
       "      <th>LastSeen</th>\n",
       "    </tr>\n",
       "  </thead>\n",
       "  <tbody>\n",
       "    <tr>\n",
       "      <th>0</th>\n",
       "      <td>2016-03-24 11:52:17</td>\n",
       "      <td>480</td>\n",
       "      <td>NaN</td>\n",
       "      <td>1993</td>\n",
       "      <td>manual</td>\n",
       "      <td>0</td>\n",
       "      <td>golf</td>\n",
       "      <td>150000</td>\n",
       "      <td>0</td>\n",
       "      <td>petrol</td>\n",
       "      <td>volkswagen</td>\n",
       "      <td>NaN</td>\n",
       "      <td>2016-03-24 00:00:00</td>\n",
       "      <td>0</td>\n",
       "      <td>70435</td>\n",
       "      <td>2016-04-07 03:16:57</td>\n",
       "    </tr>\n",
       "    <tr>\n",
       "      <th>1</th>\n",
       "      <td>2016-03-24 10:58:45</td>\n",
       "      <td>18300</td>\n",
       "      <td>coupe</td>\n",
       "      <td>2011</td>\n",
       "      <td>manual</td>\n",
       "      <td>190</td>\n",
       "      <td>NaN</td>\n",
       "      <td>125000</td>\n",
       "      <td>5</td>\n",
       "      <td>gasoline</td>\n",
       "      <td>audi</td>\n",
       "      <td>yes</td>\n",
       "      <td>2016-03-24 00:00:00</td>\n",
       "      <td>0</td>\n",
       "      <td>66954</td>\n",
       "      <td>2016-04-07 01:46:50</td>\n",
       "    </tr>\n",
       "    <tr>\n",
       "      <th>2</th>\n",
       "      <td>2016-03-14 12:52:21</td>\n",
       "      <td>9800</td>\n",
       "      <td>suv</td>\n",
       "      <td>2004</td>\n",
       "      <td>auto</td>\n",
       "      <td>163</td>\n",
       "      <td>grand</td>\n",
       "      <td>125000</td>\n",
       "      <td>8</td>\n",
       "      <td>gasoline</td>\n",
       "      <td>jeep</td>\n",
       "      <td>NaN</td>\n",
       "      <td>2016-03-14 00:00:00</td>\n",
       "      <td>0</td>\n",
       "      <td>90480</td>\n",
       "      <td>2016-04-05 12:47:46</td>\n",
       "    </tr>\n",
       "    <tr>\n",
       "      <th>3</th>\n",
       "      <td>2016-03-17 16:54:04</td>\n",
       "      <td>1500</td>\n",
       "      <td>small</td>\n",
       "      <td>2001</td>\n",
       "      <td>manual</td>\n",
       "      <td>75</td>\n",
       "      <td>golf</td>\n",
       "      <td>150000</td>\n",
       "      <td>6</td>\n",
       "      <td>petrol</td>\n",
       "      <td>volkswagen</td>\n",
       "      <td>no</td>\n",
       "      <td>2016-03-17 00:00:00</td>\n",
       "      <td>0</td>\n",
       "      <td>91074</td>\n",
       "      <td>2016-03-17 17:40:17</td>\n",
       "    </tr>\n",
       "    <tr>\n",
       "      <th>4</th>\n",
       "      <td>2016-03-31 17:25:20</td>\n",
       "      <td>3600</td>\n",
       "      <td>small</td>\n",
       "      <td>2008</td>\n",
       "      <td>manual</td>\n",
       "      <td>69</td>\n",
       "      <td>fabia</td>\n",
       "      <td>90000</td>\n",
       "      <td>7</td>\n",
       "      <td>gasoline</td>\n",
       "      <td>skoda</td>\n",
       "      <td>no</td>\n",
       "      <td>2016-03-31 00:00:00</td>\n",
       "      <td>0</td>\n",
       "      <td>60437</td>\n",
       "      <td>2016-04-06 10:17:21</td>\n",
       "    </tr>\n",
       "    <tr>\n",
       "      <th>...</th>\n",
       "      <td>...</td>\n",
       "      <td>...</td>\n",
       "      <td>...</td>\n",
       "      <td>...</td>\n",
       "      <td>...</td>\n",
       "      <td>...</td>\n",
       "      <td>...</td>\n",
       "      <td>...</td>\n",
       "      <td>...</td>\n",
       "      <td>...</td>\n",
       "      <td>...</td>\n",
       "      <td>...</td>\n",
       "      <td>...</td>\n",
       "      <td>...</td>\n",
       "      <td>...</td>\n",
       "      <td>...</td>\n",
       "    </tr>\n",
       "    <tr>\n",
       "      <th>354364</th>\n",
       "      <td>2016-03-21 09:50:58</td>\n",
       "      <td>0</td>\n",
       "      <td>NaN</td>\n",
       "      <td>2005</td>\n",
       "      <td>manual</td>\n",
       "      <td>0</td>\n",
       "      <td>colt</td>\n",
       "      <td>150000</td>\n",
       "      <td>7</td>\n",
       "      <td>petrol</td>\n",
       "      <td>mitsubishi</td>\n",
       "      <td>yes</td>\n",
       "      <td>2016-03-21 00:00:00</td>\n",
       "      <td>0</td>\n",
       "      <td>2694</td>\n",
       "      <td>2016-03-21 10:42:49</td>\n",
       "    </tr>\n",
       "    <tr>\n",
       "      <th>354365</th>\n",
       "      <td>2016-03-14 17:48:27</td>\n",
       "      <td>2200</td>\n",
       "      <td>NaN</td>\n",
       "      <td>2005</td>\n",
       "      <td>NaN</td>\n",
       "      <td>0</td>\n",
       "      <td>NaN</td>\n",
       "      <td>20000</td>\n",
       "      <td>1</td>\n",
       "      <td>NaN</td>\n",
       "      <td>sonstige_autos</td>\n",
       "      <td>NaN</td>\n",
       "      <td>2016-03-14 00:00:00</td>\n",
       "      <td>0</td>\n",
       "      <td>39576</td>\n",
       "      <td>2016-04-06 00:46:52</td>\n",
       "    </tr>\n",
       "    <tr>\n",
       "      <th>354366</th>\n",
       "      <td>2016-03-05 19:56:21</td>\n",
       "      <td>1199</td>\n",
       "      <td>convertible</td>\n",
       "      <td>2000</td>\n",
       "      <td>auto</td>\n",
       "      <td>101</td>\n",
       "      <td>fortwo</td>\n",
       "      <td>125000</td>\n",
       "      <td>3</td>\n",
       "      <td>petrol</td>\n",
       "      <td>smart</td>\n",
       "      <td>no</td>\n",
       "      <td>2016-03-05 00:00:00</td>\n",
       "      <td>0</td>\n",
       "      <td>26135</td>\n",
       "      <td>2016-03-11 18:17:12</td>\n",
       "    </tr>\n",
       "    <tr>\n",
       "      <th>354367</th>\n",
       "      <td>2016-03-19 18:57:12</td>\n",
       "      <td>9200</td>\n",
       "      <td>bus</td>\n",
       "      <td>1996</td>\n",
       "      <td>manual</td>\n",
       "      <td>102</td>\n",
       "      <td>transporter</td>\n",
       "      <td>150000</td>\n",
       "      <td>3</td>\n",
       "      <td>gasoline</td>\n",
       "      <td>volkswagen</td>\n",
       "      <td>no</td>\n",
       "      <td>2016-03-19 00:00:00</td>\n",
       "      <td>0</td>\n",
       "      <td>87439</td>\n",
       "      <td>2016-04-07 07:15:26</td>\n",
       "    </tr>\n",
       "    <tr>\n",
       "      <th>354368</th>\n",
       "      <td>2016-03-20 19:41:08</td>\n",
       "      <td>3400</td>\n",
       "      <td>wagon</td>\n",
       "      <td>2002</td>\n",
       "      <td>manual</td>\n",
       "      <td>100</td>\n",
       "      <td>golf</td>\n",
       "      <td>150000</td>\n",
       "      <td>6</td>\n",
       "      <td>gasoline</td>\n",
       "      <td>volkswagen</td>\n",
       "      <td>NaN</td>\n",
       "      <td>2016-03-20 00:00:00</td>\n",
       "      <td>0</td>\n",
       "      <td>40764</td>\n",
       "      <td>2016-03-24 12:45:21</td>\n",
       "    </tr>\n",
       "  </tbody>\n",
       "</table>\n",
       "<p>354369 rows × 16 columns</p>\n",
       "</div>"
      ],
      "text/plain": [
       "                DateCrawled  Price  VehicleType  RegistrationYear Gearbox  \\\n",
       "0       2016-03-24 11:52:17    480          NaN              1993  manual   \n",
       "1       2016-03-24 10:58:45  18300        coupe              2011  manual   \n",
       "2       2016-03-14 12:52:21   9800          suv              2004    auto   \n",
       "3       2016-03-17 16:54:04   1500        small              2001  manual   \n",
       "4       2016-03-31 17:25:20   3600        small              2008  manual   \n",
       "...                     ...    ...          ...               ...     ...   \n",
       "354364  2016-03-21 09:50:58      0          NaN              2005  manual   \n",
       "354365  2016-03-14 17:48:27   2200          NaN              2005     NaN   \n",
       "354366  2016-03-05 19:56:21   1199  convertible              2000    auto   \n",
       "354367  2016-03-19 18:57:12   9200          bus              1996  manual   \n",
       "354368  2016-03-20 19:41:08   3400        wagon              2002  manual   \n",
       "\n",
       "        Power        Model  Kilometer  RegistrationMonth  FuelType  \\\n",
       "0           0         golf     150000                  0    petrol   \n",
       "1         190          NaN     125000                  5  gasoline   \n",
       "2         163        grand     125000                  8  gasoline   \n",
       "3          75         golf     150000                  6    petrol   \n",
       "4          69        fabia      90000                  7  gasoline   \n",
       "...       ...          ...        ...                ...       ...   \n",
       "354364      0         colt     150000                  7    petrol   \n",
       "354365      0          NaN      20000                  1       NaN   \n",
       "354366    101       fortwo     125000                  3    petrol   \n",
       "354367    102  transporter     150000                  3  gasoline   \n",
       "354368    100         golf     150000                  6  gasoline   \n",
       "\n",
       "                 Brand Repaired          DateCreated  NumberOfPictures  \\\n",
       "0           volkswagen      NaN  2016-03-24 00:00:00                 0   \n",
       "1                 audi      yes  2016-03-24 00:00:00                 0   \n",
       "2                 jeep      NaN  2016-03-14 00:00:00                 0   \n",
       "3           volkswagen       no  2016-03-17 00:00:00                 0   \n",
       "4                skoda       no  2016-03-31 00:00:00                 0   \n",
       "...                ...      ...                  ...               ...   \n",
       "354364      mitsubishi      yes  2016-03-21 00:00:00                 0   \n",
       "354365  sonstige_autos      NaN  2016-03-14 00:00:00                 0   \n",
       "354366           smart       no  2016-03-05 00:00:00                 0   \n",
       "354367      volkswagen       no  2016-03-19 00:00:00                 0   \n",
       "354368      volkswagen      NaN  2016-03-20 00:00:00                 0   \n",
       "\n",
       "        PostalCode             LastSeen  \n",
       "0            70435  2016-04-07 03:16:57  \n",
       "1            66954  2016-04-07 01:46:50  \n",
       "2            90480  2016-04-05 12:47:46  \n",
       "3            91074  2016-03-17 17:40:17  \n",
       "4            60437  2016-04-06 10:17:21  \n",
       "...            ...                  ...  \n",
       "354364        2694  2016-03-21 10:42:49  \n",
       "354365       39576  2016-04-06 00:46:52  \n",
       "354366       26135  2016-03-11 18:17:12  \n",
       "354367       87439  2016-04-07 07:15:26  \n",
       "354368       40764  2016-03-24 12:45:21  \n",
       "\n",
       "[354369 rows x 16 columns]"
      ]
     },
     "metadata": {},
     "output_type": "display_data"
    },
    {
     "name": "stdout",
     "output_type": "stream",
     "text": [
      "<class 'pandas.core.frame.DataFrame'>\n",
      "RangeIndex: 354369 entries, 0 to 354368\n",
      "Data columns (total 16 columns):\n",
      " #   Column             Non-Null Count   Dtype \n",
      "---  ------             --------------   ----- \n",
      " 0   DateCrawled        354369 non-null  object\n",
      " 1   Price              354369 non-null  int64 \n",
      " 2   VehicleType        316879 non-null  object\n",
      " 3   RegistrationYear   354369 non-null  int64 \n",
      " 4   Gearbox            334536 non-null  object\n",
      " 5   Power              354369 non-null  int64 \n",
      " 6   Model              334664 non-null  object\n",
      " 7   Kilometer          354369 non-null  int64 \n",
      " 8   RegistrationMonth  354369 non-null  int64 \n",
      " 9   FuelType           321474 non-null  object\n",
      " 10  Brand              354369 non-null  object\n",
      " 11  Repaired           283215 non-null  object\n",
      " 12  DateCreated        354369 non-null  object\n",
      " 13  NumberOfPictures   354369 non-null  int64 \n",
      " 14  PostalCode         354369 non-null  int64 \n",
      " 15  LastSeen           354369 non-null  object\n",
      "dtypes: int64(7), object(9)\n",
      "memory usage: 43.3+ MB\n"
     ]
    }
   ],
   "source": [
    "df = pd.read_csv('/datasets/autos.csv')\n",
    "display (df)\n",
    "df.info()"
   ]
  },
  {
   "cell_type": "markdown",
   "metadata": {},
   "source": [
    "### Изучаю пропуски в датасете"
   ]
  },
  {
   "cell_type": "markdown",
   "metadata": {},
   "source": [
    "#### Изучаю подробно пропуски в столбце VehicleType"
   ]
  },
  {
   "cell_type": "code",
   "execution_count": 3,
   "metadata": {},
   "outputs": [
    {
     "data": {
      "text/plain": [
       "array([nan, 'coupe', 'suv', 'small', 'sedan', 'convertible', 'bus',\n",
       "       'wagon', 'other'], dtype=object)"
      ]
     },
     "execution_count": 3,
     "metadata": {},
     "output_type": "execute_result"
    }
   ],
   "source": [
    "df['VehicleType'].unique()"
   ]
  },
  {
   "cell_type": "code",
   "execution_count": 4,
   "metadata": {},
   "outputs": [
    {
     "data": {
      "text/plain": [
       "37490"
      ]
     },
     "execution_count": 4,
     "metadata": {},
     "output_type": "execute_result"
    }
   ],
   "source": [
    "df['VehicleType'].isna().sum()"
   ]
  },
  {
   "cell_type": "markdown",
   "metadata": {},
   "source": [
    "Считаю процентное содержание количества пропусков в столбце"
   ]
  },
  {
   "cell_type": "code",
   "execution_count": 5,
   "metadata": {},
   "outputs": [
    {
     "name": "stdout",
     "output_type": "stream",
     "text": [
      "11 %\n"
     ]
    }
   ],
   "source": [
    "print (round((100*df['VehicleType'].isna().sum())/354369), '%')"
   ]
  },
  {
   "cell_type": "markdown",
   "metadata": {},
   "source": [
    "Пропусков получилось 11%, это слишком много, чтобы удалять их, и в других столбцах могут содержаться важные сведения. Я не знаю какой тип кузова у этих автомобилей, поэтому заполняю неизвестные значения 'unknown'."
   ]
  },
  {
   "cell_type": "code",
   "execution_count": 6,
   "metadata": {},
   "outputs": [],
   "source": [
    "df['VehicleType'] = df['VehicleType'].fillna('unknown')"
   ]
  },
  {
   "cell_type": "code",
   "execution_count": 7,
   "metadata": {},
   "outputs": [
    {
     "data": {
      "text/plain": [
       "0"
      ]
     },
     "execution_count": 7,
     "metadata": {},
     "output_type": "execute_result"
    }
   ],
   "source": [
    "df['VehicleType'].isna().sum()"
   ]
  },
  {
   "cell_type": "markdown",
   "metadata": {},
   "source": [
    "#### Изучаю подробно пропуски в столбце Model"
   ]
  },
  {
   "cell_type": "code",
   "execution_count": 8,
   "metadata": {
    "scrolled": true
   },
   "outputs": [
    {
     "data": {
      "text/plain": [
       "array(['golf', nan, 'grand', 'fabia', '3er', '2_reihe', 'other', 'c_max',\n",
       "       '3_reihe', 'passat', 'navara', 'ka', 'polo', 'twingo', 'a_klasse',\n",
       "       'scirocco', '5er', 'meriva', 'arosa', 'c4', 'civic', 'transporter',\n",
       "       'punto', 'e_klasse', 'clio', 'kadett', 'kangoo', 'corsa', 'one',\n",
       "       'fortwo', '1er', 'b_klasse', 'signum', 'astra', 'a8', 'jetta',\n",
       "       'fiesta', 'c_klasse', 'micra', 'vito', 'sprinter', '156', 'escort',\n",
       "       'forester', 'xc_reihe', 'scenic', 'a4', 'a1', 'insignia', 'combo',\n",
       "       'focus', 'tt', 'a6', 'jazz', 'omega', 'slk', '7er', '80', '147',\n",
       "       '100', 'z_reihe', 'sportage', 'sorento', 'v40', 'ibiza', 'mustang',\n",
       "       'eos', 'touran', 'getz', 'a3', 'almera', 'megane', 'lupo', 'r19',\n",
       "       'zafira', 'caddy', 'mondeo', 'cordoba', 'colt', 'impreza',\n",
       "       'vectra', 'berlingo', 'tiguan', 'i_reihe', 'espace', 'sharan',\n",
       "       '6_reihe', 'panda', 'up', 'seicento', 'ceed', '5_reihe', 'yeti',\n",
       "       'octavia', 'mii', 'rx_reihe', '6er', 'modus', 'fox', 'matiz',\n",
       "       'beetle', 'c1', 'rio', 'touareg', 'logan', 'spider', 'cuore',\n",
       "       's_max', 'a2', 'galaxy', 'c3', 'viano', 's_klasse', '1_reihe',\n",
       "       'avensis', 'roomster', 'sl', 'kaefer', 'santa', 'cooper', 'leon',\n",
       "       '4_reihe', 'a5', '500', 'laguna', 'ptcruiser', 'clk', 'primera',\n",
       "       'x_reihe', 'exeo', '159', 'transit', 'juke', 'qashqai', 'carisma',\n",
       "       'accord', 'corolla', 'lanos', 'phaeton', 'verso', 'swift', 'rav',\n",
       "       'picanto', 'boxster', 'kalos', 'superb', 'stilo', 'alhambra',\n",
       "       'mx_reihe', 'roadster', 'ypsilon', 'cayenne', 'galant', 'justy',\n",
       "       '90', 'sirion', 'crossfire', 'agila', 'duster', 'cr_reihe', 'v50',\n",
       "       'c_reihe', 'v_klasse', 'm_klasse', 'yaris', 'c5', 'aygo', 'cc',\n",
       "       'carnival', 'fusion', '911', 'bora', 'forfour', 'm_reihe', 'cl',\n",
       "       'tigra', '300c', 'spark', 'v70', 'kuga', 'x_type', 'ducato',\n",
       "       's_type', 'x_trail', 'toledo', 'altea', 'voyager', 'calibra',\n",
       "       'bravo', 'antara', 'tucson', 'citigo', 'jimny', 'wrangler',\n",
       "       'lybra', 'q7', 'lancer', 'captiva', 'c2', 'discovery',\n",
       "       'freelander', 'sandero', 'note', '900', 'cherokee', 'clubman',\n",
       "       'samara', 'defender', '601', 'cx_reihe', 'legacy', 'pajero',\n",
       "       'auris', 'niva', 's60', 'nubira', 'vivaro', 'g_klasse', 'lodgy',\n",
       "       '850', 'range_rover', 'q3', 'serie_2', 'glk', 'charade', 'croma',\n",
       "       'outlander', 'doblo', 'musa', 'move', '9000', 'v60', '145', 'aveo',\n",
       "       '200', 'b_max', 'range_rover_sport', 'terios', 'rangerover', 'q5',\n",
       "       'range_rover_evoque', 'materia', 'delta', 'gl', 'kalina', 'amarok',\n",
       "       'elefantino', 'i3', 'kappa', 'serie_3', 'serie_1'], dtype=object)"
      ]
     },
     "execution_count": 8,
     "metadata": {},
     "output_type": "execute_result"
    }
   ],
   "source": [
    "df['Model'].unique()"
   ]
  },
  {
   "cell_type": "code",
   "execution_count": 9,
   "metadata": {},
   "outputs": [
    {
     "data": {
      "text/plain": [
       "19705"
      ]
     },
     "execution_count": 9,
     "metadata": {},
     "output_type": "execute_result"
    }
   ],
   "source": [
    "df['Model'].isna().sum()"
   ]
  },
  {
   "cell_type": "code",
   "execution_count": 10,
   "metadata": {
    "scrolled": true
   },
   "outputs": [
    {
     "name": "stdout",
     "output_type": "stream",
     "text": [
      "6 %\n"
     ]
    }
   ],
   "source": [
    "print (round((100*df['Model'].isna().sum())/354369), '%')"
   ]
  },
  {
   "cell_type": "markdown",
   "metadata": {},
   "source": [
    "**Удаляю строки с пропущенным названием модели автомобиля, т.к. восстновить значения не представляется возможным**"
   ]
  },
  {
   "cell_type": "code",
   "execution_count": 11,
   "metadata": {
    "scrolled": true
   },
   "outputs": [],
   "source": [
    "df = df.dropna(subset=['Model'])"
   ]
  },
  {
   "cell_type": "code",
   "execution_count": 12,
   "metadata": {},
   "outputs": [
    {
     "data": {
      "text/plain": [
       "0"
      ]
     },
     "execution_count": 12,
     "metadata": {},
     "output_type": "execute_result"
    }
   ],
   "source": [
    "df['Model'].isna().sum()"
   ]
  },
  {
   "cell_type": "markdown",
   "metadata": {},
   "source": [
    "#### Изучаю подробно пропуски в столбцах Brand, RegistrationYear, Power, Kilometer"
   ]
  },
  {
   "cell_type": "code",
   "execution_count": 13,
   "metadata": {
    "scrolled": true
   },
   "outputs": [
    {
     "data": {
      "text/plain": [
       "array(['volkswagen', 'jeep', 'skoda', 'bmw', 'peugeot', 'ford', 'mazda',\n",
       "       'nissan', 'renault', 'mercedes_benz', 'opel', 'seat', 'citroen',\n",
       "       'honda', 'fiat', 'mini', 'smart', 'hyundai', 'audi', 'alfa_romeo',\n",
       "       'subaru', 'volvo', 'mitsubishi', 'kia', 'suzuki', 'lancia',\n",
       "       'toyota', 'chevrolet', 'dacia', 'daihatsu', 'chrysler', 'jaguar',\n",
       "       'daewoo', 'porsche', 'rover', 'saab', 'land_rover', 'trabant',\n",
       "       'lada'], dtype=object)"
      ]
     },
     "execution_count": 13,
     "metadata": {},
     "output_type": "execute_result"
    }
   ],
   "source": [
    "df['Brand'].unique()"
   ]
  },
  {
   "cell_type": "code",
   "execution_count": 14,
   "metadata": {},
   "outputs": [
    {
     "data": {
      "text/plain": [
       "0"
      ]
     },
     "execution_count": 14,
     "metadata": {},
     "output_type": "execute_result"
    }
   ],
   "source": [
    "df['Brand'].isna().sum()"
   ]
  },
  {
   "cell_type": "code",
   "execution_count": 15,
   "metadata": {},
   "outputs": [
    {
     "data": {
      "text/plain": [
       "0"
      ]
     },
     "execution_count": 15,
     "metadata": {},
     "output_type": "execute_result"
    }
   ],
   "source": [
    "df['RegistrationYear'].isna().sum()"
   ]
  },
  {
   "cell_type": "code",
   "execution_count": 16,
   "metadata": {},
   "outputs": [
    {
     "data": {
      "text/plain": [
       "0"
      ]
     },
     "execution_count": 16,
     "metadata": {},
     "output_type": "execute_result"
    }
   ],
   "source": [
    "df['Power'].isna().sum()"
   ]
  },
  {
   "cell_type": "code",
   "execution_count": 17,
   "metadata": {},
   "outputs": [
    {
     "data": {
      "text/plain": [
       "0"
      ]
     },
     "execution_count": 17,
     "metadata": {},
     "output_type": "execute_result"
    }
   ],
   "source": [
    "df['Kilometer'].isna().sum()"
   ]
  },
  {
   "cell_type": "markdown",
   "metadata": {},
   "source": [
    "#### Изучаю подробно пропуски в столбце Gearbox"
   ]
  },
  {
   "cell_type": "code",
   "execution_count": 18,
   "metadata": {},
   "outputs": [
    {
     "data": {
      "text/plain": [
       "15702"
      ]
     },
     "execution_count": 18,
     "metadata": {},
     "output_type": "execute_result"
    }
   ],
   "source": [
    "df['Gearbox'].isna().sum()"
   ]
  },
  {
   "cell_type": "code",
   "execution_count": 19,
   "metadata": {},
   "outputs": [
    {
     "data": {
      "text/plain": [
       "array(['manual', 'auto', nan], dtype=object)"
      ]
     },
     "execution_count": 19,
     "metadata": {},
     "output_type": "execute_result"
    }
   ],
   "source": [
    "df['Gearbox'].unique()"
   ]
  },
  {
   "cell_type": "code",
   "execution_count": 20,
   "metadata": {},
   "outputs": [
    {
     "name": "stdout",
     "output_type": "stream",
     "text": [
      "4 % пропусков в столбце Gearbox\n"
     ]
    }
   ],
   "source": [
    "print (round((100*df['Gearbox'].isna().sum())/354369), '% пропусков в столбце Gearbox')"
   ]
  },
  {
   "cell_type": "markdown",
   "metadata": {},
   "source": [
    "Не представляю как можно было бы восстановить пропуски в столбце с коробкой передач. Коробка передач может быть как ручная, так и автоматическая в любой модели. Поэтому, вместо Nan заполняю пропуски 'unknown'"
   ]
  },
  {
   "cell_type": "code",
   "execution_count": 21,
   "metadata": {},
   "outputs": [],
   "source": [
    "df['Gearbox'] = df['Gearbox'].fillna('unknown')"
   ]
  },
  {
   "cell_type": "code",
   "execution_count": 22,
   "metadata": {},
   "outputs": [
    {
     "data": {
      "text/plain": [
       "0"
      ]
     },
     "execution_count": 22,
     "metadata": {},
     "output_type": "execute_result"
    }
   ],
   "source": [
    "df['Gearbox'].isna().sum()"
   ]
  },
  {
   "cell_type": "markdown",
   "metadata": {},
   "source": [
    "#### Изучаю подробно пропуски в столбце FuelType"
   ]
  },
  {
   "cell_type": "code",
   "execution_count": 23,
   "metadata": {
    "scrolled": true
   },
   "outputs": [
    {
     "data": {
      "text/plain": [
       "25732"
      ]
     },
     "execution_count": 23,
     "metadata": {},
     "output_type": "execute_result"
    }
   ],
   "source": [
    "df['FuelType'].isna().sum()"
   ]
  },
  {
   "cell_type": "code",
   "execution_count": 24,
   "metadata": {},
   "outputs": [
    {
     "name": "stdout",
     "output_type": "stream",
     "text": [
      "7 % пропусков в столбце FuelType\n"
     ]
    }
   ],
   "source": [
    "print (round((100*df['FuelType'].isna().sum())/354369), '% пропусков в столбце FuelType')"
   ]
  },
  {
   "cell_type": "code",
   "execution_count": 25,
   "metadata": {},
   "outputs": [
    {
     "data": {
      "text/plain": [
       "array(['petrol', 'gasoline', nan, 'lpg', 'other', 'hybrid', 'cng',\n",
       "       'electric'], dtype=object)"
      ]
     },
     "execution_count": 25,
     "metadata": {},
     "output_type": "execute_result"
    }
   ],
   "source": [
    "df['FuelType'].unique()"
   ]
  },
  {
   "cell_type": "markdown",
   "metadata": {},
   "source": [
    "Не знаю как восстановить пропуски в столбце с типом двигателя. Поэтому, вместо Nan заполняю пропуски 'unknown'"
   ]
  },
  {
   "cell_type": "code",
   "execution_count": 26,
   "metadata": {},
   "outputs": [],
   "source": [
    "df['FuelType'] = df['FuelType'].fillna('unknown')"
   ]
  },
  {
   "cell_type": "code",
   "execution_count": 27,
   "metadata": {},
   "outputs": [
    {
     "data": {
      "text/plain": [
       "0"
      ]
     },
     "execution_count": 27,
     "metadata": {},
     "output_type": "execute_result"
    }
   ],
   "source": [
    "df['FuelType'].isna().sum()"
   ]
  },
  {
   "cell_type": "markdown",
   "metadata": {},
   "source": [
    "#### Изучаю подробно пропуски в столбце Repaired"
   ]
  },
  {
   "cell_type": "code",
   "execution_count": 28,
   "metadata": {},
   "outputs": [
    {
     "data": {
      "text/plain": [
       "62100"
      ]
     },
     "execution_count": 28,
     "metadata": {},
     "output_type": "execute_result"
    }
   ],
   "source": [
    "df['Repaired'].isna().sum()"
   ]
  },
  {
   "cell_type": "markdown",
   "metadata": {},
   "source": [
    "Если нет сведений о ремонте автомобиля, то, вероятнее всего, ремонта не было. Поэтому, заполняю пропуски 'no'"
   ]
  },
  {
   "cell_type": "code",
   "execution_count": 29,
   "metadata": {},
   "outputs": [],
   "source": [
    "df['Repaired'] = df['Repaired'].fillna('no')"
   ]
  },
  {
   "cell_type": "code",
   "execution_count": 30,
   "metadata": {},
   "outputs": [
    {
     "data": {
      "text/plain": [
       "0"
      ]
     },
     "execution_count": 30,
     "metadata": {},
     "output_type": "execute_result"
    }
   ],
   "source": [
    "df['Repaired'].isna().sum()"
   ]
  },
  {
   "cell_type": "markdown",
   "metadata": {},
   "source": [
    "### Проверяю данные на наличие дубликатов"
   ]
  },
  {
   "cell_type": "markdown",
   "metadata": {},
   "source": [
    "#### Поиск явных дубликатов в данных"
   ]
  },
  {
   "cell_type": "code",
   "execution_count": 31,
   "metadata": {},
   "outputs": [
    {
     "name": "stdout",
     "output_type": "stream",
     "text": [
      "5\n"
     ]
    }
   ],
   "source": [
    "print (df.duplicated().sum())"
   ]
  },
  {
   "cell_type": "markdown",
   "metadata": {},
   "source": [
    "**Удаляю явные дубликаты**"
   ]
  },
  {
   "cell_type": "code",
   "execution_count": 32,
   "metadata": {},
   "outputs": [],
   "source": [
    "df = df.drop_duplicates()"
   ]
  },
  {
   "cell_type": "code",
   "execution_count": 33,
   "metadata": {},
   "outputs": [
    {
     "name": "stdout",
     "output_type": "stream",
     "text": [
      "0\n"
     ]
    }
   ],
   "source": [
    "print (df.duplicated().sum())"
   ]
  },
  {
   "cell_type": "markdown",
   "metadata": {},
   "source": [
    "Наличие неявных дубликатов я проверила выше, не удалось обнаружить неявные дубликаты."
   ]
  },
  {
   "cell_type": "markdown",
   "metadata": {},
   "source": [
    "### Изучаю гистограммы столбцов"
   ]
  },
  {
   "cell_type": "code",
   "execution_count": 34,
   "metadata": {},
   "outputs": [
    {
     "data": {
      "image/png": "[encoded data removed]",
      "text/plain": [
       "<Figure size 1800x2160 with 4 Axes>"
      ]
     },
     "metadata": {
      "needs_background": "light"
     },
     "output_type": "display_data"
    }
   ],
   "source": [
    "df.drop(['DateCrawled', 'RegistrationMonth', 'DateCreated', \\\n",
    "         'NumberOfPictures', 'PostalCode', 'LastSeen'], axis=1).hist(figsize=(25,30))\n",
    "None"
   ]
  },
  {
   "cell_type": "markdown",
   "metadata": {},
   "source": [
    "#### Изучаю подробнее столбец Price"
   ]
  },
  {
   "cell_type": "markdown",
   "metadata": {},
   "source": [
    "Проверяю пропуски в столбце Цена"
   ]
  },
  {
   "cell_type": "code",
   "execution_count": 35,
   "metadata": {},
   "outputs": [
    {
     "data": {
      "text/plain": [
       "0"
      ]
     },
     "execution_count": 35,
     "metadata": {},
     "output_type": "execute_result"
    }
   ],
   "source": [
    "df['Price'].isna().sum()"
   ]
  },
  {
   "cell_type": "code",
   "execution_count": 36,
   "metadata": {},
   "outputs": [
    {
     "name": "stdout",
     "output_type": "stream",
     "text": [
      "0 % пропусков в столбце Price\n"
     ]
    }
   ],
   "source": [
    "print (round((100*df['Price'].isna().sum())/354369), '% пропусков в столбце Price')"
   ]
  },
  {
   "cell_type": "markdown",
   "metadata": {},
   "source": [
    "Изучаю подробнее столбец Цена, меня заинтересовал выброс около нуля"
   ]
  },
  {
   "cell_type": "code",
   "execution_count": 37,
   "metadata": {},
   "outputs": [
    {
     "name": "stdout",
     "output_type": "stream",
     "text": [
      "8588\n"
     ]
    }
   ],
   "source": [
    "print (df.query('Price == 0')['Price'].count())"
   ]
  },
  {
   "cell_type": "code",
   "execution_count": 38,
   "metadata": {},
   "outputs": [
    {
     "name": "stdout",
     "output_type": "stream",
     "text": [
      "2 % нулевых значений в столбце Price\n"
     ]
    }
   ],
   "source": [
    "print (round((100*df.query('Price == 0')['Price'].count())/354369), '% нулевых значений в столбце Price')"
   ]
  },
  {
   "cell_type": "markdown",
   "metadata": {},
   "source": [
    "Почему-то в столбце Цена 2% нулевых значений, это выглядит как ошибка, удаляю строки с нулевым значением в столбце Цена."
   ]
  },
  {
   "cell_type": "code",
   "execution_count": 39,
   "metadata": {},
   "outputs": [],
   "source": [
    "df = df[df.Price > 0]"
   ]
  },
  {
   "cell_type": "markdown",
   "metadata": {},
   "source": [
    "#### Изучаю подробнее столбец RegistrationYear"
   ]
  },
  {
   "cell_type": "code",
   "execution_count": 40,
   "metadata": {},
   "outputs": [
    {
     "data": {
      "text/plain": [
       "<AxesSubplot:>"
      ]
     },
     "execution_count": 40,
     "metadata": {},
     "output_type": "execute_result"
    },
    {
     "data": {
      "image/png": "[encoded data removed]",
      "text/plain": [
       "<Figure size 432x288 with 1 Axes>"
      ]
     },
     "metadata": {
      "needs_background": "light"
     },
     "output_type": "display_data"
    }
   ],
   "source": [
    "df.query('RegistrationYear > 2023')['RegistrationYear'].hist()"
   ]
  },
  {
   "cell_type": "code",
   "execution_count": 41,
   "metadata": {},
   "outputs": [
    {
     "data": {
      "text/plain": [
       "9999"
      ]
     },
     "execution_count": 41,
     "metadata": {},
     "output_type": "execute_result"
    }
   ],
   "source": [
    "df['RegistrationYear'].max()"
   ]
  },
  {
   "cell_type": "code",
   "execution_count": 42,
   "metadata": {},
   "outputs": [
    {
     "data": {
      "text/plain": [
       "1000"
      ]
     },
     "execution_count": 42,
     "metadata": {},
     "output_type": "execute_result"
    }
   ],
   "source": [
    "df['RegistrationYear'].min()"
   ]
  },
  {
   "cell_type": "markdown",
   "metadata": {},
   "source": [
    "У нас явные ошибке в году регистрации автомобилей. Ниже считаю сколько у нас явно ошибочных значений"
   ]
  },
  {
   "cell_type": "code",
   "execution_count": 43,
   "metadata": {},
   "outputs": [
    {
     "data": {
      "text/plain": [
       "58"
      ]
     },
     "execution_count": 43,
     "metadata": {},
     "output_type": "execute_result"
    }
   ],
   "source": [
    "df.query('RegistrationYear > 2023')['RegistrationYear'].count()"
   ]
  },
  {
   "cell_type": "code",
   "execution_count": 44,
   "metadata": {},
   "outputs": [
    {
     "data": {
      "text/plain": [
       "782"
      ]
     },
     "execution_count": 44,
     "metadata": {},
     "output_type": "execute_result"
    }
   ],
   "source": [
    "df.query('RegistrationYear < 1970')['RegistrationYear'].count()"
   ]
  },
  {
   "cell_type": "markdown",
   "metadata": {},
   "source": [
    "Ошибочных значений не много, поэтому удаляю строки с явно ошибочной датой регистрации автомобилей"
   ]
  },
  {
   "cell_type": "code",
   "execution_count": 45,
   "metadata": {},
   "outputs": [
    {
     "name": "stdout",
     "output_type": "stream",
     "text": [
      "2016\n"
     ]
    }
   ],
   "source": [
    "df = df[df.RegistrationYear <= 2016] # год выгрузки анкеты 2016 год\n",
    "print (df['RegistrationYear'].max())"
   ]
  },
  {
   "cell_type": "code",
   "execution_count": 46,
   "metadata": {},
   "outputs": [
    {
     "name": "stdout",
     "output_type": "stream",
     "text": [
      "1971\n"
     ]
    }
   ],
   "source": [
    "df = df[df.RegistrationYear > 1970]\n",
    "print (df['RegistrationYear'].min())"
   ]
  },
  {
   "cell_type": "code",
   "execution_count": 47,
   "metadata": {},
   "outputs": [
    {
     "data": {
      "text/plain": [
       "<AxesSubplot:>"
      ]
     },
     "execution_count": 47,
     "metadata": {},
     "output_type": "execute_result"
    },
    {
     "data": {
      "image/png": "[encoded data removed]",
      "text/plain": [
       "<Figure size 432x288 with 1 Axes>"
      ]
     },
     "metadata": {
      "needs_background": "light"
     },
     "output_type": "display_data"
    }
   ],
   "source": [
    "df['RegistrationYear'].hist()"
   ]
  },
  {
   "cell_type": "markdown",
   "metadata": {},
   "source": [
    "Теперь распределение даты регистрации автомобилей выглядтит нормальным."
   ]
  },
  {
   "cell_type": "markdown",
   "metadata": {},
   "source": [
    "#### Изучаю подробнее столбец Power"
   ]
  },
  {
   "cell_type": "code",
   "execution_count": 48,
   "metadata": {},
   "outputs": [
    {
     "data": {
      "text/plain": [
       "<AxesSubplot:>"
      ]
     },
     "execution_count": 48,
     "metadata": {},
     "output_type": "execute_result"
    },
    {
     "data": {
      "image/png": "[encoded data removed]",
      "text/plain": [
       "<Figure size 432x288 with 1 Axes>"
      ]
     },
     "metadata": {
      "needs_background": "light"
     },
     "output_type": "display_data"
    }
   ],
   "source": [
    "df.query('Power <500')['Power'].hist()"
   ]
  },
  {
   "cell_type": "code",
   "execution_count": 49,
   "metadata": {},
   "outputs": [
    {
     "name": "stdout",
     "output_type": "stream",
     "text": [
      "349\n"
     ]
    }
   ],
   "source": [
    "print (df.query('Power >500')['Power'].count())"
   ]
  },
  {
   "cell_type": "markdown",
   "metadata": {},
   "source": [
    "Мощность автомобиля, как правило, не превышает 500 л.с., поэтому значения больше 500 л.с. - это явно ошибка, удаляю эти ошибочные значения."
   ]
  },
  {
   "cell_type": "code",
   "execution_count": 50,
   "metadata": {},
   "outputs": [],
   "source": [
    "df = df[df.Power < 500]"
   ]
  },
  {
   "cell_type": "markdown",
   "metadata": {},
   "source": [
    "**После обработки еще раз проверяю данные на наличие пропусков**"
   ]
  },
  {
   "cell_type": "code",
   "execution_count": 51,
   "metadata": {},
   "outputs": [
    {
     "name": "stdout",
     "output_type": "stream",
     "text": [
      "<class 'pandas.core.frame.DataFrame'>\n",
      "Int64Index: 312779 entries, 0 to 354368\n",
      "Data columns (total 16 columns):\n",
      " #   Column             Non-Null Count   Dtype \n",
      "---  ------             --------------   ----- \n",
      " 0   DateCrawled        312779 non-null  object\n",
      " 1   Price              312779 non-null  int64 \n",
      " 2   VehicleType        312779 non-null  object\n",
      " 3   RegistrationYear   312779 non-null  int64 \n",
      " 4   Gearbox            312779 non-null  object\n",
      " 5   Power              312779 non-null  int64 \n",
      " 6   Model              312779 non-null  object\n",
      " 7   Kilometer          312779 non-null  int64 \n",
      " 8   RegistrationMonth  312779 non-null  int64 \n",
      " 9   FuelType           312779 non-null  object\n",
      " 10  Brand              312779 non-null  object\n",
      " 11  Repaired           312779 non-null  object\n",
      " 12  DateCreated        312779 non-null  object\n",
      " 13  NumberOfPictures   312779 non-null  int64 \n",
      " 14  PostalCode         312779 non-null  int64 \n",
      " 15  LastSeen           312779 non-null  object\n",
      "dtypes: int64(7), object(9)\n",
      "memory usage: 40.6+ MB\n"
     ]
    }
   ],
   "source": [
    "df.info()"
   ]
  },
  {
   "cell_type": "markdown",
   "metadata": {},
   "source": [
    "Пропусков больше не осталось, можно приступать к обучению моделей"
   ]
  },
  {
   "cell_type": "markdown",
   "metadata": {},
   "source": [
    "## Обучение моделей"
   ]
  },
  {
   "cell_type": "markdown",
   "metadata": {},
   "source": [
    "### Кодирую категориальные признаки"
   ]
  },
  {
   "cell_type": "markdown",
   "metadata": {},
   "source": [
    "### Разбиваю данные на выборки"
   ]
  },
  {
   "cell_type": "code",
   "execution_count": 52,
   "metadata": {},
   "outputs": [],
   "source": [
    "df_train, df_valid = train_test_split(df, test_size=0.3, random_state=12345) #сначала делю данные 70-30%\n",
    "df_valid, df_test = train_test_split(df_valid, test_size=0.15, random_state=12345) \n",
    "\n",
    "features_train = df_train.drop(['Price', 'DateCrawled', 'RegistrationMonth', 'DateCreated', 'LastSeen', 'PostalCode'], axis=1)\n",
    "target_train = df_train['Price']\n",
    "\n",
    "features_valid = df_valid.drop(['Price', 'DateCrawled', 'RegistrationMonth', 'DateCreated', 'LastSeen', 'PostalCode'], axis=1)\n",
    "target_valid = df_valid['Price']\n",
    "\n",
    "features_test = df_test.drop(['Price', 'DateCrawled', 'RegistrationMonth', 'DateCreated', 'LastSeen', 'PostalCode'], axis=1)\n",
    "target_test = df_test['Price']"
   ]
  },
  {
   "cell_type": "code",
   "execution_count": 53,
   "metadata": {},
   "outputs": [],
   "source": [
    "# прямое кодирование (для линейных моделей)\n",
    "features_train_ohe = pd.get_dummies(features_train,  columns=['VehicleType', 'Model',\\\n",
    "                                       'FuelType', 'Brand', 'Repaired',\\\n",
    "                                       'Gearbox'], drop_first=True)\n",
    "features_valid_ohe = pd.get_dummies(features_valid,  columns=['VehicleType', 'Model',\\\n",
    "                                       'FuelType', 'Brand', 'Repaired',\\\n",
    "                                       'Gearbox'], drop_first=True)\n",
    "features_test_ohe = pd.get_dummies(features_test,  columns=['VehicleType', 'Model',\\\n",
    "                                       'FuelType', 'Brand', 'Repaired',\\\n",
    "                                       'Gearbox'], drop_first=True)\n",
    "# после прямого кодирования кол-во признаков в выборках будет отличаться\n",
    "# поэтому стоит удалить лишние признаки в каждой выборке\n",
    "\n",
    "# Найдем общие признаки между обучающей, валидационной и тестовой выборками\n",
    "common_columns = set(features_train_ohe.columns) & set(features_valid_ohe.columns) & set(features_test_ohe.columns)\n",
    "\n",
    "# Оставим в каждой выборке только общие признаки\n",
    "features_train_ohe = features_train_ohe[list(common_columns)]\n",
    "features_valid_ohe = features_valid_ohe[list(common_columns)]\n",
    "features_test_ohe = features_test_ohe[list(common_columns)]"
   ]
  },
  {
   "cell_type": "markdown",
   "metadata": {},
   "source": [
    "### Масштабирование признаков столбцов"
   ]
  },
  {
   "cell_type": "code",
   "execution_count": 54,
   "metadata": {},
   "outputs": [
    {
     "name": "stdout",
     "output_type": "stream",
     "text": [
      "(218945, 296)\n"
     ]
    },
    {
     "data": {
      "text/html": [
       "<div>\n",
       "<style scoped>\n",
       "    .dataframe tbody tr th:only-of-type {\n",
       "        vertical-align: middle;\n",
       "    }\n",
       "\n",
       "    .dataframe tbody tr th {\n",
       "        vertical-align: top;\n",
       "    }\n",
       "\n",
       "    .dataframe thead th {\n",
       "        text-align: right;\n",
       "    }\n",
       "</style>\n",
       "<table border=\"1\" class=\"dataframe\">\n",
       "  <thead>\n",
       "    <tr style=\"text-align: right;\">\n",
       "      <th></th>\n",
       "      <th>Model_lybra</th>\n",
       "      <th>Model_cc</th>\n",
       "      <th>Model_captiva</th>\n",
       "      <th>Brand_lada</th>\n",
       "      <th>Model_eos</th>\n",
       "      <th>Model_1er</th>\n",
       "      <th>Model_aygo</th>\n",
       "      <th>Model_x_trail</th>\n",
       "      <th>FuelType_gasoline</th>\n",
       "      <th>Model_move</th>\n",
       "      <th>...</th>\n",
       "      <th>Model_navara</th>\n",
       "      <th>FuelType_unknown</th>\n",
       "      <th>Model_galaxy</th>\n",
       "      <th>Model_5_reihe</th>\n",
       "      <th>Model_tigra</th>\n",
       "      <th>Model_clubman</th>\n",
       "      <th>Model_clio</th>\n",
       "      <th>Brand_mercedes_benz</th>\n",
       "      <th>Model_kalos</th>\n",
       "      <th>Repaired_yes</th>\n",
       "    </tr>\n",
       "  </thead>\n",
       "  <tbody>\n",
       "    <tr>\n",
       "      <th>43948</th>\n",
       "      <td>0</td>\n",
       "      <td>0</td>\n",
       "      <td>0</td>\n",
       "      <td>0</td>\n",
       "      <td>0</td>\n",
       "      <td>0</td>\n",
       "      <td>0</td>\n",
       "      <td>0</td>\n",
       "      <td>0</td>\n",
       "      <td>0</td>\n",
       "      <td>...</td>\n",
       "      <td>0</td>\n",
       "      <td>0</td>\n",
       "      <td>0</td>\n",
       "      <td>0</td>\n",
       "      <td>0</td>\n",
       "      <td>0</td>\n",
       "      <td>0</td>\n",
       "      <td>0</td>\n",
       "      <td>0</td>\n",
       "      <td>0</td>\n",
       "    </tr>\n",
       "    <tr>\n",
       "      <th>98361</th>\n",
       "      <td>0</td>\n",
       "      <td>0</td>\n",
       "      <td>0</td>\n",
       "      <td>0</td>\n",
       "      <td>0</td>\n",
       "      <td>0</td>\n",
       "      <td>0</td>\n",
       "      <td>0</td>\n",
       "      <td>0</td>\n",
       "      <td>0</td>\n",
       "      <td>...</td>\n",
       "      <td>0</td>\n",
       "      <td>0</td>\n",
       "      <td>0</td>\n",
       "      <td>0</td>\n",
       "      <td>0</td>\n",
       "      <td>0</td>\n",
       "      <td>0</td>\n",
       "      <td>0</td>\n",
       "      <td>0</td>\n",
       "      <td>0</td>\n",
       "    </tr>\n",
       "    <tr>\n",
       "      <th>153454</th>\n",
       "      <td>0</td>\n",
       "      <td>0</td>\n",
       "      <td>0</td>\n",
       "      <td>0</td>\n",
       "      <td>0</td>\n",
       "      <td>0</td>\n",
       "      <td>0</td>\n",
       "      <td>0</td>\n",
       "      <td>0</td>\n",
       "      <td>0</td>\n",
       "      <td>...</td>\n",
       "      <td>0</td>\n",
       "      <td>0</td>\n",
       "      <td>0</td>\n",
       "      <td>0</td>\n",
       "      <td>0</td>\n",
       "      <td>0</td>\n",
       "      <td>0</td>\n",
       "      <td>0</td>\n",
       "      <td>0</td>\n",
       "      <td>0</td>\n",
       "    </tr>\n",
       "    <tr>\n",
       "      <th>154268</th>\n",
       "      <td>0</td>\n",
       "      <td>0</td>\n",
       "      <td>0</td>\n",
       "      <td>0</td>\n",
       "      <td>0</td>\n",
       "      <td>0</td>\n",
       "      <td>0</td>\n",
       "      <td>0</td>\n",
       "      <td>1</td>\n",
       "      <td>0</td>\n",
       "      <td>...</td>\n",
       "      <td>0</td>\n",
       "      <td>0</td>\n",
       "      <td>0</td>\n",
       "      <td>0</td>\n",
       "      <td>0</td>\n",
       "      <td>0</td>\n",
       "      <td>0</td>\n",
       "      <td>0</td>\n",
       "      <td>0</td>\n",
       "      <td>0</td>\n",
       "    </tr>\n",
       "    <tr>\n",
       "      <th>225768</th>\n",
       "      <td>0</td>\n",
       "      <td>0</td>\n",
       "      <td>0</td>\n",
       "      <td>0</td>\n",
       "      <td>0</td>\n",
       "      <td>0</td>\n",
       "      <td>0</td>\n",
       "      <td>0</td>\n",
       "      <td>0</td>\n",
       "      <td>0</td>\n",
       "      <td>...</td>\n",
       "      <td>0</td>\n",
       "      <td>0</td>\n",
       "      <td>0</td>\n",
       "      <td>0</td>\n",
       "      <td>0</td>\n",
       "      <td>0</td>\n",
       "      <td>0</td>\n",
       "      <td>0</td>\n",
       "      <td>0</td>\n",
       "      <td>0</td>\n",
       "    </tr>\n",
       "  </tbody>\n",
       "</table>\n",
       "<p>5 rows × 296 columns</p>\n",
       "</div>"
      ],
      "text/plain": [
       "        Model_lybra  Model_cc  Model_captiva  Brand_lada  Model_eos  \\\n",
       "43948             0         0              0           0          0   \n",
       "98361             0         0              0           0          0   \n",
       "153454            0         0              0           0          0   \n",
       "154268            0         0              0           0          0   \n",
       "225768            0         0              0           0          0   \n",
       "\n",
       "        Model_1er  Model_aygo  Model_x_trail  FuelType_gasoline  Model_move  \\\n",
       "43948           0           0              0                  0           0   \n",
       "98361           0           0              0                  0           0   \n",
       "153454          0           0              0                  0           0   \n",
       "154268          0           0              0                  1           0   \n",
       "225768          0           0              0                  0           0   \n",
       "\n",
       "        ...  Model_navara  FuelType_unknown  Model_galaxy  Model_5_reihe  \\\n",
       "43948   ...             0                 0             0              0   \n",
       "98361   ...             0                 0             0              0   \n",
       "153454  ...             0                 0             0              0   \n",
       "154268  ...             0                 0             0              0   \n",
       "225768  ...             0                 0             0              0   \n",
       "\n",
       "        Model_tigra  Model_clubman  Model_clio  Brand_mercedes_benz  \\\n",
       "43948             0              0           0                    0   \n",
       "98361             0              0           0                    0   \n",
       "153454            0              0           0                    0   \n",
       "154268            0              0           0                    0   \n",
       "225768            0              0           0                    0   \n",
       "\n",
       "        Model_kalos  Repaired_yes  \n",
       "43948             0             0  \n",
       "98361             0             0  \n",
       "153454            0             0  \n",
       "154268            0             0  \n",
       "225768            0             0  \n",
       "\n",
       "[5 rows x 296 columns]"
      ]
     },
     "metadata": {},
     "output_type": "display_data"
    },
    {
     "data": {
      "text/html": [
       "<div>\n",
       "<style scoped>\n",
       "    .dataframe tbody tr th:only-of-type {\n",
       "        vertical-align: middle;\n",
       "    }\n",
       "\n",
       "    .dataframe tbody tr th {\n",
       "        vertical-align: top;\n",
       "    }\n",
       "\n",
       "    .dataframe thead th {\n",
       "        text-align: right;\n",
       "    }\n",
       "</style>\n",
       "<table border=\"1\" class=\"dataframe\">\n",
       "  <thead>\n",
       "    <tr style=\"text-align: right;\">\n",
       "      <th></th>\n",
       "      <th>Model_lybra</th>\n",
       "      <th>Model_cc</th>\n",
       "      <th>Model_captiva</th>\n",
       "      <th>Brand_lada</th>\n",
       "      <th>Model_eos</th>\n",
       "      <th>Model_1er</th>\n",
       "      <th>Model_aygo</th>\n",
       "      <th>Model_x_trail</th>\n",
       "      <th>FuelType_gasoline</th>\n",
       "      <th>Model_move</th>\n",
       "      <th>...</th>\n",
       "      <th>Model_navara</th>\n",
       "      <th>FuelType_unknown</th>\n",
       "      <th>Model_galaxy</th>\n",
       "      <th>Model_5_reihe</th>\n",
       "      <th>Model_tigra</th>\n",
       "      <th>Model_clubman</th>\n",
       "      <th>Model_clio</th>\n",
       "      <th>Brand_mercedes_benz</th>\n",
       "      <th>Model_kalos</th>\n",
       "      <th>Repaired_yes</th>\n",
       "    </tr>\n",
       "  </thead>\n",
       "  <tbody>\n",
       "    <tr>\n",
       "      <th>105355</th>\n",
       "      <td>0</td>\n",
       "      <td>0</td>\n",
       "      <td>0</td>\n",
       "      <td>0</td>\n",
       "      <td>0</td>\n",
       "      <td>0</td>\n",
       "      <td>0</td>\n",
       "      <td>0</td>\n",
       "      <td>0</td>\n",
       "      <td>0</td>\n",
       "      <td>...</td>\n",
       "      <td>0</td>\n",
       "      <td>0</td>\n",
       "      <td>0</td>\n",
       "      <td>0</td>\n",
       "      <td>0</td>\n",
       "      <td>0</td>\n",
       "      <td>0</td>\n",
       "      <td>0</td>\n",
       "      <td>0</td>\n",
       "      <td>0</td>\n",
       "    </tr>\n",
       "    <tr>\n",
       "      <th>40313</th>\n",
       "      <td>0</td>\n",
       "      <td>0</td>\n",
       "      <td>0</td>\n",
       "      <td>0</td>\n",
       "      <td>0</td>\n",
       "      <td>0</td>\n",
       "      <td>0</td>\n",
       "      <td>0</td>\n",
       "      <td>1</td>\n",
       "      <td>0</td>\n",
       "      <td>...</td>\n",
       "      <td>0</td>\n",
       "      <td>0</td>\n",
       "      <td>0</td>\n",
       "      <td>0</td>\n",
       "      <td>0</td>\n",
       "      <td>0</td>\n",
       "      <td>0</td>\n",
       "      <td>0</td>\n",
       "      <td>0</td>\n",
       "      <td>0</td>\n",
       "    </tr>\n",
       "    <tr>\n",
       "      <th>313929</th>\n",
       "      <td>0</td>\n",
       "      <td>0</td>\n",
       "      <td>0</td>\n",
       "      <td>0</td>\n",
       "      <td>0</td>\n",
       "      <td>0</td>\n",
       "      <td>0</td>\n",
       "      <td>0</td>\n",
       "      <td>1</td>\n",
       "      <td>0</td>\n",
       "      <td>...</td>\n",
       "      <td>0</td>\n",
       "      <td>0</td>\n",
       "      <td>0</td>\n",
       "      <td>0</td>\n",
       "      <td>0</td>\n",
       "      <td>0</td>\n",
       "      <td>0</td>\n",
       "      <td>0</td>\n",
       "      <td>0</td>\n",
       "      <td>0</td>\n",
       "    </tr>\n",
       "    <tr>\n",
       "      <th>77766</th>\n",
       "      <td>0</td>\n",
       "      <td>0</td>\n",
       "      <td>0</td>\n",
       "      <td>0</td>\n",
       "      <td>0</td>\n",
       "      <td>0</td>\n",
       "      <td>0</td>\n",
       "      <td>0</td>\n",
       "      <td>1</td>\n",
       "      <td>0</td>\n",
       "      <td>...</td>\n",
       "      <td>0</td>\n",
       "      <td>0</td>\n",
       "      <td>0</td>\n",
       "      <td>0</td>\n",
       "      <td>0</td>\n",
       "      <td>0</td>\n",
       "      <td>0</td>\n",
       "      <td>1</td>\n",
       "      <td>0</td>\n",
       "      <td>0</td>\n",
       "    </tr>\n",
       "    <tr>\n",
       "      <th>55966</th>\n",
       "      <td>0</td>\n",
       "      <td>0</td>\n",
       "      <td>0</td>\n",
       "      <td>0</td>\n",
       "      <td>0</td>\n",
       "      <td>0</td>\n",
       "      <td>0</td>\n",
       "      <td>0</td>\n",
       "      <td>0</td>\n",
       "      <td>0</td>\n",
       "      <td>...</td>\n",
       "      <td>0</td>\n",
       "      <td>0</td>\n",
       "      <td>0</td>\n",
       "      <td>0</td>\n",
       "      <td>0</td>\n",
       "      <td>0</td>\n",
       "      <td>0</td>\n",
       "      <td>0</td>\n",
       "      <td>0</td>\n",
       "      <td>0</td>\n",
       "    </tr>\n",
       "  </tbody>\n",
       "</table>\n",
       "<p>5 rows × 296 columns</p>\n",
       "</div>"
      ],
      "text/plain": [
       "        Model_lybra  Model_cc  Model_captiva  Brand_lada  Model_eos  \\\n",
       "105355            0         0              0           0          0   \n",
       "40313             0         0              0           0          0   \n",
       "313929            0         0              0           0          0   \n",
       "77766             0         0              0           0          0   \n",
       "55966             0         0              0           0          0   \n",
       "\n",
       "        Model_1er  Model_aygo  Model_x_trail  FuelType_gasoline  Model_move  \\\n",
       "105355          0           0              0                  0           0   \n",
       "40313           0           0              0                  1           0   \n",
       "313929          0           0              0                  1           0   \n",
       "77766           0           0              0                  1           0   \n",
       "55966           0           0              0                  0           0   \n",
       "\n",
       "        ...  Model_navara  FuelType_unknown  Model_galaxy  Model_5_reihe  \\\n",
       "105355  ...             0                 0             0              0   \n",
       "40313   ...             0                 0             0              0   \n",
       "313929  ...             0                 0             0              0   \n",
       "77766   ...             0                 0             0              0   \n",
       "55966   ...             0                 0             0              0   \n",
       "\n",
       "        Model_tigra  Model_clubman  Model_clio  Brand_mercedes_benz  \\\n",
       "105355            0              0           0                    0   \n",
       "40313             0              0           0                    0   \n",
       "313929            0              0           0                    0   \n",
       "77766             0              0           0                    1   \n",
       "55966             0              0           0                    0   \n",
       "\n",
       "        Model_kalos  Repaired_yes  \n",
       "105355            0             0  \n",
       "40313             0             0  \n",
       "313929            0             0  \n",
       "77766             0             0  \n",
       "55966             0             0  \n",
       "\n",
       "[5 rows x 296 columns]"
      ]
     },
     "metadata": {},
     "output_type": "display_data"
    }
   ],
   "source": [
    "numeric = ['RegistrationYear', 'Power', 'Kilometer', 'NumberOfPictures']\n",
    "\n",
    "scaler = StandardScaler()\n",
    "scaler.fit(features_train_ohe[numeric])\n",
    "features_train_ohe[numeric] = scaler.transform(features_train_ohe[numeric])\n",
    "features_valid_ohe[numeric] = scaler.transform(features_valid_ohe[numeric])\n",
    "features_test_ohe[numeric] = scaler.transform(features_test_ohe[numeric])\n",
    "\n",
    "print(features_train_ohe.shape)\n",
    "display (features_train_ohe.head(5))\n",
    "display (features_test_ohe.head(5))"
   ]
  },
  {
   "cell_type": "markdown",
   "metadata": {},
   "source": [
    "### Запускаю модель линейной регрессии"
   ]
  },
  {
   "cell_type": "code",
   "execution_count": 55,
   "metadata": {},
   "outputs": [
    {
     "name": "stdout",
     "output_type": "stream",
     "text": [
      "RMSE модели линейной регрессии на валидационной выборке: 2552.2002046448615\n",
      "CPU times: user 13.3 s, sys: 4.66 s, total: 18 s\n",
      "Wall time: 17.9 s\n"
     ]
    }
   ],
   "source": [
    "%%time\n",
    "\n",
    "model = LinearRegression()\n",
    "model.fit(features_train_ohe, target_train)\n",
    "predictions_train = model.predict (features_train_ohe)\n",
    "predictions_valid = model.predict(features_valid_ohe)\n",
    "\n",
    "result = mean_squared_error(target_valid, predictions_valid)**0.5\n",
    "print(\"RMSE модели линейной регрессии на валидационной выборке:\", result)"
   ]
  },
  {
   "cell_type": "markdown",
   "metadata": {},
   "source": [
    "### Исследую модель случайного леса"
   ]
  },
  {
   "cell_type": "markdown",
   "metadata": {},
   "source": [
    "#### Для исследования моделей, основанных на деревьях решений, использую порядковое кодирование"
   ]
  },
  {
   "cell_type": "code",
   "execution_count": 56,
   "metadata": {},
   "outputs": [],
   "source": [
    "# порядковое кодирование\n",
    "encoder = OrdinalEncoder(handle_unknown='use_encoded_value', unknown_value=9999)\n",
    "cat_columns = ['VehicleType', 'Model', 'FuelType', 'Brand', 'Repaired', 'Gearbox']\n",
    "encoder.fit(features_train[cat_columns])\n",
    "\n",
    "features_train_ord = features_train.copy()\n",
    "features_valid_ord = features_valid.copy()\n",
    "features_test_ord = features_test.copy()\n",
    "\n",
    "features_train_ord[cat_columns] = encoder.transform(features_train_ord[cat_columns])\n",
    "features_valid_ord[cat_columns] = encoder.transform(features_valid_ord[cat_columns])\n",
    "features_test_ord[cat_columns] = encoder.transform(features_test_ord[cat_columns])"
   ]
  },
  {
   "cell_type": "markdown",
   "metadata": {},
   "source": [
    "#### Масштабирую признаки столбцов"
   ]
  },
  {
   "cell_type": "code",
   "execution_count": 57,
   "metadata": {},
   "outputs": [
    {
     "name": "stdout",
     "output_type": "stream",
     "text": [
      "(218945, 10)\n"
     ]
    },
    {
     "data": {
      "text/html": [
       "<div>\n",
       "<style scoped>\n",
       "    .dataframe tbody tr th:only-of-type {\n",
       "        vertical-align: middle;\n",
       "    }\n",
       "\n",
       "    .dataframe tbody tr th {\n",
       "        vertical-align: top;\n",
       "    }\n",
       "\n",
       "    .dataframe thead th {\n",
       "        text-align: right;\n",
       "    }\n",
       "</style>\n",
       "<table border=\"1\" class=\"dataframe\">\n",
       "  <thead>\n",
       "    <tr style=\"text-align: right;\">\n",
       "      <th></th>\n",
       "      <th>VehicleType</th>\n",
       "      <th>RegistrationYear</th>\n",
       "      <th>Gearbox</th>\n",
       "      <th>Power</th>\n",
       "      <th>Model</th>\n",
       "      <th>Kilometer</th>\n",
       "      <th>FuelType</th>\n",
       "      <th>Brand</th>\n",
       "      <th>Repaired</th>\n",
       "      <th>NumberOfPictures</th>\n",
       "    </tr>\n",
       "  </thead>\n",
       "  <tbody>\n",
       "    <tr>\n",
       "      <th>43948</th>\n",
       "      <td>2.0</td>\n",
       "      <td>-0.138424</td>\n",
       "      <td>1.0</td>\n",
       "      <td>0.610100</td>\n",
       "      <td>42.0</td>\n",
       "      <td>-0.776127</td>\n",
       "      <td>6.0</td>\n",
       "      <td>24.0</td>\n",
       "      <td>0.0</td>\n",
       "      <td>0.0</td>\n",
       "    </tr>\n",
       "    <tr>\n",
       "      <th>98361</th>\n",
       "      <td>2.0</td>\n",
       "      <td>-1.262154</td>\n",
       "      <td>1.0</td>\n",
       "      <td>0.070900</td>\n",
       "      <td>10.0</td>\n",
       "      <td>0.579967</td>\n",
       "      <td>6.0</td>\n",
       "      <td>19.0</td>\n",
       "      <td>0.0</td>\n",
       "      <td>0.0</td>\n",
       "    </tr>\n",
       "    <tr>\n",
       "      <th>153454</th>\n",
       "      <td>7.0</td>\n",
       "      <td>-0.780556</td>\n",
       "      <td>1.0</td>\n",
       "      <td>-1.791791</td>\n",
       "      <td>116.0</td>\n",
       "      <td>0.579967</td>\n",
       "      <td>6.0</td>\n",
       "      <td>37.0</td>\n",
       "      <td>0.0</td>\n",
       "      <td>0.0</td>\n",
       "    </tr>\n",
       "    <tr>\n",
       "      <th>154268</th>\n",
       "      <td>4.0</td>\n",
       "      <td>0.343175</td>\n",
       "      <td>1.0</td>\n",
       "      <td>-0.141512</td>\n",
       "      <td>42.0</td>\n",
       "      <td>0.579967</td>\n",
       "      <td>2.0</td>\n",
       "      <td>24.0</td>\n",
       "      <td>0.0</td>\n",
       "      <td>0.0</td>\n",
       "    </tr>\n",
       "    <tr>\n",
       "      <th>225768</th>\n",
       "      <td>5.0</td>\n",
       "      <td>0.985307</td>\n",
       "      <td>1.0</td>\n",
       "      <td>-0.549997</td>\n",
       "      <td>227.0</td>\n",
       "      <td>-0.776127</td>\n",
       "      <td>6.0</td>\n",
       "      <td>27.0</td>\n",
       "      <td>0.0</td>\n",
       "      <td>0.0</td>\n",
       "    </tr>\n",
       "  </tbody>\n",
       "</table>\n",
       "</div>"
      ],
      "text/plain": [
       "        VehicleType  RegistrationYear  Gearbox     Power  Model  Kilometer  \\\n",
       "43948           2.0         -0.138424      1.0  0.610100   42.0  -0.776127   \n",
       "98361           2.0         -1.262154      1.0  0.070900   10.0   0.579967   \n",
       "153454          7.0         -0.780556      1.0 -1.791791  116.0   0.579967   \n",
       "154268          4.0          0.343175      1.0 -0.141512   42.0   0.579967   \n",
       "225768          5.0          0.985307      1.0 -0.549997  227.0  -0.776127   \n",
       "\n",
       "        FuelType  Brand  Repaired  NumberOfPictures  \n",
       "43948        6.0   24.0       0.0               0.0  \n",
       "98361        6.0   19.0       0.0               0.0  \n",
       "153454       6.0   37.0       0.0               0.0  \n",
       "154268       2.0   24.0       0.0               0.0  \n",
       "225768       6.0   27.0       0.0               0.0  "
      ]
     },
     "metadata": {},
     "output_type": "display_data"
    },
    {
     "data": {
      "text/html": [
       "<div>\n",
       "<style scoped>\n",
       "    .dataframe tbody tr th:only-of-type {\n",
       "        vertical-align: middle;\n",
       "    }\n",
       "\n",
       "    .dataframe tbody tr th {\n",
       "        vertical-align: top;\n",
       "    }\n",
       "\n",
       "    .dataframe thead th {\n",
       "        text-align: right;\n",
       "    }\n",
       "</style>\n",
       "<table border=\"1\" class=\"dataframe\">\n",
       "  <thead>\n",
       "    <tr style=\"text-align: right;\">\n",
       "      <th></th>\n",
       "      <th>VehicleType</th>\n",
       "      <th>RegistrationYear</th>\n",
       "      <th>Gearbox</th>\n",
       "      <th>Power</th>\n",
       "      <th>Model</th>\n",
       "      <th>Kilometer</th>\n",
       "      <th>FuelType</th>\n",
       "      <th>Brand</th>\n",
       "      <th>Repaired</th>\n",
       "      <th>NumberOfPictures</th>\n",
       "    </tr>\n",
       "  </thead>\n",
       "  <tbody>\n",
       "    <tr>\n",
       "      <th>105355</th>\n",
       "      <td>8.0</td>\n",
       "      <td>0.664241</td>\n",
       "      <td>1.0</td>\n",
       "      <td>0.103579</td>\n",
       "      <td>174.0</td>\n",
       "      <td>0.579967</td>\n",
       "      <td>4.0</td>\n",
       "      <td>23.0</td>\n",
       "      <td>0.0</td>\n",
       "      <td>0.0</td>\n",
       "    </tr>\n",
       "    <tr>\n",
       "      <th>40313</th>\n",
       "      <td>8.0</td>\n",
       "      <td>0.343175</td>\n",
       "      <td>1.0</td>\n",
       "      <td>0.495724</td>\n",
       "      <td>170.0</td>\n",
       "      <td>0.579967</td>\n",
       "      <td>2.0</td>\n",
       "      <td>37.0</td>\n",
       "      <td>0.0</td>\n",
       "      <td>0.0</td>\n",
       "    </tr>\n",
       "    <tr>\n",
       "      <th>313929</th>\n",
       "      <td>8.0</td>\n",
       "      <td>0.824774</td>\n",
       "      <td>1.0</td>\n",
       "      <td>0.544742</td>\n",
       "      <td>17.0</td>\n",
       "      <td>0.579967</td>\n",
       "      <td>2.0</td>\n",
       "      <td>19.0</td>\n",
       "      <td>0.0</td>\n",
       "      <td>0.0</td>\n",
       "    </tr>\n",
       "    <tr>\n",
       "      <th>77766</th>\n",
       "      <td>4.0</td>\n",
       "      <td>1.145840</td>\n",
       "      <td>1.0</td>\n",
       "      <td>0.985906</td>\n",
       "      <td>59.0</td>\n",
       "      <td>0.579967</td>\n",
       "      <td>2.0</td>\n",
       "      <td>20.0</td>\n",
       "      <td>0.0</td>\n",
       "      <td>0.0</td>\n",
       "    </tr>\n",
       "    <tr>\n",
       "      <th>55966</th>\n",
       "      <td>6.0</td>\n",
       "      <td>1.306373</td>\n",
       "      <td>1.0</td>\n",
       "      <td>0.201615</td>\n",
       "      <td>219.0</td>\n",
       "      <td>-2.674659</td>\n",
       "      <td>6.0</td>\n",
       "      <td>37.0</td>\n",
       "      <td>0.0</td>\n",
       "      <td>0.0</td>\n",
       "    </tr>\n",
       "  </tbody>\n",
       "</table>\n",
       "</div>"
      ],
      "text/plain": [
       "        VehicleType  RegistrationYear  Gearbox     Power  Model  Kilometer  \\\n",
       "105355          8.0          0.664241      1.0  0.103579  174.0   0.579967   \n",
       "40313           8.0          0.343175      1.0  0.495724  170.0   0.579967   \n",
       "313929          8.0          0.824774      1.0  0.544742   17.0   0.579967   \n",
       "77766           4.0          1.145840      1.0  0.985906   59.0   0.579967   \n",
       "55966           6.0          1.306373      1.0  0.201615  219.0  -2.674659   \n",
       "\n",
       "        FuelType  Brand  Repaired  NumberOfPictures  \n",
       "105355       4.0   23.0       0.0               0.0  \n",
       "40313        2.0   37.0       0.0               0.0  \n",
       "313929       2.0   19.0       0.0               0.0  \n",
       "77766        2.0   20.0       0.0               0.0  \n",
       "55966        6.0   37.0       0.0               0.0  "
      ]
     },
     "metadata": {},
     "output_type": "display_data"
    }
   ],
   "source": [
    "numeric = ['RegistrationYear', 'Power', 'Kilometer', 'NumberOfPictures']\n",
    "\n",
    "scaler = StandardScaler()\n",
    "scaler.fit(features_train_ord[numeric])\n",
    "features_train_ord[numeric] = scaler.transform(features_train_ord[numeric])\n",
    "features_valid_ord[numeric] = scaler.transform(features_valid_ord[numeric])\n",
    "features_test_ord[numeric] = scaler.transform(features_test_ord[numeric])\n",
    "\n",
    "print(features_train_ord.shape)\n",
    "display (features_train_ord.head(5))\n",
    "display (features_test_ord.head(5))"
   ]
  },
  {
   "cell_type": "markdown",
   "metadata": {},
   "source": [
    "#### Исследую модель случайного леса"
   ]
  },
  {
   "cell_type": "code",
   "execution_count": 58,
   "metadata": {},
   "outputs": [
    {
     "name": "stdout",
     "output_type": "stream",
     "text": [
      "RMSE наилучшей модели на валидационной выборке: 3601.6694522232688\n",
      "Какие гиперпараметры дали наилучший результат: RandomForestRegressor(max_depth=1, n_estimators=1, random_state=12345)\n",
      "CPU times: user 15.3 s, sys: 2.15 ms, total: 15.3 s\n",
      "Wall time: 15.3 s\n"
     ]
    }
   ],
   "source": [
    "%%time\n",
    "\n",
    "best_model = None\n",
    "best_result = 0\n",
    "for est in range(1, 7):\n",
    "    for depth in range(1, 7):\n",
    "        model = RandomForestRegressor(random_state=12345, n_estimators=est, max_depth=depth)\n",
    "        model.fit(features_train_ord, target_train)\n",
    "        predictions_valid = model.predict(features_valid_ord)\n",
    "        result = mean_squared_error(target_valid, predictions_valid)**0.5\n",
    "        if result > best_result:\n",
    "            best_model = model\n",
    "            best_result = result\n",
    "\n",
    "print(\"RMSE наилучшей модели на валидационной выборке:\", best_result)\n",
    "print (\"Какие гиперпараметры дали наилучший результат:\", best_model)"
   ]
  },
  {
   "cell_type": "markdown",
   "metadata": {},
   "source": [
    "RMSE наилучшей модели на валидационной выборке: 3601.6694522232688\\\n",
    "Какие гиперпараметры дали наилучший результат: RandomForestRegressor(max_depth=1, n_estimators=1, random_state=12345)\\\n",
    "CPU times: user 13.3 s, sys: 0 ns, total: 13.3 s\\\n",
    "Wall time: 13.3 s"
   ]
  },
  {
   "cell_type": "markdown",
   "metadata": {},
   "source": [
    "### Исследую модель решающего дерева"
   ]
  },
  {
   "cell_type": "code",
   "execution_count": 59,
   "metadata": {},
   "outputs": [
    {
     "name": "stdout",
     "output_type": "stream",
     "text": [
      "RMSE наилучшей модели на валидационной выборке: 3601.673883517605\n",
      "DecisionTreeRegressor(max_depth=1, random_state=12345)\n",
      "CPU times: user 1.33 s, sys: 0 ns, total: 1.33 s\n",
      "Wall time: 1.34 s\n"
     ]
    }
   ],
   "source": [
    "%%time\n",
    "\n",
    "model = DecisionTreeRegressor(random_state=12345)\n",
    "model.fit(features_train_ord, target_train)\n",
    "\n",
    "predictions_train = model.predict(features_train_ord)\n",
    "predictions_test = model.predict(features_test_ord)\n",
    "\n",
    "best_model = None\n",
    "best_result = 0\n",
    "RMSE = []\n",
    "depth_tree = []\n",
    "for depth in range (1, 5):\n",
    "    model = DecisionTreeRegressor(random_state=12345, max_depth=depth)\n",
    "    model.fit(features_train_ord, target_train)\n",
    "    predictions_valid = model.predict(features_valid_ord)\n",
    "    result = mean_squared_error(target_valid, predictions_valid)**0.5\n",
    "    RMSE.append(result)\n",
    "    depth_tree.append(depth)\n",
    "    if result > best_result:\n",
    "        best_model = model\n",
    "        best_result = result\n",
    "        \n",
    "print(\"RMSE наилучшей модели на валидационной выборке:\", best_result)\n",
    "print (best_model)"
   ]
  },
  {
   "cell_type": "markdown",
   "metadata": {},
   "source": [
    "RMSE наилучшей модели на валидационной выборке: 3601.673883517605\\\n",
    "DecisionTreeRegressor(max_depth=1, random_state=12345)\\\n",
    "CPU times: user 1.35 s, sys: 0 ns, total: 1.35 s\\\n",
    "Wall time: 1.35 s"
   ]
  },
  {
   "cell_type": "markdown",
   "metadata": {},
   "source": [
    "### Исследую модель LightGBM"
   ]
  },
  {
   "cell_type": "code",
   "execution_count": 60,
   "metadata": {},
   "outputs": [
    {
     "data": {
      "text/plain": [
       "(218945, 296)"
      ]
     },
     "execution_count": 60,
     "metadata": {},
     "output_type": "execute_result"
    }
   ],
   "source": [
    "features_train_ohe.shape"
   ]
  },
  {
   "cell_type": "code",
   "execution_count": 61,
   "metadata": {},
   "outputs": [
    {
     "name": "stdout",
     "output_type": "stream",
     "text": [
      "[LightGBM] [Warning] Auto-choosing row-wise multi-threading, the overhead of testing was 0.011335 seconds.\n",
      "You can set `force_row_wise=true` to remove the overhead.\n",
      "And if memory is not enough, you can set `force_col_wise=true`.\n",
      "[LightGBM] [Info] Total Bins 869\n",
      "[LightGBM] [Info] Number of data points in the train set: 218945, number of used features: 287\n",
      "[LightGBM] [Warning] No further splits with positive gain, best gain: -inf\n",
      "[LightGBM] [Warning] Stopped training because there are no more leaves that meet the split requirements\n",
      "[1]\tvalid_0's l2: 0\n",
      "[LightGBM] [Warning] No further splits with positive gain, best gain: -inf\n",
      "[LightGBM] [Warning] Stopped training because there are no more leaves that meet the split requirements\n",
      "[2]\tvalid_0's l2: 0\n",
      "[LightGBM] [Warning] No further splits with positive gain, best gain: -inf\n",
      "[LightGBM] [Warning] Stopped training because there are no more leaves that meet the split requirements\n",
      "[3]\tvalid_0's l2: 0\n",
      "[LightGBM] [Warning] No further splits with positive gain, best gain: -inf\n",
      "[LightGBM] [Warning] Stopped training because there are no more leaves that meet the split requirements\n",
      "[4]\tvalid_0's l2: 0\n",
      "[LightGBM] [Warning] No further splits with positive gain, best gain: -inf\n",
      "[LightGBM] [Warning] Stopped training because there are no more leaves that meet the split requirements\n",
      "[5]\tvalid_0's l2: 0\n",
      "[LightGBM] [Warning] No further splits with positive gain, best gain: -inf\n",
      "[LightGBM] [Warning] Stopped training because there are no more leaves that meet the split requirements\n",
      "[6]\tvalid_0's l2: 0\n",
      "[LightGBM] [Warning] No further splits with positive gain, best gain: -inf\n",
      "[LightGBM] [Warning] Stopped training because there are no more leaves that meet the split requirements\n",
      "[7]\tvalid_0's l2: 0\n",
      "[LightGBM] [Warning] No further splits with positive gain, best gain: -inf\n",
      "[LightGBM] [Warning] Stopped training because there are no more leaves that meet the split requirements\n",
      "[8]\tvalid_0's l2: 0\n",
      "[LightGBM] [Warning] No further splits with positive gain, best gain: -inf\n",
      "[LightGBM] [Warning] Stopped training because there are no more leaves that meet the split requirements\n",
      "[9]\tvalid_0's l2: 0\n",
      "[LightGBM] [Warning] No further splits with positive gain, best gain: -inf\n",
      "[LightGBM] [Warning] Stopped training because there are no more leaves that meet the split requirements\n",
      "[10]\tvalid_0's l2: 0\n",
      "CPU times: user 3.07 s, sys: 373 ms, total: 3.45 s\n",
      "Wall time: 3.42 s\n"
     ]
    }
   ],
   "source": [
    "%%time\n",
    "\n",
    "\n",
    "features_train_lgb = lgb.Dataset(features_train_ohe, label=None \n",
    "                                )\n",
    "features_valid_lgb = lgb.Dataset(features_valid_ohe, label=None\n",
    "                                )\n",
    "target_valid_lgb = lgb.Dataset(target_valid)\n",
    "\n",
    "params = {'objective': 'regression'}\n",
    "\n",
    "model_lgb = lgb.train(params,\n",
    "                 train_set=features_train_lgb,\n",
    "                 valid_sets=features_valid_lgb,\n",
    "                 num_boost_round=10)"
   ]
  },
  {
   "cell_type": "code",
   "execution_count": 62,
   "metadata": {},
   "outputs": [
    {
     "name": "stdout",
     "output_type": "stream",
     "text": [
      "RMSE модели на валидационной выборке: 6523.899907517743\n"
     ]
    }
   ],
   "source": [
    "predictions_valid = model_lgb.predict(features_valid_ohe, pred_leaf=True)\n",
    "#predictions_valid = model_lgb.predict(features_valid_lgb)\n",
    "result = mean_squared_error(target_valid, predictions_valid)**0.5\n",
    "print(\"RMSE модели на валидационной выборке:\", result)"
   ]
  },
  {
   "cell_type": "markdown",
   "metadata": {},
   "source": [
    "## Анализ моделей"
   ]
  },
  {
   "cell_type": "markdown",
   "metadata": {},
   "source": [
    "Выше я исследовала модели линейной регрессии, дерево решений, случайный лес и LightGBM.\\\n",
    "Самый лучший результат показала модель линейной регрессии: RMSE=2552. Поэтому, ниже я буду тестировать модель линейной регрессии на тестовых данных."
   ]
  },
  {
   "cell_type": "markdown",
   "metadata": {},
   "source": [
    "## Тестирование лучшей модели"
   ]
  },
  {
   "cell_type": "markdown",
   "metadata": {},
   "source": [
    "### Объединяю тренировочные и валидационные данные"
   ]
  },
  {
   "cell_type": "code",
   "execution_count": 63,
   "metadata": {},
   "outputs": [],
   "source": [
    "features_train_valid = pd.concat([features_train_ohe, features_valid_ohe])\n",
    "target_train_valid = pd.concat([target_train, target_valid])"
   ]
  },
  {
   "cell_type": "markdown",
   "metadata": {},
   "source": [
    "### Тестирую модель линейной регрессии на объединенных данных"
   ]
  },
  {
   "cell_type": "code",
   "execution_count": 64,
   "metadata": {},
   "outputs": [
    {
     "name": "stdout",
     "output_type": "stream",
     "text": [
      "RMSE модели линейной регрессии на валидационной выборке: 2546.0970967341386\n",
      "CPU times: user 18 s, sys: 4.86 s, total: 22.9 s\n",
      "Wall time: 22.9 s\n"
     ]
    }
   ],
   "source": [
    "%%time\n",
    "\n",
    "model = LinearRegression()\n",
    "model.fit(features_train_valid, target_train_valid)\n",
    "predictions_test = model.predict(features_test_ohe)\n",
    "\n",
    "result = mean_squared_error(target_test, predictions_test)**0.5\n",
    "print(\"RMSE модели линейной регрессии на валидационной выборке:\", result)"
   ]
  },
  {
   "cell_type": "markdown",
   "metadata": {},
   "source": [
    "## Вывод"
   ]
  },
  {
   "cell_type": "markdown",
   "metadata": {},
   "source": [
    "Сервис по продаже автомобилей с пробегом «Не бит, не крашен» разрабатывает приложение для привлечения новых клиентов. В нём можно быстро узнать рыночную стоимость своего автомобиля. В вашем распоряжении исторические данные: технические характеристики, комплектации и цены автомобилей. Вам нужно построить модель для определения стоимости.\n",
    "\n",
    "Заказчику важны:\n",
    "\n",
    "качество предсказания;\n",
    "скорость предсказания;\n",
    "время обучения.\\\n",
    "\\\n",
    "В процессе исследования были изучены модели линейной регрессии, решающего дерева, случайного леса, LightGBM. Наилучший результат показала модель линейной регрессии.\\\n",
    "\\\n",
    "Проверка модели линейной регрессии на тестовой выборке показала ее работоспособность.\\\n",
    "RMSE модели линейной регрессии на валидационной выборке: 2546.0967646442464\\\n",
    "Время работы модели: 22.9 s"
   ]
  }
 ],
 "metadata": {
  "ExecuteTimeLog": [
   {
    "duration": 1642,
    "start_time": "2023-04-25T03:15:21.924Z"
   },
   {
    "duration": 1357,
    "start_time": "2023-04-25T03:15:25.074Z"
   },
   {
    "duration": 26,
    "start_time": "2023-04-25T03:25:37.576Z"
   },
   {
    "duration": 41,
    "start_time": "2023-04-25T03:28:08.357Z"
   },
   {
    "duration": 39,
    "start_time": "2023-04-25T03:28:23.421Z"
   },
   {
    "duration": 19,
    "start_time": "2023-04-25T03:28:25.031Z"
   },
   {
    "duration": 18,
    "start_time": "2023-04-25T03:30:41.849Z"
   },
   {
    "duration": 18,
    "start_time": "2023-04-25T03:32:36.886Z"
   },
   {
    "duration": 18,
    "start_time": "2023-04-25T03:32:46.769Z"
   },
   {
    "duration": 19,
    "start_time": "2023-04-25T03:33:48.923Z"
   },
   {
    "duration": 19,
    "start_time": "2023-04-25T03:34:07.269Z"
   },
   {
    "duration": 90,
    "start_time": "2023-04-25T03:34:14.441Z"
   },
   {
    "duration": 17,
    "start_time": "2023-04-25T03:34:18.979Z"
   },
   {
    "duration": 28,
    "start_time": "2023-04-25T03:37:10.655Z"
   },
   {
    "duration": 193,
    "start_time": "2023-04-25T03:46:46.472Z"
   },
   {
    "duration": 23,
    "start_time": "2023-04-25T03:49:29.406Z"
   },
   {
    "duration": 19,
    "start_time": "2023-04-25T03:50:24.806Z"
   },
   {
    "duration": 19,
    "start_time": "2023-04-25T03:50:56.618Z"
   },
   {
    "duration": 15,
    "start_time": "2023-04-25T03:57:28.433Z"
   },
   {
    "duration": 8,
    "start_time": "2023-04-25T03:57:38.478Z"
   },
   {
    "duration": 11,
    "start_time": "2023-04-25T03:57:47.148Z"
   },
   {
    "duration": 1219,
    "start_time": "2023-04-25T03:58:22.536Z"
   },
   {
    "duration": 23,
    "start_time": "2023-04-25T04:03:00.461Z"
   },
   {
    "duration": 47,
    "start_time": "2023-04-25T04:03:21.204Z"
   },
   {
    "duration": 90,
    "start_time": "2023-04-25T04:14:49.810Z"
   },
   {
    "duration": 40,
    "start_time": "2023-04-25T04:18:05.123Z"
   },
   {
    "duration": 18,
    "start_time": "2023-04-25T04:18:59.217Z"
   },
   {
    "duration": 1523,
    "start_time": "2023-04-26T10:23:09.508Z"
   },
   {
    "duration": 3110,
    "start_time": "2023-04-26T10:23:11.033Z"
   },
   {
    "duration": 20,
    "start_time": "2023-04-26T10:23:14.144Z"
   },
   {
    "duration": 27,
    "start_time": "2023-04-26T10:23:14.166Z"
   },
   {
    "duration": 21,
    "start_time": "2023-04-26T10:23:14.195Z"
   },
   {
    "duration": 28,
    "start_time": "2023-04-26T10:23:14.217Z"
   },
   {
    "duration": 15,
    "start_time": "2023-04-26T10:23:14.247Z"
   },
   {
    "duration": 35,
    "start_time": "2023-04-26T10:23:14.264Z"
   },
   {
    "duration": 78,
    "start_time": "2023-04-26T10:23:14.305Z"
   },
   {
    "duration": 35,
    "start_time": "2023-04-26T10:23:14.385Z"
   },
   {
    "duration": 16,
    "start_time": "2023-04-26T10:23:14.422Z"
   },
   {
    "duration": 18,
    "start_time": "2023-04-26T10:23:17.907Z"
   },
   {
    "duration": 5,
    "start_time": "2023-04-26T10:29:20.531Z"
   },
   {
    "duration": 941,
    "start_time": "2023-04-26T10:29:57.605Z"
   },
   {
    "duration": 20,
    "start_time": "2023-04-26T10:30:03.292Z"
   },
   {
    "duration": 5,
    "start_time": "2023-04-26T10:31:01.639Z"
   },
   {
    "duration": 5,
    "start_time": "2023-04-26T10:31:40.041Z"
   },
   {
    "duration": 15,
    "start_time": "2023-04-26T10:32:14.313Z"
   },
   {
    "duration": 17,
    "start_time": "2023-04-26T10:32:53.329Z"
   },
   {
    "duration": 21,
    "start_time": "2023-04-26T10:34:38.732Z"
   },
   {
    "duration": 18,
    "start_time": "2023-04-26T10:34:48.306Z"
   },
   {
    "duration": 5,
    "start_time": "2023-04-26T10:36:35.136Z"
   },
   {
    "duration": 5,
    "start_time": "2023-04-26T10:36:55.419Z"
   },
   {
    "duration": 15,
    "start_time": "2023-04-26T10:38:44.768Z"
   },
   {
    "duration": 14,
    "start_time": "2023-04-26T10:39:37.176Z"
   },
   {
    "duration": 15,
    "start_time": "2023-04-26T10:39:57.523Z"
   },
   {
    "duration": 18,
    "start_time": "2023-04-26T10:40:14.821Z"
   },
   {
    "duration": 26,
    "start_time": "2023-04-26T10:43:10.004Z"
   },
   {
    "duration": 18,
    "start_time": "2023-04-26T10:47:52.705Z"
   },
   {
    "duration": 25,
    "start_time": "2023-04-26T10:48:02.637Z"
   },
   {
    "duration": 21,
    "start_time": "2023-04-26T10:48:36.155Z"
   },
   {
    "duration": 20,
    "start_time": "2023-04-26T10:49:15.326Z"
   },
   {
    "duration": 3,
    "start_time": "2023-04-26T10:52:22.110Z"
   },
   {
    "duration": 846,
    "start_time": "2023-04-26T10:52:33.810Z"
   },
   {
    "duration": 803,
    "start_time": "2023-04-26T10:52:48.930Z"
   },
   {
    "duration": 917,
    "start_time": "2023-04-26T10:53:36.303Z"
   },
   {
    "duration": 900,
    "start_time": "2023-04-26T10:54:40.647Z"
   },
   {
    "duration": 9,
    "start_time": "2023-04-26T10:55:00.618Z"
   },
   {
    "duration": 820,
    "start_time": "2023-04-26T10:55:14.304Z"
   },
   {
    "duration": 811,
    "start_time": "2023-04-26T10:57:06.005Z"
   },
   {
    "duration": 786,
    "start_time": "2023-04-26T10:58:02.598Z"
   },
   {
    "duration": 810,
    "start_time": "2023-04-26T11:09:57.277Z"
   },
   {
    "duration": 10,
    "start_time": "2023-04-26T11:10:31.040Z"
   },
   {
    "duration": 13,
    "start_time": "2023-04-26T11:13:01.110Z"
   },
   {
    "duration": 10,
    "start_time": "2023-04-26T11:18:06.705Z"
   },
   {
    "duration": 4,
    "start_time": "2023-04-26T11:18:29.184Z"
   },
   {
    "duration": 12,
    "start_time": "2023-04-26T11:56:09.277Z"
   },
   {
    "duration": 86,
    "start_time": "2023-04-26T12:06:03.977Z"
   },
   {
    "duration": 90,
    "start_time": "2023-04-26T12:06:35.778Z"
   },
   {
    "duration": 78,
    "start_time": "2023-04-26T12:07:54.594Z"
   },
   {
    "duration": 56,
    "start_time": "2023-04-26T12:08:39.121Z"
   },
   {
    "duration": 935,
    "start_time": "2023-04-26T12:20:35.923Z"
   },
   {
    "duration": 2,
    "start_time": "2023-04-26T12:22:39.025Z"
   },
   {
    "duration": 11,
    "start_time": "2023-04-26T12:22:46.815Z"
   },
   {
    "duration": 4,
    "start_time": "2023-04-26T12:23:05.140Z"
   },
   {
    "duration": 31,
    "start_time": "2023-04-26T12:26:37.251Z"
   },
   {
    "duration": 49,
    "start_time": "2023-04-26T12:27:22.991Z"
   },
   {
    "duration": 26,
    "start_time": "2023-04-26T12:29:19.523Z"
   },
   {
    "duration": 31,
    "start_time": "2023-04-26T12:29:36.706Z"
   },
   {
    "duration": 121,
    "start_time": "2023-04-26T12:30:06.127Z"
   },
   {
    "duration": 22,
    "start_time": "2023-04-26T13:35:01.957Z"
   },
   {
    "duration": 15,
    "start_time": "2023-04-26T13:35:20.342Z"
   },
   {
    "duration": 169,
    "start_time": "2023-04-26T13:35:40.341Z"
   },
   {
    "duration": 50,
    "start_time": "2023-04-27T09:40:06.637Z"
   },
   {
    "duration": 1488,
    "start_time": "2023-04-27T09:40:11.633Z"
   },
   {
    "duration": 2893,
    "start_time": "2023-04-27T09:40:13.123Z"
   },
   {
    "duration": 22,
    "start_time": "2023-04-27T09:40:16.018Z"
   },
   {
    "duration": 17,
    "start_time": "2023-04-27T09:40:16.042Z"
   },
   {
    "duration": 31,
    "start_time": "2023-04-27T09:40:16.061Z"
   },
   {
    "duration": 19,
    "start_time": "2023-04-27T09:40:16.094Z"
   },
   {
    "duration": 17,
    "start_time": "2023-04-27T09:40:16.115Z"
   },
   {
    "duration": 24,
    "start_time": "2023-04-27T09:40:16.133Z"
   },
   {
    "duration": 36,
    "start_time": "2023-04-27T09:40:16.159Z"
   },
   {
    "duration": 16,
    "start_time": "2023-04-27T09:40:16.198Z"
   },
   {
    "duration": 93,
    "start_time": "2023-04-27T09:40:16.215Z"
   },
   {
    "duration": 23,
    "start_time": "2023-04-27T09:40:16.310Z"
   },
   {
    "duration": 16,
    "start_time": "2023-04-27T09:40:16.334Z"
   },
   {
    "duration": 8,
    "start_time": "2023-04-27T09:40:16.352Z"
   },
   {
    "duration": 26,
    "start_time": "2023-04-27T09:40:16.361Z"
   },
   {
    "duration": 5,
    "start_time": "2023-04-27T09:40:16.389Z"
   },
   {
    "duration": 18,
    "start_time": "2023-04-27T09:40:16.396Z"
   },
   {
    "duration": 26,
    "start_time": "2023-04-27T09:40:16.416Z"
   },
   {
    "duration": 18,
    "start_time": "2023-04-27T09:40:16.443Z"
   },
   {
    "duration": 20,
    "start_time": "2023-04-27T09:40:16.485Z"
   },
   {
    "duration": 18,
    "start_time": "2023-04-27T09:40:16.507Z"
   },
   {
    "duration": 18,
    "start_time": "2023-04-27T09:40:16.527Z"
   },
   {
    "duration": 41,
    "start_time": "2023-04-27T09:40:16.547Z"
   },
   {
    "duration": 25,
    "start_time": "2023-04-27T09:40:16.590Z"
   },
   {
    "duration": 29,
    "start_time": "2023-04-27T09:40:16.617Z"
   },
   {
    "duration": 17,
    "start_time": "2023-04-27T09:40:16.647Z"
   },
   {
    "duration": 36,
    "start_time": "2023-04-27T09:40:16.666Z"
   },
   {
    "duration": 24,
    "start_time": "2023-04-27T09:40:16.705Z"
   },
   {
    "duration": 28,
    "start_time": "2023-04-27T09:40:16.731Z"
   },
   {
    "duration": 170,
    "start_time": "2023-04-27T09:40:16.760Z"
   },
   {
    "duration": 235,
    "start_time": "2023-04-27T09:40:16.932Z"
   },
   {
    "duration": 50,
    "start_time": "2023-04-27T09:41:46.740Z"
   },
   {
    "duration": 1444,
    "start_time": "2023-04-27T09:41:52.384Z"
   },
   {
    "duration": 2999,
    "start_time": "2023-04-27T09:41:53.830Z"
   },
   {
    "duration": 24,
    "start_time": "2023-04-27T09:41:56.831Z"
   },
   {
    "duration": 34,
    "start_time": "2023-04-27T09:41:56.858Z"
   },
   {
    "duration": 27,
    "start_time": "2023-04-27T09:41:56.894Z"
   },
   {
    "duration": 53,
    "start_time": "2023-04-27T09:41:56.923Z"
   },
   {
    "duration": 23,
    "start_time": "2023-04-27T09:41:56.977Z"
   },
   {
    "duration": 38,
    "start_time": "2023-04-27T09:41:57.002Z"
   },
   {
    "duration": 23,
    "start_time": "2023-04-27T09:41:57.042Z"
   },
   {
    "duration": 20,
    "start_time": "2023-04-27T09:41:57.068Z"
   },
   {
    "duration": 102,
    "start_time": "2023-04-27T09:41:57.090Z"
   },
   {
    "duration": 28,
    "start_time": "2023-04-27T09:41:57.194Z"
   },
   {
    "duration": 67,
    "start_time": "2023-04-27T09:41:57.224Z"
   },
   {
    "duration": 5,
    "start_time": "2023-04-27T09:41:57.293Z"
   },
   {
    "duration": 5,
    "start_time": "2023-04-27T09:41:57.300Z"
   },
   {
    "duration": 5,
    "start_time": "2023-04-27T09:41:57.306Z"
   },
   {
    "duration": 18,
    "start_time": "2023-04-27T09:41:57.312Z"
   },
   {
    "duration": 22,
    "start_time": "2023-04-27T09:41:57.332Z"
   },
   {
    "duration": 18,
    "start_time": "2023-04-27T09:41:57.386Z"
   },
   {
    "duration": 22,
    "start_time": "2023-04-27T09:41:57.405Z"
   },
   {
    "duration": 19,
    "start_time": "2023-04-27T09:41:57.429Z"
   },
   {
    "duration": 44,
    "start_time": "2023-04-27T09:41:57.449Z"
   },
   {
    "duration": 19,
    "start_time": "2023-04-27T09:41:57.495Z"
   },
   {
    "duration": 23,
    "start_time": "2023-04-27T09:41:57.516Z"
   },
   {
    "duration": 44,
    "start_time": "2023-04-27T09:41:57.541Z"
   },
   {
    "duration": 18,
    "start_time": "2023-04-27T09:41:57.587Z"
   },
   {
    "duration": 18,
    "start_time": "2023-04-27T09:41:57.607Z"
   },
   {
    "duration": 29,
    "start_time": "2023-04-27T09:41:57.628Z"
   },
   {
    "duration": 32,
    "start_time": "2023-04-27T09:41:57.660Z"
   },
   {
    "duration": 146,
    "start_time": "2023-04-27T09:41:57.694Z"
   },
   {
    "duration": 243,
    "start_time": "2023-04-27T09:41:57.842Z"
   },
   {
    "duration": 1403,
    "start_time": "2023-04-27T09:42:53.716Z"
   },
   {
    "duration": 2928,
    "start_time": "2023-04-27T09:42:55.122Z"
   },
   {
    "duration": 20,
    "start_time": "2023-04-27T09:42:58.052Z"
   },
   {
    "duration": 27,
    "start_time": "2023-04-27T09:42:58.074Z"
   },
   {
    "duration": 18,
    "start_time": "2023-04-27T09:42:58.103Z"
   },
   {
    "duration": 30,
    "start_time": "2023-04-27T09:42:58.122Z"
   },
   {
    "duration": 31,
    "start_time": "2023-04-27T09:42:58.154Z"
   },
   {
    "duration": 24,
    "start_time": "2023-04-27T09:42:58.187Z"
   },
   {
    "duration": 18,
    "start_time": "2023-04-27T09:42:58.213Z"
   },
   {
    "duration": 52,
    "start_time": "2023-04-27T09:42:58.233Z"
   },
   {
    "duration": 85,
    "start_time": "2023-04-27T09:42:58.288Z"
   },
   {
    "duration": 30,
    "start_time": "2023-04-27T09:42:58.375Z"
   },
   {
    "duration": 20,
    "start_time": "2023-04-27T09:42:58.406Z"
   },
   {
    "duration": 5,
    "start_time": "2023-04-27T09:42:58.427Z"
   },
   {
    "duration": 5,
    "start_time": "2023-04-27T09:42:58.434Z"
   },
   {
    "duration": 47,
    "start_time": "2023-04-27T09:42:58.440Z"
   },
   {
    "duration": 20,
    "start_time": "2023-04-27T09:42:58.489Z"
   },
   {
    "duration": 23,
    "start_time": "2023-04-27T09:42:58.511Z"
   },
   {
    "duration": 21,
    "start_time": "2023-04-27T09:42:58.537Z"
   },
   {
    "duration": 49,
    "start_time": "2023-04-27T09:42:58.559Z"
   },
   {
    "duration": 34,
    "start_time": "2023-04-27T09:42:58.609Z"
   },
   {
    "duration": 20,
    "start_time": "2023-04-27T09:42:58.645Z"
   },
   {
    "duration": 27,
    "start_time": "2023-04-27T09:42:58.666Z"
   },
   {
    "duration": 29,
    "start_time": "2023-04-27T09:42:58.695Z"
   },
   {
    "duration": 23,
    "start_time": "2023-04-27T09:42:58.726Z"
   },
   {
    "duration": 17,
    "start_time": "2023-04-27T09:42:58.751Z"
   },
   {
    "duration": 19,
    "start_time": "2023-04-27T09:42:58.786Z"
   },
   {
    "duration": 30,
    "start_time": "2023-04-27T09:42:58.808Z"
   },
   {
    "duration": 18,
    "start_time": "2023-04-27T09:42:58.840Z"
   },
   {
    "duration": 155,
    "start_time": "2023-04-27T09:42:58.860Z"
   },
   {
    "duration": 246,
    "start_time": "2023-04-27T09:42:59.018Z"
   },
   {
    "duration": 59,
    "start_time": "2023-04-27T09:43:43.901Z"
   },
   {
    "duration": 1318,
    "start_time": "2023-04-27T09:43:51.719Z"
   },
   {
    "duration": 2926,
    "start_time": "2023-04-27T09:43:53.038Z"
   },
   {
    "duration": 25,
    "start_time": "2023-04-27T09:43:55.966Z"
   },
   {
    "duration": 30,
    "start_time": "2023-04-27T09:43:55.993Z"
   },
   {
    "duration": 19,
    "start_time": "2023-04-27T09:43:56.025Z"
   },
   {
    "duration": 36,
    "start_time": "2023-04-27T09:43:56.046Z"
   },
   {
    "duration": 17,
    "start_time": "2023-04-27T09:43:56.084Z"
   },
   {
    "duration": 23,
    "start_time": "2023-04-27T09:43:56.102Z"
   },
   {
    "duration": 19,
    "start_time": "2023-04-27T09:43:56.126Z"
   },
   {
    "duration": 22,
    "start_time": "2023-04-27T09:43:56.148Z"
   },
   {
    "duration": 94,
    "start_time": "2023-04-27T09:43:56.172Z"
   },
   {
    "duration": 34,
    "start_time": "2023-04-27T09:43:56.267Z"
   },
   {
    "duration": 17,
    "start_time": "2023-04-27T09:43:56.303Z"
   },
   {
    "duration": 13,
    "start_time": "2023-04-27T09:43:56.321Z"
   },
   {
    "duration": 12,
    "start_time": "2023-04-27T09:43:56.335Z"
   },
   {
    "duration": 9,
    "start_time": "2023-04-27T09:43:56.349Z"
   },
   {
    "duration": 32,
    "start_time": "2023-04-27T09:43:56.359Z"
   },
   {
    "duration": 23,
    "start_time": "2023-04-27T09:43:56.393Z"
   },
   {
    "duration": 19,
    "start_time": "2023-04-27T09:43:56.418Z"
   },
   {
    "duration": 29,
    "start_time": "2023-04-27T09:43:56.438Z"
   },
   {
    "duration": 34,
    "start_time": "2023-04-27T09:43:56.469Z"
   },
   {
    "duration": 20,
    "start_time": "2023-04-27T09:43:56.505Z"
   },
   {
    "duration": 20,
    "start_time": "2023-04-27T09:43:56.527Z"
   },
   {
    "duration": 41,
    "start_time": "2023-04-27T09:43:56.549Z"
   },
   {
    "duration": 34,
    "start_time": "2023-04-27T09:43:56.591Z"
   },
   {
    "duration": 18,
    "start_time": "2023-04-27T09:43:56.627Z"
   },
   {
    "duration": 18,
    "start_time": "2023-04-27T09:43:56.647Z"
   },
   {
    "duration": 32,
    "start_time": "2023-04-27T09:43:56.668Z"
   },
   {
    "duration": 19,
    "start_time": "2023-04-27T09:43:56.701Z"
   },
   {
    "duration": 154,
    "start_time": "2023-04-27T09:43:56.722Z"
   },
   {
    "duration": 234,
    "start_time": "2023-04-27T09:43:56.884Z"
   },
   {
    "duration": 799,
    "start_time": "2023-04-27T09:43:57.120Z"
   },
   {
    "duration": 279,
    "start_time": "2023-04-27T09:44:30.562Z"
   },
   {
    "duration": 784,
    "start_time": "2023-04-27T09:44:33.157Z"
   },
   {
    "duration": 112,
    "start_time": "2023-04-27T09:47:46.049Z"
   },
   {
    "duration": 250,
    "start_time": "2023-04-27T09:47:56.402Z"
   },
   {
    "duration": 38,
    "start_time": "2023-04-27T09:51:31.431Z"
   },
   {
    "duration": 240,
    "start_time": "2023-04-27T09:52:20.853Z"
   },
   {
    "duration": 12,
    "start_time": "2023-04-27T09:59:51.338Z"
   },
   {
    "duration": 880,
    "start_time": "2023-04-27T10:02:21.228Z"
   },
   {
    "duration": 816,
    "start_time": "2023-04-27T10:03:23.688Z"
   },
   {
    "duration": 253,
    "start_time": "2023-04-27T10:04:00.473Z"
   },
   {
    "duration": 26321,
    "start_time": "2023-04-27T11:29:23.865Z"
   },
   {
    "duration": 1891,
    "start_time": "2023-04-28T03:34:11.137Z"
   },
   {
    "duration": 1682,
    "start_time": "2023-04-28T03:34:13.030Z"
   },
   {
    "duration": 23,
    "start_time": "2023-04-28T03:34:14.713Z"
   },
   {
    "duration": 33,
    "start_time": "2023-04-28T03:34:14.747Z"
   },
   {
    "duration": 19,
    "start_time": "2023-04-28T03:34:14.782Z"
   },
   {
    "duration": 31,
    "start_time": "2023-04-28T03:34:14.803Z"
   },
   {
    "duration": 26,
    "start_time": "2023-04-28T03:34:14.836Z"
   },
   {
    "duration": 38,
    "start_time": "2023-04-28T03:34:14.865Z"
   },
   {
    "duration": 22,
    "start_time": "2023-04-28T03:34:14.905Z"
   },
   {
    "duration": 36,
    "start_time": "2023-04-28T03:34:14.930Z"
   },
   {
    "duration": 109,
    "start_time": "2023-04-28T03:34:14.968Z"
   },
   {
    "duration": 29,
    "start_time": "2023-04-28T03:34:15.079Z"
   },
   {
    "duration": 39,
    "start_time": "2023-04-28T03:34:15.110Z"
   },
   {
    "duration": 12,
    "start_time": "2023-04-28T03:34:15.153Z"
   },
   {
    "duration": 8,
    "start_time": "2023-04-28T03:34:15.167Z"
   },
   {
    "duration": 9,
    "start_time": "2023-04-28T03:34:15.177Z"
   },
   {
    "duration": 19,
    "start_time": "2023-04-28T03:34:15.188Z"
   },
   {
    "duration": 56,
    "start_time": "2023-04-28T03:34:15.209Z"
   },
   {
    "duration": 21,
    "start_time": "2023-04-28T03:34:15.267Z"
   },
   {
    "duration": 28,
    "start_time": "2023-04-28T03:34:15.291Z"
   },
   {
    "duration": 40,
    "start_time": "2023-04-28T03:34:15.322Z"
   },
   {
    "duration": 22,
    "start_time": "2023-04-28T03:34:15.365Z"
   },
   {
    "duration": 23,
    "start_time": "2023-04-28T03:34:15.389Z"
   },
   {
    "duration": 44,
    "start_time": "2023-04-28T03:34:15.415Z"
   },
   {
    "duration": 29,
    "start_time": "2023-04-28T03:34:15.461Z"
   },
   {
    "duration": 17,
    "start_time": "2023-04-28T03:34:15.492Z"
   },
   {
    "duration": 160,
    "start_time": "2023-04-28T03:34:15.511Z"
   },
   {
    "duration": 24,
    "start_time": "2023-04-28T03:34:15.675Z"
   },
   {
    "duration": 19,
    "start_time": "2023-04-28T03:34:15.701Z"
   },
   {
    "duration": 172,
    "start_time": "2023-04-28T03:34:15.722Z"
   },
   {
    "duration": 1673,
    "start_time": "2023-04-28T03:34:15.897Z"
   },
   {
    "duration": 0,
    "start_time": "2023-04-28T03:34:17.572Z"
   },
   {
    "duration": 0,
    "start_time": "2023-04-28T03:34:17.574Z"
   },
   {
    "duration": 0,
    "start_time": "2023-04-28T03:34:17.576Z"
   },
   {
    "duration": 1514,
    "start_time": "2023-04-28T03:35:19.380Z"
   },
   {
    "duration": 1054,
    "start_time": "2023-04-28T03:35:25.745Z"
   },
   {
    "duration": 319,
    "start_time": "2023-04-28T03:35:28.597Z"
   },
   {
    "duration": 59573,
    "start_time": "2023-04-28T03:35:31.276Z"
   },
   {
    "duration": 90,
    "start_time": "2023-04-28T03:36:36.647Z"
   },
   {
    "duration": 39,
    "start_time": "2023-04-28T03:37:04.976Z"
   },
   {
    "duration": 1463,
    "start_time": "2023-04-28T03:43:40.795Z"
   },
   {
    "duration": 194,
    "start_time": "2023-04-28T03:43:46.621Z"
   },
   {
    "duration": 4,
    "start_time": "2023-04-28T03:44:11.425Z"
   },
   {
    "duration": 1393,
    "start_time": "2023-04-28T03:44:11.431Z"
   },
   {
    "duration": 22,
    "start_time": "2023-04-28T03:44:12.825Z"
   },
   {
    "duration": 19,
    "start_time": "2023-04-28T03:44:12.850Z"
   },
   {
    "duration": 24,
    "start_time": "2023-04-28T03:44:12.871Z"
   },
   {
    "duration": 32,
    "start_time": "2023-04-28T03:44:12.897Z"
   },
   {
    "duration": 18,
    "start_time": "2023-04-28T03:44:12.942Z"
   },
   {
    "duration": 26,
    "start_time": "2023-04-28T03:44:12.962Z"
   },
   {
    "duration": 34,
    "start_time": "2023-04-28T03:44:12.990Z"
   },
   {
    "duration": 23,
    "start_time": "2023-04-28T03:44:13.026Z"
   },
   {
    "duration": 99,
    "start_time": "2023-04-28T03:44:13.051Z"
   },
   {
    "duration": 28,
    "start_time": "2023-04-28T03:44:13.152Z"
   },
   {
    "duration": 17,
    "start_time": "2023-04-28T03:44:13.182Z"
   },
   {
    "duration": 14,
    "start_time": "2023-04-28T03:44:13.201Z"
   },
   {
    "duration": 7,
    "start_time": "2023-04-28T03:44:13.242Z"
   },
   {
    "duration": 13,
    "start_time": "2023-04-28T03:44:13.251Z"
   },
   {
    "duration": 19,
    "start_time": "2023-04-28T03:44:13.266Z"
   },
   {
    "duration": 55,
    "start_time": "2023-04-28T03:44:13.287Z"
   },
   {
    "duration": 35,
    "start_time": "2023-04-28T03:44:13.344Z"
   },
   {
    "duration": 27,
    "start_time": "2023-04-28T03:44:13.381Z"
   },
   {
    "duration": 18,
    "start_time": "2023-04-28T03:44:13.410Z"
   },
   {
    "duration": 17,
    "start_time": "2023-04-28T03:44:13.440Z"
   },
   {
    "duration": 26,
    "start_time": "2023-04-28T03:44:13.459Z"
   },
   {
    "duration": 32,
    "start_time": "2023-04-28T03:44:13.487Z"
   },
   {
    "duration": 34,
    "start_time": "2023-04-28T03:44:13.521Z"
   },
   {
    "duration": 16,
    "start_time": "2023-04-28T03:44:13.557Z"
   },
   {
    "duration": 28,
    "start_time": "2023-04-28T03:44:13.575Z"
   },
   {
    "duration": 35,
    "start_time": "2023-04-28T03:44:13.606Z"
   },
   {
    "duration": 17,
    "start_time": "2023-04-28T03:44:13.643Z"
   },
   {
    "duration": 133,
    "start_time": "2023-04-28T03:44:13.662Z"
   },
   {
    "duration": 1450,
    "start_time": "2023-04-28T03:44:13.797Z"
   },
   {
    "duration": 971,
    "start_time": "2023-04-28T03:44:15.250Z"
   },
   {
    "duration": 298,
    "start_time": "2023-04-28T03:44:16.223Z"
   },
   {
    "duration": 26624,
    "start_time": "2023-04-28T03:44:16.523Z"
   },
   {
    "duration": 1719,
    "start_time": "2023-04-28T04:13:55.701Z"
   },
   {
    "duration": 4,
    "start_time": "2023-04-28T04:20:11.170Z"
   },
   {
    "duration": 1612,
    "start_time": "2023-04-28T04:20:11.177Z"
   },
   {
    "duration": 24,
    "start_time": "2023-04-28T04:20:12.792Z"
   },
   {
    "duration": 33,
    "start_time": "2023-04-28T04:20:12.819Z"
   },
   {
    "duration": 29,
    "start_time": "2023-04-28T04:20:12.855Z"
   },
   {
    "duration": 22,
    "start_time": "2023-04-28T04:20:12.887Z"
   },
   {
    "duration": 32,
    "start_time": "2023-04-28T04:20:12.912Z"
   },
   {
    "duration": 31,
    "start_time": "2023-04-28T04:20:12.947Z"
   },
   {
    "duration": 28,
    "start_time": "2023-04-28T04:20:12.980Z"
   },
   {
    "duration": 34,
    "start_time": "2023-04-28T04:20:13.010Z"
   },
   {
    "duration": 113,
    "start_time": "2023-04-28T04:20:13.046Z"
   },
   {
    "duration": 26,
    "start_time": "2023-04-28T04:20:13.162Z"
   },
   {
    "duration": 29,
    "start_time": "2023-04-28T04:20:13.190Z"
   },
   {
    "duration": 25,
    "start_time": "2023-04-28T04:20:13.223Z"
   },
   {
    "duration": 25,
    "start_time": "2023-04-28T04:20:13.250Z"
   },
   {
    "duration": 11,
    "start_time": "2023-04-28T04:20:13.278Z"
   },
   {
    "duration": 23,
    "start_time": "2023-04-28T04:20:13.291Z"
   },
   {
    "duration": 48,
    "start_time": "2023-04-28T04:20:13.316Z"
   },
   {
    "duration": 36,
    "start_time": "2023-04-28T04:20:13.369Z"
   },
   {
    "duration": 52,
    "start_time": "2023-04-28T04:20:13.408Z"
   },
   {
    "duration": 33,
    "start_time": "2023-04-28T04:20:13.463Z"
   },
   {
    "duration": 24,
    "start_time": "2023-04-28T04:20:13.499Z"
   },
   {
    "duration": 30,
    "start_time": "2023-04-28T04:20:13.526Z"
   },
   {
    "duration": 56,
    "start_time": "2023-04-28T04:20:13.559Z"
   },
   {
    "duration": 24,
    "start_time": "2023-04-28T04:20:13.618Z"
   },
   {
    "duration": 34,
    "start_time": "2023-04-28T04:20:13.646Z"
   },
   {
    "duration": 23,
    "start_time": "2023-04-28T04:20:13.682Z"
   },
   {
    "duration": 25,
    "start_time": "2023-04-28T04:20:13.708Z"
   },
   {
    "duration": 38,
    "start_time": "2023-04-28T04:20:13.743Z"
   },
   {
    "duration": 193,
    "start_time": "2023-04-28T04:20:13.783Z"
   },
   {
    "duration": 1468,
    "start_time": "2023-04-28T04:20:13.978Z"
   },
   {
    "duration": 1069,
    "start_time": "2023-04-28T04:20:15.450Z"
   },
   {
    "duration": 314,
    "start_time": "2023-04-28T04:20:16.520Z"
   },
   {
    "duration": 32019,
    "start_time": "2023-04-28T04:20:16.840Z"
   },
   {
    "duration": 253,
    "start_time": "2023-04-28T04:20:55.397Z"
   },
   {
    "duration": 1944,
    "start_time": "2023-05-01T04:20:01.683Z"
   },
   {
    "duration": 1255,
    "start_time": "2023-05-01T04:20:03.629Z"
   },
   {
    "duration": 20,
    "start_time": "2023-05-01T04:20:04.886Z"
   },
   {
    "duration": 33,
    "start_time": "2023-05-01T04:20:04.908Z"
   },
   {
    "duration": 27,
    "start_time": "2023-05-01T04:20:04.942Z"
   },
   {
    "duration": 23,
    "start_time": "2023-05-01T04:20:04.971Z"
   },
   {
    "duration": 22,
    "start_time": "2023-05-01T04:20:04.996Z"
   },
   {
    "duration": 52,
    "start_time": "2023-05-01T04:20:05.019Z"
   },
   {
    "duration": 29,
    "start_time": "2023-05-01T04:20:05.072Z"
   },
   {
    "duration": 40,
    "start_time": "2023-05-01T04:20:05.104Z"
   },
   {
    "duration": 409,
    "start_time": "2023-05-01T04:20:05.146Z"
   },
   {
    "duration": 17,
    "start_time": "2023-05-01T04:20:05.557Z"
   },
   {
    "duration": 30,
    "start_time": "2023-05-01T04:20:05.576Z"
   },
   {
    "duration": 34,
    "start_time": "2023-05-01T04:20:05.608Z"
   },
   {
    "duration": 40,
    "start_time": "2023-05-01T04:20:05.644Z"
   },
   {
    "duration": 9,
    "start_time": "2023-05-01T04:20:05.685Z"
   },
   {
    "duration": 27,
    "start_time": "2023-05-01T04:20:05.696Z"
   },
   {
    "duration": 51,
    "start_time": "2023-05-01T04:20:05.725Z"
   },
   {
    "duration": 21,
    "start_time": "2023-05-01T04:20:05.778Z"
   },
   {
    "duration": 32,
    "start_time": "2023-05-01T04:20:05.800Z"
   },
   {
    "duration": 44,
    "start_time": "2023-05-01T04:20:05.834Z"
   },
   {
    "duration": 25,
    "start_time": "2023-05-01T04:20:05.879Z"
   },
   {
    "duration": 37,
    "start_time": "2023-05-01T04:20:05.906Z"
   },
   {
    "duration": 79,
    "start_time": "2023-05-01T04:20:05.945Z"
   },
   {
    "duration": 34,
    "start_time": "2023-05-01T04:20:06.026Z"
   },
   {
    "duration": 34,
    "start_time": "2023-05-01T04:20:06.062Z"
   },
   {
    "duration": 37,
    "start_time": "2023-05-01T04:20:06.098Z"
   },
   {
    "duration": 42,
    "start_time": "2023-05-01T04:20:06.137Z"
   },
   {
    "duration": 23,
    "start_time": "2023-05-01T04:20:06.180Z"
   },
   {
    "duration": 30,
    "start_time": "2023-05-01T04:20:06.205Z"
   },
   {
    "duration": 546,
    "start_time": "2023-05-01T04:20:06.236Z"
   },
   {
    "duration": 125,
    "start_time": "2023-05-01T04:20:06.784Z"
   },
   {
    "duration": 1436,
    "start_time": "2023-05-01T04:20:37.993Z"
   },
   {
    "duration": 1320,
    "start_time": "2023-05-01T04:20:39.431Z"
   },
   {
    "duration": 22,
    "start_time": "2023-05-01T04:20:40.752Z"
   },
   {
    "duration": 110,
    "start_time": "2023-05-01T04:20:40.776Z"
   },
   {
    "duration": 57,
    "start_time": "2023-05-01T04:20:40.888Z"
   },
   {
    "duration": 35,
    "start_time": "2023-05-01T04:20:40.946Z"
   },
   {
    "duration": 36,
    "start_time": "2023-05-01T04:20:40.984Z"
   },
   {
    "duration": 52,
    "start_time": "2023-05-01T04:20:41.022Z"
   },
   {
    "duration": 38,
    "start_time": "2023-05-01T04:20:41.076Z"
   },
   {
    "duration": 29,
    "start_time": "2023-05-01T04:20:41.118Z"
   },
   {
    "duration": 423,
    "start_time": "2023-05-01T04:20:41.148Z"
   },
   {
    "duration": 17,
    "start_time": "2023-05-01T04:20:41.573Z"
   },
   {
    "duration": 28,
    "start_time": "2023-05-01T04:20:41.591Z"
   },
   {
    "duration": 24,
    "start_time": "2023-05-01T04:20:41.621Z"
   },
   {
    "duration": 12,
    "start_time": "2023-05-01T04:20:41.647Z"
   },
   {
    "duration": 7,
    "start_time": "2023-05-01T04:20:41.661Z"
   },
   {
    "duration": 5,
    "start_time": "2023-05-01T04:20:41.670Z"
   },
   {
    "duration": 15,
    "start_time": "2023-05-01T04:20:41.677Z"
   },
   {
    "duration": 47,
    "start_time": "2023-05-01T04:20:41.694Z"
   },
   {
    "duration": 22,
    "start_time": "2023-05-01T04:20:41.742Z"
   },
   {
    "duration": 28,
    "start_time": "2023-05-01T04:20:41.765Z"
   },
   {
    "duration": 16,
    "start_time": "2023-05-01T04:20:41.794Z"
   },
   {
    "duration": 25,
    "start_time": "2023-05-01T04:20:41.811Z"
   },
   {
    "duration": 18,
    "start_time": "2023-05-01T04:20:41.838Z"
   },
   {
    "duration": 51,
    "start_time": "2023-05-01T04:20:41.857Z"
   },
   {
    "duration": 31,
    "start_time": "2023-05-01T04:20:41.910Z"
   },
   {
    "duration": 24,
    "start_time": "2023-05-01T04:20:41.943Z"
   },
   {
    "duration": 19,
    "start_time": "2023-05-01T04:20:41.969Z"
   },
   {
    "duration": 27,
    "start_time": "2023-05-01T04:20:41.989Z"
   },
   {
    "duration": 24,
    "start_time": "2023-05-01T04:20:42.017Z"
   },
   {
    "duration": 500,
    "start_time": "2023-05-01T04:20:42.042Z"
   },
   {
    "duration": 121,
    "start_time": "2023-05-01T04:20:42.544Z"
   },
   {
    "duration": 45,
    "start_time": "2023-05-01T04:27:06.731Z"
   },
   {
    "duration": 1290,
    "start_time": "2023-05-01T04:27:18.748Z"
   },
   {
    "duration": 1128,
    "start_time": "2023-05-01T04:27:20.039Z"
   },
   {
    "duration": 19,
    "start_time": "2023-05-01T04:27:21.168Z"
   },
   {
    "duration": 20,
    "start_time": "2023-05-01T04:27:21.189Z"
   },
   {
    "duration": 29,
    "start_time": "2023-05-01T04:27:21.210Z"
   },
   {
    "duration": 26,
    "start_time": "2023-05-01T04:27:21.241Z"
   },
   {
    "duration": 24,
    "start_time": "2023-05-01T04:27:21.268Z"
   },
   {
    "duration": 29,
    "start_time": "2023-05-01T04:27:21.293Z"
   },
   {
    "duration": 41,
    "start_time": "2023-05-01T04:27:21.323Z"
   },
   {
    "duration": 28,
    "start_time": "2023-05-01T04:27:21.366Z"
   },
   {
    "duration": 76,
    "start_time": "2023-05-01T04:27:24.659Z"
   },
   {
    "duration": 15,
    "start_time": "2023-05-01T04:27:26.848Z"
   },
   {
    "duration": 4,
    "start_time": "2023-05-01T04:28:08.352Z"
   },
   {
    "duration": 880,
    "start_time": "2023-05-01T04:28:08.358Z"
   },
   {
    "duration": 19,
    "start_time": "2023-05-01T04:28:09.240Z"
   },
   {
    "duration": 25,
    "start_time": "2023-05-01T04:28:09.260Z"
   },
   {
    "duration": 21,
    "start_time": "2023-05-01T04:28:09.287Z"
   },
   {
    "duration": 28,
    "start_time": "2023-05-01T04:28:09.309Z"
   },
   {
    "duration": 16,
    "start_time": "2023-05-01T04:28:09.339Z"
   },
   {
    "duration": 21,
    "start_time": "2023-05-01T04:28:09.356Z"
   },
   {
    "duration": 19,
    "start_time": "2023-05-01T04:28:09.379Z"
   },
   {
    "duration": 25,
    "start_time": "2023-05-01T04:28:09.400Z"
   },
   {
    "duration": 64,
    "start_time": "2023-05-01T04:28:09.434Z"
   },
   {
    "duration": 16,
    "start_time": "2023-05-01T04:28:09.500Z"
   },
   {
    "duration": 37,
    "start_time": "2023-05-01T04:28:09.517Z"
   },
   {
    "duration": 14,
    "start_time": "2023-05-01T04:28:09.555Z"
   },
   {
    "duration": 5,
    "start_time": "2023-05-01T04:28:09.570Z"
   },
   {
    "duration": 5,
    "start_time": "2023-05-01T04:28:09.576Z"
   },
   {
    "duration": 6,
    "start_time": "2023-05-01T04:28:09.582Z"
   },
   {
    "duration": 15,
    "start_time": "2023-05-01T04:28:09.589Z"
   },
   {
    "duration": 43,
    "start_time": "2023-05-01T04:28:09.606Z"
   },
   {
    "duration": 19,
    "start_time": "2023-05-01T04:28:09.650Z"
   },
   {
    "duration": 20,
    "start_time": "2023-05-01T04:28:09.670Z"
   },
   {
    "duration": 19,
    "start_time": "2023-05-01T04:28:09.692Z"
   },
   {
    "duration": 25,
    "start_time": "2023-05-01T04:28:09.712Z"
   },
   {
    "duration": 22,
    "start_time": "2023-05-01T04:28:09.739Z"
   },
   {
    "duration": 24,
    "start_time": "2023-05-01T04:28:09.763Z"
   },
   {
    "duration": 23,
    "start_time": "2023-05-01T04:28:09.788Z"
   },
   {
    "duration": 25,
    "start_time": "2023-05-01T04:28:09.812Z"
   },
   {
    "duration": 19,
    "start_time": "2023-05-01T04:28:09.838Z"
   },
   {
    "duration": 20,
    "start_time": "2023-05-01T04:28:09.860Z"
   },
   {
    "duration": 16,
    "start_time": "2023-05-01T04:28:09.882Z"
   },
   {
    "duration": 336,
    "start_time": "2023-05-01T04:28:12.475Z"
   },
   {
    "duration": 396,
    "start_time": "2023-05-01T04:29:30.760Z"
   },
   {
    "duration": 362,
    "start_time": "2023-05-01T04:29:42.991Z"
   },
   {
    "duration": 74,
    "start_time": "2023-05-01T04:37:52.107Z"
   },
   {
    "duration": 661,
    "start_time": "2023-05-01T04:38:01.885Z"
   },
   {
    "duration": 567,
    "start_time": "2023-05-01T04:38:42.515Z"
   },
   {
    "duration": 51,
    "start_time": "2023-05-01T07:42:24.229Z"
   },
   {
    "duration": 1483,
    "start_time": "2023-05-01T07:42:29.735Z"
   },
   {
    "duration": 2779,
    "start_time": "2023-05-01T07:42:31.221Z"
   },
   {
    "duration": 22,
    "start_time": "2023-05-01T07:42:34.002Z"
   },
   {
    "duration": 35,
    "start_time": "2023-05-01T07:42:34.026Z"
   },
   {
    "duration": 23,
    "start_time": "2023-05-01T07:42:34.063Z"
   },
   {
    "duration": 25,
    "start_time": "2023-05-01T07:42:34.088Z"
   },
   {
    "duration": 31,
    "start_time": "2023-05-01T07:42:34.116Z"
   },
   {
    "duration": 32,
    "start_time": "2023-05-01T07:42:34.150Z"
   },
   {
    "duration": 31,
    "start_time": "2023-05-01T07:42:34.185Z"
   },
   {
    "duration": 17,
    "start_time": "2023-05-01T07:42:34.220Z"
   },
   {
    "duration": 83,
    "start_time": "2023-05-01T07:42:34.239Z"
   },
   {
    "duration": 12,
    "start_time": "2023-05-01T07:42:34.324Z"
   },
   {
    "duration": 25,
    "start_time": "2023-05-01T07:42:34.338Z"
   },
   {
    "duration": 17,
    "start_time": "2023-05-01T07:42:34.365Z"
   },
   {
    "duration": 13,
    "start_time": "2023-05-01T07:42:34.384Z"
   },
   {
    "duration": 8,
    "start_time": "2023-05-01T07:42:34.399Z"
   },
   {
    "duration": 13,
    "start_time": "2023-05-01T07:42:34.409Z"
   },
   {
    "duration": 13,
    "start_time": "2023-05-01T07:42:34.425Z"
   },
   {
    "duration": 24,
    "start_time": "2023-05-01T07:42:34.440Z"
   },
   {
    "duration": 33,
    "start_time": "2023-05-01T07:42:34.466Z"
   },
   {
    "duration": 28,
    "start_time": "2023-05-01T07:42:34.501Z"
   },
   {
    "duration": 22,
    "start_time": "2023-05-01T07:42:34.532Z"
   },
   {
    "duration": 41,
    "start_time": "2023-05-01T07:42:34.556Z"
   },
   {
    "duration": 21,
    "start_time": "2023-05-01T07:42:34.600Z"
   },
   {
    "duration": 24,
    "start_time": "2023-05-01T07:42:34.622Z"
   },
   {
    "duration": 17,
    "start_time": "2023-05-01T07:42:34.647Z"
   },
   {
    "duration": 29,
    "start_time": "2023-05-01T07:42:34.665Z"
   },
   {
    "duration": 14,
    "start_time": "2023-05-01T07:42:34.697Z"
   },
   {
    "duration": 18,
    "start_time": "2023-05-01T07:42:34.713Z"
   },
   {
    "duration": 12,
    "start_time": "2023-05-01T07:42:34.733Z"
   },
   {
    "duration": 392,
    "start_time": "2023-05-01T07:42:34.747Z"
   },
   {
    "duration": 444,
    "start_time": "2023-05-01T07:42:35.141Z"
   },
   {
    "duration": 382,
    "start_time": "2023-05-01T07:42:35.587Z"
   },
   {
    "duration": 602,
    "start_time": "2023-05-01T07:42:35.971Z"
   },
   {
    "duration": 170,
    "start_time": "2023-05-01T07:42:40.156Z"
   },
   {
    "duration": 191,
    "start_time": "2023-05-01T07:42:56.962Z"
   },
   {
    "duration": 121,
    "start_time": "2023-05-01T07:43:04.822Z"
   },
   {
    "duration": 8,
    "start_time": "2023-05-01T07:44:28.062Z"
   },
   {
    "duration": 12,
    "start_time": "2023-05-01T07:44:35.693Z"
   },
   {
    "duration": 3,
    "start_time": "2023-05-01T07:45:03.951Z"
   },
   {
    "duration": 14,
    "start_time": "2023-05-01T07:45:40.282Z"
   },
   {
    "duration": 70,
    "start_time": "2023-05-01T07:52:26.175Z"
   },
   {
    "duration": 807,
    "start_time": "2023-05-01T07:52:31.174Z"
   },
   {
    "duration": 15,
    "start_time": "2023-05-01T07:53:13.949Z"
   },
   {
    "duration": 9,
    "start_time": "2023-05-01T07:57:35.059Z"
   },
   {
    "duration": 9,
    "start_time": "2023-05-01T07:59:31.693Z"
   },
   {
    "duration": 21,
    "start_time": "2023-05-01T07:59:41.899Z"
   },
   {
    "duration": 20,
    "start_time": "2023-05-01T08:00:22.281Z"
   },
   {
    "duration": 19,
    "start_time": "2023-05-01T08:02:31.480Z"
   },
   {
    "duration": 14,
    "start_time": "2023-05-01T08:03:06.807Z"
   },
   {
    "duration": 16,
    "start_time": "2023-05-01T08:06:41.721Z"
   },
   {
    "duration": 26,
    "start_time": "2023-05-01T08:06:53.518Z"
   },
   {
    "duration": 13,
    "start_time": "2023-05-01T08:07:37.322Z"
   },
   {
    "duration": 3,
    "start_time": "2023-05-01T08:08:48.515Z"
   },
   {
    "duration": 50,
    "start_time": "2023-05-01T08:09:49.363Z"
   },
   {
    "duration": 11,
    "start_time": "2023-05-01T08:10:23.076Z"
   },
   {
    "duration": 39,
    "start_time": "2023-05-01T08:12:09.403Z"
   },
   {
    "duration": 35,
    "start_time": "2023-05-01T08:12:26.069Z"
   },
   {
    "duration": 39,
    "start_time": "2023-05-01T08:12:36.029Z"
   },
   {
    "duration": 49,
    "start_time": "2023-05-01T08:14:58.339Z"
   },
   {
    "duration": 326,
    "start_time": "2023-05-01T08:15:54.929Z"
   },
   {
    "duration": 619,
    "start_time": "2023-05-01T08:16:44.886Z"
   },
   {
    "duration": 40,
    "start_time": "2023-05-01T08:17:43.136Z"
   },
   {
    "duration": 4,
    "start_time": "2023-05-01T08:20:41.823Z"
   },
   {
    "duration": 49,
    "start_time": "2023-05-01T08:21:08.439Z"
   },
   {
    "duration": 40,
    "start_time": "2023-05-01T08:21:14.533Z"
   },
   {
    "duration": 7,
    "start_time": "2023-05-01T08:21:32.008Z"
   },
   {
    "duration": 35,
    "start_time": "2023-05-01T08:21:36.213Z"
   },
   {
    "duration": 5,
    "start_time": "2023-05-01T08:22:36.426Z"
   },
   {
    "duration": 5,
    "start_time": "2023-05-01T08:23:23.587Z"
   },
   {
    "duration": 35,
    "start_time": "2023-05-01T08:32:17.679Z"
   },
   {
    "duration": 34,
    "start_time": "2023-05-01T08:32:26.995Z"
   },
   {
    "duration": 36,
    "start_time": "2023-05-01T08:32:36.375Z"
   },
   {
    "duration": 3,
    "start_time": "2023-05-01T08:34:58.231Z"
   },
   {
    "duration": 825,
    "start_time": "2023-05-01T08:34:58.236Z"
   },
   {
    "duration": 17,
    "start_time": "2023-05-01T08:34:59.063Z"
   },
   {
    "duration": 20,
    "start_time": "2023-05-01T08:34:59.081Z"
   },
   {
    "duration": 13,
    "start_time": "2023-05-01T08:34:59.103Z"
   },
   {
    "duration": 17,
    "start_time": "2023-05-01T08:34:59.118Z"
   },
   {
    "duration": 13,
    "start_time": "2023-05-01T08:34:59.136Z"
   },
   {
    "duration": 45,
    "start_time": "2023-05-01T08:34:59.150Z"
   },
   {
    "duration": 16,
    "start_time": "2023-05-01T08:34:59.197Z"
   },
   {
    "duration": 14,
    "start_time": "2023-05-01T08:34:59.215Z"
   },
   {
    "duration": 79,
    "start_time": "2023-05-01T08:34:59.231Z"
   },
   {
    "duration": 14,
    "start_time": "2023-05-01T08:34:59.311Z"
   },
   {
    "duration": 21,
    "start_time": "2023-05-01T08:34:59.327Z"
   },
   {
    "duration": 12,
    "start_time": "2023-05-01T08:34:59.350Z"
   },
   {
    "duration": 4,
    "start_time": "2023-05-01T08:34:59.364Z"
   },
   {
    "duration": 31,
    "start_time": "2023-05-01T08:34:59.370Z"
   },
   {
    "duration": 4,
    "start_time": "2023-05-01T08:34:59.403Z"
   },
   {
    "duration": 13,
    "start_time": "2023-05-01T08:34:59.409Z"
   },
   {
    "duration": 16,
    "start_time": "2023-05-01T08:34:59.424Z"
   },
   {
    "duration": 17,
    "start_time": "2023-05-01T08:34:59.441Z"
   },
   {
    "duration": 46,
    "start_time": "2023-05-01T08:34:59.459Z"
   },
   {
    "duration": 15,
    "start_time": "2023-05-01T08:34:59.507Z"
   },
   {
    "duration": 22,
    "start_time": "2023-05-01T08:34:59.524Z"
   },
   {
    "duration": 13,
    "start_time": "2023-05-01T08:34:59.548Z"
   },
   {
    "duration": 34,
    "start_time": "2023-05-01T08:34:59.562Z"
   },
   {
    "duration": 20,
    "start_time": "2023-05-01T08:34:59.598Z"
   },
   {
    "duration": 13,
    "start_time": "2023-05-01T08:34:59.620Z"
   },
   {
    "duration": 13,
    "start_time": "2023-05-01T08:34:59.634Z"
   },
   {
    "duration": 17,
    "start_time": "2023-05-01T08:34:59.650Z"
   },
   {
    "duration": 33,
    "start_time": "2023-05-01T08:34:59.669Z"
   },
   {
    "duration": 364,
    "start_time": "2023-05-01T08:34:59.703Z"
   },
   {
    "duration": 375,
    "start_time": "2023-05-01T08:35:00.068Z"
   },
   {
    "duration": 385,
    "start_time": "2023-05-01T08:35:00.444Z"
   },
   {
    "duration": 678,
    "start_time": "2023-05-01T08:35:00.831Z"
   },
   {
    "duration": 5,
    "start_time": "2023-05-01T08:35:07.967Z"
   },
   {
    "duration": 4,
    "start_time": "2023-05-01T08:35:16.866Z"
   },
   {
    "duration": 14,
    "start_time": "2023-05-01T08:35:32.455Z"
   },
   {
    "duration": 9,
    "start_time": "2023-05-01T08:35:38.391Z"
   },
   {
    "duration": 16,
    "start_time": "2023-05-01T08:35:41.502Z"
   },
   {
    "duration": 34,
    "start_time": "2023-05-01T08:35:47.892Z"
   },
   {
    "duration": 40,
    "start_time": "2023-05-01T08:36:25.601Z"
   },
   {
    "duration": 37,
    "start_time": "2023-05-01T08:37:15.309Z"
   },
   {
    "duration": 10,
    "start_time": "2023-05-01T08:38:06.807Z"
   },
   {
    "duration": 11,
    "start_time": "2023-05-01T08:38:15.997Z"
   },
   {
    "duration": 37,
    "start_time": "2023-05-01T08:39:01.200Z"
   },
   {
    "duration": 37,
    "start_time": "2023-05-01T08:39:32.424Z"
   },
   {
    "duration": 66,
    "start_time": "2023-05-01T08:40:36.534Z"
   },
   {
    "duration": 13,
    "start_time": "2023-05-01T08:40:55.599Z"
   },
   {
    "duration": 11,
    "start_time": "2023-05-01T08:41:00.102Z"
   },
   {
    "duration": 53,
    "start_time": "2023-05-01T08:41:02.026Z"
   },
   {
    "duration": 8,
    "start_time": "2023-05-01T08:41:03.695Z"
   },
   {
    "duration": 172,
    "start_time": "2023-05-01T08:43:05.304Z"
   },
   {
    "duration": 174,
    "start_time": "2023-05-01T08:43:19.178Z"
   },
   {
    "duration": 240,
    "start_time": "2023-05-01T08:43:25.977Z"
   },
   {
    "duration": 134,
    "start_time": "2023-05-01T08:44:15.518Z"
   },
   {
    "duration": 4,
    "start_time": "2023-05-01T08:45:00.369Z"
   },
   {
    "duration": 4,
    "start_time": "2023-05-01T08:45:09.651Z"
   },
   {
    "duration": 9,
    "start_time": "2023-05-01T08:46:39.274Z"
   },
   {
    "duration": 9,
    "start_time": "2023-05-01T08:46:59.734Z"
   },
   {
    "duration": 8,
    "start_time": "2023-05-01T08:47:03.674Z"
   },
   {
    "duration": 9,
    "start_time": "2023-05-01T08:47:15.922Z"
   },
   {
    "duration": 4,
    "start_time": "2023-05-01T08:51:21.075Z"
   },
   {
    "duration": 829,
    "start_time": "2023-05-01T08:51:21.081Z"
   },
   {
    "duration": 18,
    "start_time": "2023-05-01T08:51:21.912Z"
   },
   {
    "duration": 20,
    "start_time": "2023-05-01T08:51:21.931Z"
   },
   {
    "duration": 13,
    "start_time": "2023-05-01T08:51:21.953Z"
   },
   {
    "duration": 33,
    "start_time": "2023-05-01T08:51:21.967Z"
   },
   {
    "duration": 20,
    "start_time": "2023-05-01T08:51:22.002Z"
   },
   {
    "duration": 22,
    "start_time": "2023-05-01T08:51:22.024Z"
   },
   {
    "duration": 20,
    "start_time": "2023-05-01T08:51:22.047Z"
   },
   {
    "duration": 12,
    "start_time": "2023-05-01T08:51:22.069Z"
   },
   {
    "duration": 64,
    "start_time": "2023-05-01T08:51:22.084Z"
   },
   {
    "duration": 13,
    "start_time": "2023-05-01T08:51:22.149Z"
   },
   {
    "duration": 32,
    "start_time": "2023-05-01T08:51:22.163Z"
   },
   {
    "duration": 13,
    "start_time": "2023-05-01T08:51:22.196Z"
   },
   {
    "duration": 6,
    "start_time": "2023-05-01T08:51:22.211Z"
   },
   {
    "duration": 8,
    "start_time": "2023-05-01T08:51:22.219Z"
   },
   {
    "duration": 6,
    "start_time": "2023-05-01T08:51:22.228Z"
   },
   {
    "duration": 14,
    "start_time": "2023-05-01T08:51:22.236Z"
   },
   {
    "duration": 45,
    "start_time": "2023-05-01T08:51:22.251Z"
   },
   {
    "duration": 18,
    "start_time": "2023-05-01T08:51:22.298Z"
   },
   {
    "duration": 17,
    "start_time": "2023-05-01T08:51:22.318Z"
   },
   {
    "duration": 13,
    "start_time": "2023-05-01T08:51:22.336Z"
   },
   {
    "duration": 13,
    "start_time": "2023-05-01T08:51:22.350Z"
   },
   {
    "duration": 41,
    "start_time": "2023-05-01T08:51:22.364Z"
   },
   {
    "duration": 18,
    "start_time": "2023-05-01T08:51:22.406Z"
   },
   {
    "duration": 16,
    "start_time": "2023-05-01T08:51:22.425Z"
   },
   {
    "duration": 13,
    "start_time": "2023-05-01T08:51:22.443Z"
   },
   {
    "duration": 37,
    "start_time": "2023-05-01T08:51:22.457Z"
   },
   {
    "duration": 16,
    "start_time": "2023-05-01T08:51:22.497Z"
   },
   {
    "duration": 13,
    "start_time": "2023-05-01T08:51:22.514Z"
   },
   {
    "duration": 383,
    "start_time": "2023-05-01T08:51:22.528Z"
   },
   {
    "duration": 416,
    "start_time": "2023-05-01T08:51:22.913Z"
   },
   {
    "duration": 397,
    "start_time": "2023-05-01T08:51:23.331Z"
   },
   {
    "duration": 684,
    "start_time": "2023-05-01T08:51:23.729Z"
   },
   {
    "duration": 6,
    "start_time": "2023-05-01T08:51:24.415Z"
   },
   {
    "duration": 5,
    "start_time": "2023-05-01T08:51:24.422Z"
   },
   {
    "duration": 13,
    "start_time": "2023-05-01T08:51:24.429Z"
   },
   {
    "duration": 8,
    "start_time": "2023-05-01T08:51:24.443Z"
   },
   {
    "duration": 15,
    "start_time": "2023-05-01T08:51:28.230Z"
   },
   {
    "duration": 9,
    "start_time": "2023-05-01T08:52:38.484Z"
   },
   {
    "duration": 4,
    "start_time": "2023-05-01T08:52:58.805Z"
   },
   {
    "duration": 807,
    "start_time": "2023-05-01T08:52:58.811Z"
   },
   {
    "duration": 18,
    "start_time": "2023-05-01T08:52:59.619Z"
   },
   {
    "duration": 14,
    "start_time": "2023-05-01T08:52:59.639Z"
   },
   {
    "duration": 14,
    "start_time": "2023-05-01T08:52:59.654Z"
   },
   {
    "duration": 36,
    "start_time": "2023-05-01T08:52:59.669Z"
   },
   {
    "duration": 13,
    "start_time": "2023-05-01T08:52:59.707Z"
   },
   {
    "duration": 20,
    "start_time": "2023-05-01T08:52:59.722Z"
   },
   {
    "duration": 15,
    "start_time": "2023-05-01T08:52:59.744Z"
   },
   {
    "duration": 37,
    "start_time": "2023-05-01T08:52:59.760Z"
   },
   {
    "duration": 71,
    "start_time": "2023-05-01T08:52:59.799Z"
   },
   {
    "duration": 16,
    "start_time": "2023-05-01T08:52:59.872Z"
   },
   {
    "duration": 23,
    "start_time": "2023-05-01T08:52:59.889Z"
   },
   {
    "duration": 12,
    "start_time": "2023-05-01T08:52:59.913Z"
   },
   {
    "duration": 6,
    "start_time": "2023-05-01T08:52:59.926Z"
   },
   {
    "duration": 4,
    "start_time": "2023-05-01T08:52:59.933Z"
   },
   {
    "duration": 5,
    "start_time": "2023-05-01T08:52:59.938Z"
   },
   {
    "duration": 13,
    "start_time": "2023-05-01T08:52:59.944Z"
   },
   {
    "duration": 61,
    "start_time": "2023-05-01T08:52:59.958Z"
   },
   {
    "duration": 21,
    "start_time": "2023-05-01T08:53:00.020Z"
   },
   {
    "duration": 33,
    "start_time": "2023-05-01T08:53:00.042Z"
   },
   {
    "duration": 42,
    "start_time": "2023-05-01T08:53:00.077Z"
   },
   {
    "duration": 68,
    "start_time": "2023-05-01T08:53:00.121Z"
   },
   {
    "duration": 23,
    "start_time": "2023-05-01T08:53:00.192Z"
   },
   {
    "duration": 43,
    "start_time": "2023-05-01T08:53:00.216Z"
   },
   {
    "duration": 56,
    "start_time": "2023-05-01T08:53:00.260Z"
   },
   {
    "duration": 16,
    "start_time": "2023-05-01T08:53:00.318Z"
   },
   {
    "duration": 22,
    "start_time": "2023-05-01T08:53:00.335Z"
   },
   {
    "duration": 45,
    "start_time": "2023-05-01T08:53:00.358Z"
   },
   {
    "duration": 13,
    "start_time": "2023-05-01T08:53:00.404Z"
   },
   {
    "duration": 448,
    "start_time": "2023-05-01T08:53:00.418Z"
   },
   {
    "duration": 426,
    "start_time": "2023-05-01T08:53:00.868Z"
   },
   {
    "duration": 410,
    "start_time": "2023-05-01T08:53:01.296Z"
   },
   {
    "duration": 698,
    "start_time": "2023-05-01T08:53:01.708Z"
   },
   {
    "duration": 5,
    "start_time": "2023-05-01T08:53:02.408Z"
   },
   {
    "duration": 7,
    "start_time": "2023-05-01T08:53:02.415Z"
   },
   {
    "duration": 18,
    "start_time": "2023-05-01T08:53:02.424Z"
   },
   {
    "duration": 9,
    "start_time": "2023-05-01T08:53:02.444Z"
   },
   {
    "duration": 15,
    "start_time": "2023-05-01T08:53:02.454Z"
   },
   {
    "duration": 41,
    "start_time": "2023-05-01T08:53:14.675Z"
   },
   {
    "duration": 26,
    "start_time": "2023-05-01T08:53:22.240Z"
   },
   {
    "duration": 52,
    "start_time": "2023-05-01T08:53:24.279Z"
   },
   {
    "duration": 7,
    "start_time": "2023-05-01T08:53:26.185Z"
   },
   {
    "duration": 134,
    "start_time": "2023-05-01T08:53:30.178Z"
   },
   {
    "duration": 5,
    "start_time": "2023-05-01T08:53:33.299Z"
   },
   {
    "duration": 3,
    "start_time": "2023-05-01T08:53:34.959Z"
   },
   {
    "duration": 8,
    "start_time": "2023-05-01T08:53:38.315Z"
   },
   {
    "duration": 9,
    "start_time": "2023-05-01T08:53:42.329Z"
   },
   {
    "duration": 12,
    "start_time": "2023-05-01T08:54:13.458Z"
   },
   {
    "duration": 10,
    "start_time": "2023-05-01T08:54:20.876Z"
   },
   {
    "duration": 37,
    "start_time": "2023-05-01T09:01:41.499Z"
   },
   {
    "duration": 274,
    "start_time": "2023-05-01T09:01:50.117Z"
   },
   {
    "duration": 207,
    "start_time": "2023-05-01T09:02:11.878Z"
   },
   {
    "duration": 26,
    "start_time": "2023-05-01T09:02:21.951Z"
   },
   {
    "duration": 217,
    "start_time": "2023-05-01T09:02:38.697Z"
   },
   {
    "duration": 207,
    "start_time": "2023-05-01T09:02:54.256Z"
   },
   {
    "duration": 636,
    "start_time": "2023-05-01T09:03:51.764Z"
   },
   {
    "duration": 4,
    "start_time": "2023-05-01T09:03:57.783Z"
   },
   {
    "duration": 799,
    "start_time": "2023-05-01T09:03:57.789Z"
   },
   {
    "duration": 21,
    "start_time": "2023-05-01T09:03:58.593Z"
   },
   {
    "duration": 29,
    "start_time": "2023-05-01T09:03:58.616Z"
   },
   {
    "duration": 23,
    "start_time": "2023-05-01T09:03:58.648Z"
   },
   {
    "duration": 26,
    "start_time": "2023-05-01T09:03:58.673Z"
   },
   {
    "duration": 29,
    "start_time": "2023-05-01T09:03:58.701Z"
   },
   {
    "duration": 34,
    "start_time": "2023-05-01T09:03:58.732Z"
   },
   {
    "duration": 14,
    "start_time": "2023-05-01T09:03:58.768Z"
   },
   {
    "duration": 18,
    "start_time": "2023-05-01T09:03:58.794Z"
   },
   {
    "duration": 64,
    "start_time": "2023-05-01T09:03:58.815Z"
   },
   {
    "duration": 25,
    "start_time": "2023-05-01T09:03:58.881Z"
   },
   {
    "duration": 26,
    "start_time": "2023-05-01T09:03:58.908Z"
   },
   {
    "duration": 14,
    "start_time": "2023-05-01T09:03:58.936Z"
   },
   {
    "duration": 5,
    "start_time": "2023-05-01T09:03:58.951Z"
   },
   {
    "duration": 5,
    "start_time": "2023-05-01T09:03:58.957Z"
   },
   {
    "duration": 4,
    "start_time": "2023-05-01T09:03:58.964Z"
   },
   {
    "duration": 36,
    "start_time": "2023-05-01T09:03:58.970Z"
   },
   {
    "duration": 17,
    "start_time": "2023-05-01T09:03:59.007Z"
   },
   {
    "duration": 14,
    "start_time": "2023-05-01T09:03:59.026Z"
   },
   {
    "duration": 16,
    "start_time": "2023-05-01T09:03:59.042Z"
   },
   {
    "duration": 13,
    "start_time": "2023-05-01T09:03:59.059Z"
   },
   {
    "duration": 33,
    "start_time": "2023-05-01T09:03:59.073Z"
   },
   {
    "duration": 19,
    "start_time": "2023-05-01T09:03:59.107Z"
   },
   {
    "duration": 25,
    "start_time": "2023-05-01T09:03:59.128Z"
   },
   {
    "duration": 18,
    "start_time": "2023-05-01T09:03:59.155Z"
   },
   {
    "duration": 28,
    "start_time": "2023-05-01T09:03:59.175Z"
   },
   {
    "duration": 17,
    "start_time": "2023-05-01T09:03:59.204Z"
   },
   {
    "duration": 16,
    "start_time": "2023-05-01T09:03:59.224Z"
   },
   {
    "duration": 13,
    "start_time": "2023-05-01T09:03:59.241Z"
   },
   {
    "duration": 545,
    "start_time": "2023-05-01T09:03:59.255Z"
   },
   {
    "duration": 452,
    "start_time": "2023-05-01T09:03:59.802Z"
   },
   {
    "duration": 383,
    "start_time": "2023-05-01T09:04:00.256Z"
   },
   {
    "duration": 818,
    "start_time": "2023-05-01T09:04:00.641Z"
   },
   {
    "duration": 4,
    "start_time": "2023-05-01T09:04:01.460Z"
   },
   {
    "duration": 31,
    "start_time": "2023-05-01T09:04:01.466Z"
   },
   {
    "duration": 168,
    "start_time": "2023-05-01T09:04:01.498Z"
   },
   {
    "duration": 12,
    "start_time": "2023-05-01T09:04:01.668Z"
   },
   {
    "duration": 18,
    "start_time": "2023-05-01T09:04:01.682Z"
   },
   {
    "duration": 45,
    "start_time": "2023-05-01T09:04:01.702Z"
   },
   {
    "duration": 45,
    "start_time": "2023-05-01T09:04:01.749Z"
   },
   {
    "duration": 59,
    "start_time": "2023-05-01T09:04:01.796Z"
   },
   {
    "duration": 7,
    "start_time": "2023-05-01T09:04:01.857Z"
   },
   {
    "duration": 168,
    "start_time": "2023-05-01T09:04:01.865Z"
   },
   {
    "duration": 4,
    "start_time": "2023-05-01T09:04:02.035Z"
   },
   {
    "duration": 8,
    "start_time": "2023-05-01T09:04:02.040Z"
   },
   {
    "duration": 8,
    "start_time": "2023-05-01T09:04:02.049Z"
   },
   {
    "duration": 9,
    "start_time": "2023-05-01T09:04:02.058Z"
   },
   {
    "duration": 269,
    "start_time": "2023-05-01T09:04:04.961Z"
   },
   {
    "duration": 1285,
    "start_time": "2023-05-01T09:04:30.042Z"
   },
   {
    "duration": 930,
    "start_time": "2023-05-01T09:04:31.329Z"
   },
   {
    "duration": 18,
    "start_time": "2023-05-01T09:04:32.261Z"
   },
   {
    "duration": 39,
    "start_time": "2023-05-01T09:04:32.281Z"
   },
   {
    "duration": 14,
    "start_time": "2023-05-01T09:04:32.321Z"
   },
   {
    "duration": 28,
    "start_time": "2023-05-01T09:04:32.336Z"
   },
   {
    "duration": 13,
    "start_time": "2023-05-01T09:04:32.365Z"
   },
   {
    "duration": 20,
    "start_time": "2023-05-01T09:04:32.380Z"
   },
   {
    "duration": 15,
    "start_time": "2023-05-01T09:04:32.401Z"
   },
   {
    "duration": 12,
    "start_time": "2023-05-01T09:04:32.419Z"
   },
   {
    "duration": 87,
    "start_time": "2023-05-01T09:04:32.433Z"
   },
   {
    "duration": 14,
    "start_time": "2023-05-01T09:04:32.521Z"
   },
   {
    "duration": 21,
    "start_time": "2023-05-01T09:04:32.536Z"
   },
   {
    "duration": 13,
    "start_time": "2023-05-01T09:04:32.559Z"
   },
   {
    "duration": 24,
    "start_time": "2023-05-01T09:04:32.573Z"
   },
   {
    "duration": 4,
    "start_time": "2023-05-01T09:04:32.599Z"
   },
   {
    "duration": 5,
    "start_time": "2023-05-01T09:04:32.604Z"
   },
   {
    "duration": 12,
    "start_time": "2023-05-01T09:04:32.610Z"
   },
   {
    "duration": 19,
    "start_time": "2023-05-01T09:04:32.623Z"
   },
   {
    "duration": 14,
    "start_time": "2023-05-01T09:04:32.643Z"
   },
   {
    "duration": 48,
    "start_time": "2023-05-01T09:04:32.658Z"
   },
   {
    "duration": 13,
    "start_time": "2023-05-01T09:04:32.708Z"
   },
   {
    "duration": 13,
    "start_time": "2023-05-01T09:04:32.722Z"
   },
   {
    "duration": 13,
    "start_time": "2023-05-01T09:04:32.736Z"
   },
   {
    "duration": 18,
    "start_time": "2023-05-01T09:04:32.750Z"
   },
   {
    "duration": 39,
    "start_time": "2023-05-01T09:04:32.769Z"
   },
   {
    "duration": 12,
    "start_time": "2023-05-01T09:04:32.810Z"
   },
   {
    "duration": 13,
    "start_time": "2023-05-01T09:04:32.825Z"
   },
   {
    "duration": 18,
    "start_time": "2023-05-01T09:04:32.840Z"
   },
   {
    "duration": 35,
    "start_time": "2023-05-01T09:04:32.860Z"
   },
   {
    "duration": 358,
    "start_time": "2023-05-01T09:04:32.897Z"
   },
   {
    "duration": 413,
    "start_time": "2023-05-01T09:04:33.257Z"
   },
   {
    "duration": 371,
    "start_time": "2023-05-01T09:04:33.672Z"
   },
   {
    "duration": 707,
    "start_time": "2023-05-01T09:04:34.046Z"
   },
   {
    "duration": 4,
    "start_time": "2023-05-01T09:04:34.755Z"
   },
   {
    "duration": 5,
    "start_time": "2023-05-01T09:04:34.760Z"
   },
   {
    "duration": 30,
    "start_time": "2023-05-01T09:04:34.766Z"
   },
   {
    "duration": 8,
    "start_time": "2023-05-01T09:04:34.797Z"
   },
   {
    "duration": 14,
    "start_time": "2023-05-01T09:04:34.807Z"
   },
   {
    "duration": 40,
    "start_time": "2023-05-01T09:04:34.822Z"
   },
   {
    "duration": 53,
    "start_time": "2023-05-01T09:04:34.863Z"
   },
   {
    "duration": 50,
    "start_time": "2023-05-01T09:04:34.918Z"
   },
   {
    "duration": 6,
    "start_time": "2023-05-01T09:04:34.970Z"
   },
   {
    "duration": 147,
    "start_time": "2023-05-01T09:04:34.978Z"
   },
   {
    "duration": 4,
    "start_time": "2023-05-01T09:04:35.127Z"
   },
   {
    "duration": 7,
    "start_time": "2023-05-01T09:04:35.132Z"
   },
   {
    "duration": 8,
    "start_time": "2023-05-01T09:04:35.141Z"
   },
   {
    "duration": 7,
    "start_time": "2023-05-01T09:04:35.150Z"
   },
   {
    "duration": 296,
    "start_time": "2023-05-01T09:04:35.159Z"
   },
   {
    "duration": 582,
    "start_time": "2023-05-01T09:04:35.457Z"
   },
   {
    "duration": 0,
    "start_time": "2023-05-01T09:04:36.041Z"
   },
   {
    "duration": 0,
    "start_time": "2023-05-01T09:04:36.042Z"
   },
   {
    "duration": 0,
    "start_time": "2023-05-01T09:04:36.042Z"
   },
   {
    "duration": 0,
    "start_time": "2023-05-01T09:04:36.043Z"
   },
   {
    "duration": 0,
    "start_time": "2023-05-01T09:04:36.045Z"
   },
   {
    "duration": 0,
    "start_time": "2023-05-01T09:04:36.046Z"
   },
   {
    "duration": 223,
    "start_time": "2023-05-01T09:08:18.775Z"
   },
   {
    "duration": 1369,
    "start_time": "2023-05-01T09:08:30.506Z"
   },
   {
    "duration": 849,
    "start_time": "2023-05-01T09:08:31.877Z"
   },
   {
    "duration": 18,
    "start_time": "2023-05-01T09:08:32.727Z"
   },
   {
    "duration": 15,
    "start_time": "2023-05-01T09:08:32.747Z"
   },
   {
    "duration": 32,
    "start_time": "2023-05-01T09:08:32.763Z"
   },
   {
    "duration": 17,
    "start_time": "2023-05-01T09:08:32.796Z"
   },
   {
    "duration": 12,
    "start_time": "2023-05-01T09:08:32.815Z"
   },
   {
    "duration": 26,
    "start_time": "2023-05-01T09:08:32.828Z"
   },
   {
    "duration": 14,
    "start_time": "2023-05-01T09:08:32.856Z"
   },
   {
    "duration": 26,
    "start_time": "2023-05-01T09:08:32.873Z"
   },
   {
    "duration": 83,
    "start_time": "2023-05-01T09:08:32.901Z"
   },
   {
    "duration": 13,
    "start_time": "2023-05-01T09:08:32.985Z"
   },
   {
    "duration": 21,
    "start_time": "2023-05-01T09:08:32.999Z"
   },
   {
    "duration": 12,
    "start_time": "2023-05-01T09:08:33.021Z"
   },
   {
    "duration": 4,
    "start_time": "2023-05-01T09:08:33.035Z"
   },
   {
    "duration": 6,
    "start_time": "2023-05-01T09:08:33.040Z"
   },
   {
    "duration": 5,
    "start_time": "2023-05-01T09:08:33.047Z"
   },
   {
    "duration": 40,
    "start_time": "2023-05-01T09:08:33.054Z"
   },
   {
    "duration": 16,
    "start_time": "2023-05-01T09:08:33.096Z"
   },
   {
    "duration": 15,
    "start_time": "2023-05-01T09:08:33.113Z"
   },
   {
    "duration": 20,
    "start_time": "2023-05-01T09:08:33.129Z"
   },
   {
    "duration": 17,
    "start_time": "2023-05-01T09:08:33.150Z"
   },
   {
    "duration": 27,
    "start_time": "2023-05-01T09:08:33.168Z"
   },
   {
    "duration": 12,
    "start_time": "2023-05-01T09:08:33.196Z"
   },
   {
    "duration": 17,
    "start_time": "2023-05-01T09:08:33.209Z"
   },
   {
    "duration": 19,
    "start_time": "2023-05-01T09:08:33.227Z"
   },
   {
    "duration": 19,
    "start_time": "2023-05-01T09:08:33.247Z"
   },
   {
    "duration": 26,
    "start_time": "2023-05-01T09:08:33.269Z"
   },
   {
    "duration": 19,
    "start_time": "2023-05-01T09:08:33.296Z"
   },
   {
    "duration": 13,
    "start_time": "2023-05-01T09:08:33.316Z"
   },
   {
    "duration": 391,
    "start_time": "2023-05-01T09:08:33.330Z"
   },
   {
    "duration": 438,
    "start_time": "2023-05-01T09:08:33.723Z"
   },
   {
    "duration": 384,
    "start_time": "2023-05-01T09:08:34.163Z"
   },
   {
    "duration": 666,
    "start_time": "2023-05-01T09:08:34.549Z"
   },
   {
    "duration": 4,
    "start_time": "2023-05-01T09:08:35.217Z"
   },
   {
    "duration": 4,
    "start_time": "2023-05-01T09:08:35.223Z"
   },
   {
    "duration": 14,
    "start_time": "2023-05-01T09:08:35.229Z"
   },
   {
    "duration": 9,
    "start_time": "2023-05-01T09:08:35.244Z"
   },
   {
    "duration": 45,
    "start_time": "2023-05-01T09:08:35.255Z"
   },
   {
    "duration": 42,
    "start_time": "2023-05-01T09:08:35.302Z"
   },
   {
    "duration": 25,
    "start_time": "2023-05-01T09:08:35.346Z"
   },
   {
    "duration": 77,
    "start_time": "2023-05-01T09:08:35.373Z"
   },
   {
    "duration": 6,
    "start_time": "2023-05-01T09:08:35.452Z"
   },
   {
    "duration": 158,
    "start_time": "2023-05-01T09:08:35.460Z"
   },
   {
    "duration": 4,
    "start_time": "2023-05-01T09:08:35.619Z"
   },
   {
    "duration": 18,
    "start_time": "2023-05-01T09:08:35.625Z"
   },
   {
    "duration": 15,
    "start_time": "2023-05-01T09:08:35.644Z"
   },
   {
    "duration": 31,
    "start_time": "2023-05-01T09:08:35.661Z"
   },
   {
    "duration": 47,
    "start_time": "2023-05-01T09:08:35.693Z"
   },
   {
    "duration": 272,
    "start_time": "2023-05-01T09:08:35.741Z"
   },
   {
    "duration": 109,
    "start_time": "2023-05-01T09:08:36.015Z"
   },
   {
    "duration": 899,
    "start_time": "2023-05-01T09:08:36.126Z"
   },
   {
    "duration": 777,
    "start_time": "2023-05-01T09:08:37.026Z"
   },
   {
    "duration": 163,
    "start_time": "2023-05-01T09:08:37.805Z"
   },
   {
    "duration": 0,
    "start_time": "2023-05-01T09:08:37.970Z"
   },
   {
    "duration": 0,
    "start_time": "2023-05-01T09:08:37.971Z"
   },
   {
    "duration": 190,
    "start_time": "2023-05-01T09:09:19.519Z"
   },
   {
    "duration": 1321,
    "start_time": "2023-05-01T09:09:30.125Z"
   },
   {
    "duration": 843,
    "start_time": "2023-05-01T09:09:31.449Z"
   },
   {
    "duration": 19,
    "start_time": "2023-05-01T09:09:32.294Z"
   },
   {
    "duration": 18,
    "start_time": "2023-05-01T09:09:32.314Z"
   },
   {
    "duration": 22,
    "start_time": "2023-05-01T09:09:32.334Z"
   },
   {
    "duration": 23,
    "start_time": "2023-05-01T09:09:32.358Z"
   },
   {
    "duration": 14,
    "start_time": "2023-05-01T09:09:32.394Z"
   },
   {
    "duration": 21,
    "start_time": "2023-05-01T09:09:32.410Z"
   },
   {
    "duration": 26,
    "start_time": "2023-05-01T09:09:32.432Z"
   },
   {
    "duration": 14,
    "start_time": "2023-05-01T09:09:32.460Z"
   },
   {
    "duration": 79,
    "start_time": "2023-05-01T09:09:32.475Z"
   },
   {
    "duration": 14,
    "start_time": "2023-05-01T09:09:32.555Z"
   },
   {
    "duration": 33,
    "start_time": "2023-05-01T09:09:32.570Z"
   },
   {
    "duration": 11,
    "start_time": "2023-05-01T09:09:32.606Z"
   },
   {
    "duration": 5,
    "start_time": "2023-05-01T09:09:32.619Z"
   },
   {
    "duration": 5,
    "start_time": "2023-05-01T09:09:32.625Z"
   },
   {
    "duration": 4,
    "start_time": "2023-05-01T09:09:32.631Z"
   },
   {
    "duration": 12,
    "start_time": "2023-05-01T09:09:32.636Z"
   },
   {
    "duration": 15,
    "start_time": "2023-05-01T09:09:32.650Z"
   },
   {
    "duration": 12,
    "start_time": "2023-05-01T09:09:32.693Z"
   },
   {
    "duration": 16,
    "start_time": "2023-05-01T09:09:32.707Z"
   },
   {
    "duration": 12,
    "start_time": "2023-05-01T09:09:32.725Z"
   },
   {
    "duration": 20,
    "start_time": "2023-05-01T09:09:32.738Z"
   },
   {
    "duration": 13,
    "start_time": "2023-05-01T09:09:32.760Z"
   },
   {
    "duration": 16,
    "start_time": "2023-05-01T09:09:32.795Z"
   },
   {
    "duration": 17,
    "start_time": "2023-05-01T09:09:32.812Z"
   },
   {
    "duration": 12,
    "start_time": "2023-05-01T09:09:32.830Z"
   },
   {
    "duration": 21,
    "start_time": "2023-05-01T09:09:32.843Z"
   },
   {
    "duration": 28,
    "start_time": "2023-05-01T09:09:32.866Z"
   },
   {
    "duration": 13,
    "start_time": "2023-05-01T09:09:32.895Z"
   },
   {
    "duration": 362,
    "start_time": "2023-05-01T09:09:32.909Z"
   },
   {
    "duration": 413,
    "start_time": "2023-05-01T09:09:33.272Z"
   },
   {
    "duration": 383,
    "start_time": "2023-05-01T09:09:33.687Z"
   },
   {
    "duration": 717,
    "start_time": "2023-05-01T09:09:34.072Z"
   },
   {
    "duration": 5,
    "start_time": "2023-05-01T09:09:34.794Z"
   },
   {
    "duration": 12,
    "start_time": "2023-05-01T09:09:34.801Z"
   },
   {
    "duration": 13,
    "start_time": "2023-05-01T09:09:34.815Z"
   },
   {
    "duration": 9,
    "start_time": "2023-05-01T09:09:34.830Z"
   },
   {
    "duration": 15,
    "start_time": "2023-05-01T09:09:34.841Z"
   },
   {
    "duration": 67,
    "start_time": "2023-05-01T09:09:34.858Z"
   },
   {
    "duration": 26,
    "start_time": "2023-05-01T09:09:34.930Z"
   },
   {
    "duration": 67,
    "start_time": "2023-05-01T09:09:34.957Z"
   },
   {
    "duration": 7,
    "start_time": "2023-05-01T09:09:35.026Z"
   },
   {
    "duration": 178,
    "start_time": "2023-05-01T09:09:35.035Z"
   },
   {
    "duration": 4,
    "start_time": "2023-05-01T09:09:35.216Z"
   },
   {
    "duration": 10,
    "start_time": "2023-05-01T09:09:35.222Z"
   },
   {
    "duration": 8,
    "start_time": "2023-05-01T09:09:35.234Z"
   },
   {
    "duration": 8,
    "start_time": "2023-05-01T09:09:35.243Z"
   },
   {
    "duration": 68,
    "start_time": "2023-05-01T09:09:35.253Z"
   },
   {
    "duration": 17,
    "start_time": "2023-05-01T09:09:35.323Z"
   },
   {
    "duration": 22,
    "start_time": "2023-05-01T09:09:35.342Z"
   },
   {
    "duration": 34,
    "start_time": "2023-05-01T09:09:35.366Z"
   },
   {
    "duration": 15,
    "start_time": "2023-05-01T09:09:35.401Z"
   },
   {
    "duration": 50,
    "start_time": "2023-05-01T09:09:35.418Z"
   },
   {
    "duration": 171,
    "start_time": "2023-05-01T09:09:35.470Z"
   },
   {
    "duration": 51,
    "start_time": "2023-05-01T09:09:35.642Z"
   },
   {
    "duration": 5,
    "start_time": "2023-05-01T09:09:47.464Z"
   },
   {
    "duration": 1250,
    "start_time": "2023-05-01T09:09:55.328Z"
   },
   {
    "duration": 880,
    "start_time": "2023-05-01T09:09:56.580Z"
   },
   {
    "duration": 22,
    "start_time": "2023-05-01T09:09:57.461Z"
   },
   {
    "duration": 22,
    "start_time": "2023-05-01T09:09:57.485Z"
   },
   {
    "duration": 14,
    "start_time": "2023-05-01T09:09:57.508Z"
   },
   {
    "duration": 22,
    "start_time": "2023-05-01T09:09:57.524Z"
   },
   {
    "duration": 13,
    "start_time": "2023-05-01T09:09:57.547Z"
   },
   {
    "duration": 47,
    "start_time": "2023-05-01T09:09:57.562Z"
   },
   {
    "duration": 14,
    "start_time": "2023-05-01T09:09:57.611Z"
   },
   {
    "duration": 12,
    "start_time": "2023-05-01T09:09:57.627Z"
   },
   {
    "duration": 83,
    "start_time": "2023-05-01T09:09:57.641Z"
   },
   {
    "duration": 13,
    "start_time": "2023-05-01T09:09:57.726Z"
   },
   {
    "duration": 22,
    "start_time": "2023-05-01T09:09:57.741Z"
   },
   {
    "duration": 30,
    "start_time": "2023-05-01T09:09:57.765Z"
   },
   {
    "duration": 4,
    "start_time": "2023-05-01T09:09:57.797Z"
   },
   {
    "duration": 6,
    "start_time": "2023-05-01T09:09:57.802Z"
   },
   {
    "duration": 4,
    "start_time": "2023-05-01T09:09:57.809Z"
   },
   {
    "duration": 16,
    "start_time": "2023-05-01T09:09:57.814Z"
   },
   {
    "duration": 21,
    "start_time": "2023-05-01T09:09:57.831Z"
   },
   {
    "duration": 14,
    "start_time": "2023-05-01T09:09:57.853Z"
   },
   {
    "duration": 15,
    "start_time": "2023-05-01T09:09:57.895Z"
   },
   {
    "duration": 13,
    "start_time": "2023-05-01T09:09:57.912Z"
   },
   {
    "duration": 14,
    "start_time": "2023-05-01T09:09:57.926Z"
   },
   {
    "duration": 16,
    "start_time": "2023-05-01T09:09:57.941Z"
   },
   {
    "duration": 42,
    "start_time": "2023-05-01T09:09:57.959Z"
   },
   {
    "duration": 33,
    "start_time": "2023-05-01T09:09:58.003Z"
   },
   {
    "duration": 12,
    "start_time": "2023-05-01T09:09:58.038Z"
   },
   {
    "duration": 17,
    "start_time": "2023-05-01T09:09:58.053Z"
   },
   {
    "duration": 17,
    "start_time": "2023-05-01T09:09:58.071Z"
   },
   {
    "duration": 13,
    "start_time": "2023-05-01T09:09:58.089Z"
   },
   {
    "duration": 369,
    "start_time": "2023-05-01T09:09:58.103Z"
   },
   {
    "duration": 406,
    "start_time": "2023-05-01T09:09:58.473Z"
   },
   {
    "duration": 366,
    "start_time": "2023-05-01T09:09:58.881Z"
   },
   {
    "duration": 707,
    "start_time": "2023-05-01T09:09:59.249Z"
   },
   {
    "duration": 4,
    "start_time": "2023-05-01T09:09:59.957Z"
   },
   {
    "duration": 7,
    "start_time": "2023-05-01T09:09:59.963Z"
   },
   {
    "duration": 27,
    "start_time": "2023-05-01T09:09:59.972Z"
   },
   {
    "duration": 10,
    "start_time": "2023-05-01T09:10:00.000Z"
   },
   {
    "duration": 57,
    "start_time": "2023-05-01T09:10:00.012Z"
   },
   {
    "duration": 52,
    "start_time": "2023-05-01T09:10:00.071Z"
   },
   {
    "duration": 28,
    "start_time": "2023-05-01T09:10:00.125Z"
   },
   {
    "duration": 80,
    "start_time": "2023-05-01T09:10:00.155Z"
   },
   {
    "duration": 9,
    "start_time": "2023-05-01T09:10:00.237Z"
   },
   {
    "duration": 176,
    "start_time": "2023-05-01T09:10:00.248Z"
   },
   {
    "duration": 5,
    "start_time": "2023-05-01T09:10:00.426Z"
   },
   {
    "duration": 46,
    "start_time": "2023-05-01T09:10:00.433Z"
   },
   {
    "duration": 45,
    "start_time": "2023-05-01T09:10:00.481Z"
   },
   {
    "duration": 53,
    "start_time": "2023-05-01T09:10:00.528Z"
   },
   {
    "duration": 77,
    "start_time": "2023-05-01T09:10:00.583Z"
   },
   {
    "duration": 44,
    "start_time": "2023-05-01T09:10:00.662Z"
   },
   {
    "duration": 123,
    "start_time": "2023-05-01T09:10:00.708Z"
   },
   {
    "duration": 790,
    "start_time": "2023-05-01T09:10:00.832Z"
   },
   {
    "duration": 707,
    "start_time": "2023-05-01T09:10:01.624Z"
   },
   {
    "duration": 220,
    "start_time": "2023-05-01T09:10:02.333Z"
   },
   {
    "duration": 405,
    "start_time": "2023-05-01T09:10:02.554Z"
   },
   {
    "duration": 77,
    "start_time": "2023-05-01T09:10:02.960Z"
   },
   {
    "duration": 4,
    "start_time": "2023-05-01T09:10:56.477Z"
   },
   {
    "duration": 121,
    "start_time": "2023-05-01T09:12:48.251Z"
   },
   {
    "duration": 1297,
    "start_time": "2023-05-01T09:13:42.809Z"
   },
   {
    "duration": 845,
    "start_time": "2023-05-01T09:13:44.108Z"
   },
   {
    "duration": 18,
    "start_time": "2023-05-01T09:13:44.955Z"
   },
   {
    "duration": 26,
    "start_time": "2023-05-01T09:13:44.975Z"
   },
   {
    "duration": 36,
    "start_time": "2023-05-01T09:13:45.003Z"
   },
   {
    "duration": 17,
    "start_time": "2023-05-01T09:13:45.041Z"
   },
   {
    "duration": 15,
    "start_time": "2023-05-01T09:13:45.060Z"
   },
   {
    "duration": 22,
    "start_time": "2023-05-01T09:13:45.077Z"
   },
   {
    "duration": 13,
    "start_time": "2023-05-01T09:13:45.100Z"
   },
   {
    "duration": 13,
    "start_time": "2023-05-01T09:13:45.115Z"
   },
   {
    "duration": 86,
    "start_time": "2023-05-01T09:13:45.129Z"
   },
   {
    "duration": 13,
    "start_time": "2023-05-01T09:13:45.217Z"
   },
   {
    "duration": 21,
    "start_time": "2023-05-01T09:13:45.232Z"
   },
   {
    "duration": 14,
    "start_time": "2023-05-01T09:13:45.255Z"
   },
   {
    "duration": 25,
    "start_time": "2023-05-01T09:13:45.271Z"
   },
   {
    "duration": 4,
    "start_time": "2023-05-01T09:13:45.297Z"
   },
   {
    "duration": 6,
    "start_time": "2023-05-01T09:13:45.302Z"
   },
   {
    "duration": 11,
    "start_time": "2023-05-01T09:13:45.310Z"
   },
   {
    "duration": 15,
    "start_time": "2023-05-01T09:13:45.323Z"
   },
   {
    "duration": 12,
    "start_time": "2023-05-01T09:13:45.340Z"
   },
   {
    "duration": 48,
    "start_time": "2023-05-01T09:13:45.354Z"
   },
   {
    "duration": 16,
    "start_time": "2023-05-01T09:13:45.403Z"
   },
   {
    "duration": 17,
    "start_time": "2023-05-01T09:13:45.421Z"
   },
   {
    "duration": 20,
    "start_time": "2023-05-01T09:13:45.440Z"
   },
   {
    "duration": 42,
    "start_time": "2023-05-01T09:13:45.462Z"
   },
   {
    "duration": 16,
    "start_time": "2023-05-01T09:13:45.505Z"
   },
   {
    "duration": 13,
    "start_time": "2023-05-01T09:13:45.523Z"
   },
   {
    "duration": 15,
    "start_time": "2023-05-01T09:13:45.539Z"
   },
   {
    "duration": 39,
    "start_time": "2023-05-01T09:13:45.555Z"
   },
   {
    "duration": 13,
    "start_time": "2023-05-01T09:13:45.596Z"
   },
   {
    "duration": 359,
    "start_time": "2023-05-01T09:13:45.611Z"
   },
   {
    "duration": 400,
    "start_time": "2023-05-01T09:13:45.971Z"
   },
   {
    "duration": 365,
    "start_time": "2023-05-01T09:13:46.373Z"
   },
   {
    "duration": 682,
    "start_time": "2023-05-01T09:13:46.739Z"
   },
   {
    "duration": 6,
    "start_time": "2023-05-01T09:13:47.423Z"
   },
   {
    "duration": 5,
    "start_time": "2023-05-01T09:13:47.430Z"
   },
   {
    "duration": 13,
    "start_time": "2023-05-01T09:13:47.436Z"
   },
   {
    "duration": 8,
    "start_time": "2023-05-01T09:13:47.451Z"
   },
   {
    "duration": 46,
    "start_time": "2023-05-01T09:13:47.461Z"
   },
   {
    "duration": 42,
    "start_time": "2023-05-01T09:13:47.508Z"
   },
   {
    "duration": 26,
    "start_time": "2023-05-01T09:13:47.552Z"
   },
   {
    "duration": 53,
    "start_time": "2023-05-01T09:13:47.595Z"
   },
   {
    "duration": 7,
    "start_time": "2023-05-01T09:13:47.650Z"
   },
   {
    "duration": 154,
    "start_time": "2023-05-01T09:13:47.658Z"
   },
   {
    "duration": 4,
    "start_time": "2023-05-01T09:13:47.813Z"
   },
   {
    "duration": 9,
    "start_time": "2023-05-01T09:13:47.818Z"
   },
   {
    "duration": 9,
    "start_time": "2023-05-01T09:13:47.828Z"
   },
   {
    "duration": 8,
    "start_time": "2023-05-01T09:13:47.838Z"
   },
   {
    "duration": 63,
    "start_time": "2023-05-01T09:13:47.847Z"
   },
   {
    "duration": 38,
    "start_time": "2023-05-01T09:13:47.912Z"
   },
   {
    "duration": 130,
    "start_time": "2023-05-01T09:13:47.952Z"
   },
   {
    "duration": 12,
    "start_time": "2023-05-01T09:13:48.084Z"
   },
   {
    "duration": 108,
    "start_time": "2023-05-01T09:13:48.098Z"
   },
   {
    "duration": 781,
    "start_time": "2023-05-01T09:13:48.208Z"
   },
   {
    "duration": 713,
    "start_time": "2023-05-01T09:13:48.990Z"
   },
   {
    "duration": 207,
    "start_time": "2023-05-01T09:13:49.704Z"
   },
   {
    "duration": 383,
    "start_time": "2023-05-01T09:13:49.913Z"
   },
   {
    "duration": 55,
    "start_time": "2023-05-01T09:13:50.297Z"
   },
   {
    "duration": 120,
    "start_time": "2023-05-01T09:17:08.499Z"
   },
   {
    "duration": 6,
    "start_time": "2023-05-01T09:17:31.938Z"
   },
   {
    "duration": 7,
    "start_time": "2023-05-01T09:17:39.495Z"
   },
   {
    "duration": 1413,
    "start_time": "2023-05-03T03:29:26.798Z"
   },
   {
    "duration": 1075,
    "start_time": "2023-05-03T03:29:28.213Z"
   },
   {
    "duration": 20,
    "start_time": "2023-05-03T03:29:29.289Z"
   },
   {
    "duration": 13,
    "start_time": "2023-05-03T03:29:29.311Z"
   },
   {
    "duration": 15,
    "start_time": "2023-05-03T03:29:29.325Z"
   },
   {
    "duration": 22,
    "start_time": "2023-05-03T03:29:29.341Z"
   },
   {
    "duration": 13,
    "start_time": "2023-05-03T03:29:29.364Z"
   },
   {
    "duration": 20,
    "start_time": "2023-05-03T03:29:29.394Z"
   },
   {
    "duration": 13,
    "start_time": "2023-05-03T03:29:29.416Z"
   },
   {
    "duration": 13,
    "start_time": "2023-05-03T03:29:29.432Z"
   },
   {
    "duration": 96,
    "start_time": "2023-05-03T03:29:29.446Z"
   },
   {
    "duration": 13,
    "start_time": "2023-05-03T03:29:29.544Z"
   },
   {
    "duration": 21,
    "start_time": "2023-05-03T03:29:29.558Z"
   },
   {
    "duration": 12,
    "start_time": "2023-05-03T03:29:29.594Z"
   },
   {
    "duration": 5,
    "start_time": "2023-05-03T03:29:29.608Z"
   },
   {
    "duration": 10,
    "start_time": "2023-05-03T03:29:29.615Z"
   },
   {
    "duration": 4,
    "start_time": "2023-05-03T03:29:29.627Z"
   },
   {
    "duration": 12,
    "start_time": "2023-05-03T03:29:29.632Z"
   },
   {
    "duration": 15,
    "start_time": "2023-05-03T03:29:29.646Z"
   },
   {
    "duration": 34,
    "start_time": "2023-05-03T03:29:29.662Z"
   },
   {
    "duration": 16,
    "start_time": "2023-05-03T03:29:29.697Z"
   },
   {
    "duration": 12,
    "start_time": "2023-05-03T03:29:29.714Z"
   },
   {
    "duration": 20,
    "start_time": "2023-05-03T03:29:29.727Z"
   },
   {
    "duration": 25,
    "start_time": "2023-05-03T03:29:29.748Z"
   },
   {
    "duration": 23,
    "start_time": "2023-05-03T03:29:29.774Z"
   },
   {
    "duration": 23,
    "start_time": "2023-05-03T03:29:29.798Z"
   },
   {
    "duration": 12,
    "start_time": "2023-05-03T03:29:29.822Z"
   },
   {
    "duration": 13,
    "start_time": "2023-05-03T03:29:29.837Z"
   },
   {
    "duration": 16,
    "start_time": "2023-05-03T03:29:29.851Z"
   },
   {
    "duration": 28,
    "start_time": "2023-05-03T03:29:29.868Z"
   },
   {
    "duration": 376,
    "start_time": "2023-05-03T03:29:29.898Z"
   },
   {
    "duration": 446,
    "start_time": "2023-05-03T03:29:30.276Z"
   },
   {
    "duration": 409,
    "start_time": "2023-05-03T03:29:30.723Z"
   },
   {
    "duration": 698,
    "start_time": "2023-05-03T03:29:31.134Z"
   },
   {
    "duration": 4,
    "start_time": "2023-05-03T03:29:31.834Z"
   },
   {
    "duration": 36,
    "start_time": "2023-05-03T03:29:31.840Z"
   },
   {
    "duration": 29,
    "start_time": "2023-05-03T03:29:31.877Z"
   },
   {
    "duration": 9,
    "start_time": "2023-05-03T03:29:31.908Z"
   },
   {
    "duration": 28,
    "start_time": "2023-05-03T03:29:31.918Z"
   },
   {
    "duration": 54,
    "start_time": "2023-05-03T03:29:31.947Z"
   },
   {
    "duration": 27,
    "start_time": "2023-05-03T03:30:03.494Z"
   },
   {
    "duration": 11,
    "start_time": "2023-05-03T03:30:06.317Z"
   },
   {
    "duration": 7,
    "start_time": "2023-05-03T03:30:10.886Z"
   },
   {
    "duration": 6,
    "start_time": "2023-05-03T03:30:14.017Z"
   },
   {
    "duration": 1266,
    "start_time": "2023-05-03T03:30:23.133Z"
   },
   {
    "duration": 824,
    "start_time": "2023-05-03T03:30:24.401Z"
   },
   {
    "duration": 18,
    "start_time": "2023-05-03T03:30:25.227Z"
   },
   {
    "duration": 20,
    "start_time": "2023-05-03T03:30:25.246Z"
   },
   {
    "duration": 29,
    "start_time": "2023-05-03T03:30:25.267Z"
   },
   {
    "duration": 25,
    "start_time": "2023-05-03T03:30:25.298Z"
   },
   {
    "duration": 22,
    "start_time": "2023-05-03T03:30:25.324Z"
   },
   {
    "duration": 19,
    "start_time": "2023-05-03T03:30:25.347Z"
   },
   {
    "duration": 25,
    "start_time": "2023-05-03T03:30:25.367Z"
   },
   {
    "duration": 15,
    "start_time": "2023-05-03T03:30:25.395Z"
   },
   {
    "duration": 83,
    "start_time": "2023-05-03T03:30:25.411Z"
   },
   {
    "duration": 13,
    "start_time": "2023-05-03T03:30:25.496Z"
   },
   {
    "duration": 22,
    "start_time": "2023-05-03T03:30:25.511Z"
   },
   {
    "duration": 12,
    "start_time": "2023-05-03T03:30:25.535Z"
   },
   {
    "duration": 5,
    "start_time": "2023-05-03T03:30:25.548Z"
   },
   {
    "duration": 6,
    "start_time": "2023-05-03T03:30:25.554Z"
   },
   {
    "duration": 34,
    "start_time": "2023-05-03T03:30:25.561Z"
   },
   {
    "duration": 14,
    "start_time": "2023-05-03T03:30:25.597Z"
   },
   {
    "duration": 16,
    "start_time": "2023-05-03T03:30:25.613Z"
   },
   {
    "duration": 14,
    "start_time": "2023-05-03T03:30:25.630Z"
   },
   {
    "duration": 26,
    "start_time": "2023-05-03T03:30:25.645Z"
   },
   {
    "duration": 27,
    "start_time": "2023-05-03T03:30:25.673Z"
   },
   {
    "duration": 14,
    "start_time": "2023-05-03T03:30:25.702Z"
   },
   {
    "duration": 16,
    "start_time": "2023-05-03T03:30:25.717Z"
   },
   {
    "duration": 18,
    "start_time": "2023-05-03T03:30:25.734Z"
   },
   {
    "duration": 17,
    "start_time": "2023-05-03T03:30:25.753Z"
   },
   {
    "duration": 32,
    "start_time": "2023-05-03T03:30:25.772Z"
   },
   {
    "duration": 14,
    "start_time": "2023-05-03T03:30:25.807Z"
   },
   {
    "duration": 17,
    "start_time": "2023-05-03T03:30:25.822Z"
   },
   {
    "duration": 12,
    "start_time": "2023-05-03T03:30:25.840Z"
   },
   {
    "duration": 396,
    "start_time": "2023-05-03T03:30:25.853Z"
   },
   {
    "duration": 423,
    "start_time": "2023-05-03T03:30:26.251Z"
   },
   {
    "duration": 389,
    "start_time": "2023-05-03T03:30:26.675Z"
   },
   {
    "duration": 658,
    "start_time": "2023-05-03T03:30:27.066Z"
   },
   {
    "duration": 5,
    "start_time": "2023-05-03T03:30:27.725Z"
   },
   {
    "duration": 11,
    "start_time": "2023-05-03T03:30:27.731Z"
   },
   {
    "duration": 15,
    "start_time": "2023-05-03T03:30:27.743Z"
   },
   {
    "duration": 8,
    "start_time": "2023-05-03T03:30:27.759Z"
   },
   {
    "duration": 37,
    "start_time": "2023-05-03T03:30:27.769Z"
   },
   {
    "duration": 43,
    "start_time": "2023-05-03T03:30:27.807Z"
   },
   {
    "duration": 42,
    "start_time": "2023-05-03T03:30:27.852Z"
   },
   {
    "duration": 11,
    "start_time": "2023-05-03T03:30:27.896Z"
   },
   {
    "duration": 7,
    "start_time": "2023-05-03T03:30:27.909Z"
   },
   {
    "duration": 5,
    "start_time": "2023-05-03T03:30:27.918Z"
   },
   {
    "duration": 151,
    "start_time": "2023-05-03T03:30:27.925Z"
   },
   {
    "duration": 5,
    "start_time": "2023-05-03T03:30:28.078Z"
   },
   {
    "duration": 8,
    "start_time": "2023-05-03T03:30:28.094Z"
   },
   {
    "duration": 9,
    "start_time": "2023-05-03T03:30:28.103Z"
   },
   {
    "duration": 9,
    "start_time": "2023-05-03T03:30:28.114Z"
   },
   {
    "duration": 48,
    "start_time": "2023-05-03T03:30:28.125Z"
   },
   {
    "duration": 43,
    "start_time": "2023-05-03T03:30:28.195Z"
   },
   {
    "duration": 128,
    "start_time": "2023-05-03T03:30:28.240Z"
   },
   {
    "duration": 5,
    "start_time": "2023-05-03T03:30:28.370Z"
   },
   {
    "duration": 105,
    "start_time": "2023-05-03T03:30:28.376Z"
   },
   {
    "duration": 792,
    "start_time": "2023-05-03T03:30:28.494Z"
   },
   {
    "duration": 700,
    "start_time": "2023-05-03T03:30:29.288Z"
   },
   {
    "duration": 215,
    "start_time": "2023-05-03T03:30:29.989Z"
   },
   {
    "duration": 399,
    "start_time": "2023-05-03T03:30:30.205Z"
   },
   {
    "duration": 64,
    "start_time": "2023-05-03T03:30:30.606Z"
   },
   {
    "duration": 5,
    "start_time": "2023-05-03T03:31:37.639Z"
   },
   {
    "duration": 5,
    "start_time": "2023-05-03T03:32:17.434Z"
   },
   {
    "duration": 7,
    "start_time": "2023-05-03T03:34:23.533Z"
   },
   {
    "duration": 3,
    "start_time": "2023-05-03T03:34:37.882Z"
   },
   {
    "duration": 776,
    "start_time": "2023-05-03T03:34:37.888Z"
   },
   {
    "duration": 29,
    "start_time": "2023-05-03T03:34:38.666Z"
   },
   {
    "duration": 14,
    "start_time": "2023-05-03T03:34:38.697Z"
   },
   {
    "duration": 22,
    "start_time": "2023-05-03T03:34:38.713Z"
   },
   {
    "duration": 19,
    "start_time": "2023-05-03T03:34:38.737Z"
   },
   {
    "duration": 13,
    "start_time": "2023-05-03T03:34:38.758Z"
   },
   {
    "duration": 39,
    "start_time": "2023-05-03T03:34:38.773Z"
   },
   {
    "duration": 22,
    "start_time": "2023-05-03T03:34:38.814Z"
   },
   {
    "duration": 12,
    "start_time": "2023-05-03T03:34:38.838Z"
   },
   {
    "duration": 66,
    "start_time": "2023-05-03T03:34:38.852Z"
   },
   {
    "duration": 13,
    "start_time": "2023-05-03T03:34:38.919Z"
   },
   {
    "duration": 29,
    "start_time": "2023-05-03T03:34:38.934Z"
   },
   {
    "duration": 12,
    "start_time": "2023-05-03T03:34:38.965Z"
   },
   {
    "duration": 7,
    "start_time": "2023-05-03T03:34:38.978Z"
   },
   {
    "duration": 12,
    "start_time": "2023-05-03T03:34:38.986Z"
   },
   {
    "duration": 9,
    "start_time": "2023-05-03T03:34:38.999Z"
   },
   {
    "duration": 38,
    "start_time": "2023-05-03T03:34:39.010Z"
   },
   {
    "duration": 18,
    "start_time": "2023-05-03T03:34:39.049Z"
   },
   {
    "duration": 22,
    "start_time": "2023-05-03T03:34:39.068Z"
   },
   {
    "duration": 22,
    "start_time": "2023-05-03T03:34:39.092Z"
   },
   {
    "duration": 12,
    "start_time": "2023-05-03T03:34:39.116Z"
   },
   {
    "duration": 14,
    "start_time": "2023-05-03T03:34:39.130Z"
   },
   {
    "duration": 16,
    "start_time": "2023-05-03T03:34:39.145Z"
   },
   {
    "duration": 23,
    "start_time": "2023-05-03T03:34:39.162Z"
   },
   {
    "duration": 21,
    "start_time": "2023-05-03T03:34:39.187Z"
   },
   {
    "duration": 12,
    "start_time": "2023-05-03T03:34:39.209Z"
   },
   {
    "duration": 18,
    "start_time": "2023-05-03T03:34:39.223Z"
   },
   {
    "duration": 16,
    "start_time": "2023-05-03T03:34:39.244Z"
   },
   {
    "duration": 12,
    "start_time": "2023-05-03T03:34:39.262Z"
   },
   {
    "duration": 378,
    "start_time": "2023-05-03T03:34:39.275Z"
   },
   {
    "duration": 364,
    "start_time": "2023-05-03T03:34:39.654Z"
   },
   {
    "duration": 339,
    "start_time": "2023-05-03T03:34:40.020Z"
   },
   {
    "duration": 662,
    "start_time": "2023-05-03T03:34:40.361Z"
   },
   {
    "duration": 4,
    "start_time": "2023-05-03T03:34:41.025Z"
   },
   {
    "duration": 7,
    "start_time": "2023-05-03T03:34:41.030Z"
   },
   {
    "duration": 14,
    "start_time": "2023-05-03T03:34:41.038Z"
   },
   {
    "duration": 14,
    "start_time": "2023-05-03T03:34:43.869Z"
   },
   {
    "duration": 14,
    "start_time": "2023-05-03T03:36:44.434Z"
   },
   {
    "duration": 9,
    "start_time": "2023-05-03T03:36:51.986Z"
   },
   {
    "duration": 24,
    "start_time": "2023-05-03T03:37:11.305Z"
   },
   {
    "duration": 16,
    "start_time": "2023-05-03T03:37:28.701Z"
   },
   {
    "duration": 28,
    "start_time": "2023-05-03T03:38:06.760Z"
   },
   {
    "duration": 41,
    "start_time": "2023-05-03T03:38:18.826Z"
   },
   {
    "duration": 23,
    "start_time": "2023-05-03T03:38:31.510Z"
   },
   {
    "duration": 11,
    "start_time": "2023-05-03T03:38:39.442Z"
   },
   {
    "duration": 7,
    "start_time": "2023-05-03T03:38:41.359Z"
   },
   {
    "duration": 6,
    "start_time": "2023-05-03T03:38:46.037Z"
   },
   {
    "duration": 5,
    "start_time": "2023-05-03T03:38:49.079Z"
   },
   {
    "duration": 5,
    "start_time": "2023-05-03T03:51:13.962Z"
   },
   {
    "duration": 5,
    "start_time": "2023-05-03T03:51:18.378Z"
   },
   {
    "duration": 5,
    "start_time": "2023-05-03T03:51:26.604Z"
   },
   {
    "duration": 5,
    "start_time": "2023-05-03T03:52:02.261Z"
   },
   {
    "duration": 4,
    "start_time": "2023-05-03T03:52:24.893Z"
   },
   {
    "duration": 4,
    "start_time": "2023-05-03T04:02:12.428Z"
   },
   {
    "duration": 766,
    "start_time": "2023-05-03T04:02:12.434Z"
   },
   {
    "duration": 17,
    "start_time": "2023-05-03T04:02:13.202Z"
   },
   {
    "duration": 13,
    "start_time": "2023-05-03T04:02:13.221Z"
   },
   {
    "duration": 12,
    "start_time": "2023-05-03T04:02:13.236Z"
   },
   {
    "duration": 16,
    "start_time": "2023-05-03T04:02:13.250Z"
   },
   {
    "duration": 35,
    "start_time": "2023-05-03T04:02:13.268Z"
   },
   {
    "duration": 18,
    "start_time": "2023-05-03T04:02:13.304Z"
   },
   {
    "duration": 29,
    "start_time": "2023-05-03T04:02:13.324Z"
   },
   {
    "duration": 21,
    "start_time": "2023-05-03T04:02:13.355Z"
   },
   {
    "duration": 58,
    "start_time": "2023-05-03T04:02:13.379Z"
   },
   {
    "duration": 13,
    "start_time": "2023-05-03T04:02:13.440Z"
   },
   {
    "duration": 29,
    "start_time": "2023-05-03T04:02:13.455Z"
   },
   {
    "duration": 16,
    "start_time": "2023-05-03T04:02:13.486Z"
   },
   {
    "duration": 14,
    "start_time": "2023-05-03T04:02:13.504Z"
   },
   {
    "duration": 17,
    "start_time": "2023-05-03T04:02:13.520Z"
   },
   {
    "duration": 8,
    "start_time": "2023-05-03T04:02:13.539Z"
   },
   {
    "duration": 31,
    "start_time": "2023-05-03T04:02:13.549Z"
   },
   {
    "duration": 25,
    "start_time": "2023-05-03T04:02:13.581Z"
   },
   {
    "duration": 19,
    "start_time": "2023-05-03T04:02:13.607Z"
   },
   {
    "duration": 16,
    "start_time": "2023-05-03T04:02:13.628Z"
   },
   {
    "duration": 14,
    "start_time": "2023-05-03T04:02:13.646Z"
   },
   {
    "duration": 14,
    "start_time": "2023-05-03T04:02:13.661Z"
   },
   {
    "duration": 27,
    "start_time": "2023-05-03T04:02:13.677Z"
   },
   {
    "duration": 17,
    "start_time": "2023-05-03T04:02:13.705Z"
   },
   {
    "duration": 15,
    "start_time": "2023-05-03T04:02:13.723Z"
   },
   {
    "duration": 11,
    "start_time": "2023-05-03T04:02:13.740Z"
   },
   {
    "duration": 14,
    "start_time": "2023-05-03T04:02:13.752Z"
   },
   {
    "duration": 16,
    "start_time": "2023-05-03T04:02:13.793Z"
   },
   {
    "duration": 13,
    "start_time": "2023-05-03T04:02:13.810Z"
   },
   {
    "duration": 383,
    "start_time": "2023-05-03T04:02:13.825Z"
   },
   {
    "duration": 365,
    "start_time": "2023-05-03T04:02:14.210Z"
   },
   {
    "duration": 323,
    "start_time": "2023-05-03T04:02:14.576Z"
   },
   {
    "duration": 607,
    "start_time": "2023-05-03T04:02:14.901Z"
   },
   {
    "duration": 4,
    "start_time": "2023-05-03T04:02:15.510Z"
   },
   {
    "duration": 6,
    "start_time": "2023-05-03T04:02:15.515Z"
   },
   {
    "duration": 14,
    "start_time": "2023-05-03T04:02:15.522Z"
   },
   {
    "duration": 13,
    "start_time": "2023-05-03T04:02:15.537Z"
   },
   {
    "duration": 30,
    "start_time": "2023-05-03T04:02:15.552Z"
   },
   {
    "duration": 31,
    "start_time": "2023-05-03T04:02:15.584Z"
   },
   {
    "duration": 39,
    "start_time": "2023-05-03T04:02:15.617Z"
   },
   {
    "duration": 11,
    "start_time": "2023-05-03T04:02:18.760Z"
   },
   {
    "duration": 9,
    "start_time": "2023-05-03T04:03:59.042Z"
   },
   {
    "duration": 18,
    "start_time": "2023-05-03T04:04:03.020Z"
   },
   {
    "duration": 4,
    "start_time": "2023-05-03T04:04:13.889Z"
   },
   {
    "duration": 887,
    "start_time": "2023-05-03T04:04:13.895Z"
   },
   {
    "duration": 17,
    "start_time": "2023-05-03T04:04:14.784Z"
   },
   {
    "duration": 39,
    "start_time": "2023-05-03T04:04:14.803Z"
   },
   {
    "duration": 13,
    "start_time": "2023-05-03T04:04:14.844Z"
   },
   {
    "duration": 42,
    "start_time": "2023-05-03T04:04:14.858Z"
   },
   {
    "duration": 23,
    "start_time": "2023-05-03T04:04:14.902Z"
   },
   {
    "duration": 22,
    "start_time": "2023-05-03T04:04:14.926Z"
   },
   {
    "duration": 19,
    "start_time": "2023-05-03T04:04:14.950Z"
   },
   {
    "duration": 22,
    "start_time": "2023-05-03T04:04:14.970Z"
   },
   {
    "duration": 102,
    "start_time": "2023-05-03T04:04:14.995Z"
   },
   {
    "duration": 13,
    "start_time": "2023-05-03T04:04:15.098Z"
   },
   {
    "duration": 26,
    "start_time": "2023-05-03T04:04:15.112Z"
   },
   {
    "duration": 18,
    "start_time": "2023-05-03T04:04:15.139Z"
   },
   {
    "duration": 8,
    "start_time": "2023-05-03T04:04:15.158Z"
   },
   {
    "duration": 7,
    "start_time": "2023-05-03T04:04:15.167Z"
   },
   {
    "duration": 19,
    "start_time": "2023-05-03T04:04:15.176Z"
   },
   {
    "duration": 15,
    "start_time": "2023-05-03T04:04:15.196Z"
   },
   {
    "duration": 16,
    "start_time": "2023-05-03T04:04:15.212Z"
   },
   {
    "duration": 15,
    "start_time": "2023-05-03T04:04:15.229Z"
   },
   {
    "duration": 17,
    "start_time": "2023-05-03T04:04:15.245Z"
   },
   {
    "duration": 31,
    "start_time": "2023-05-03T04:04:15.263Z"
   },
   {
    "duration": 12,
    "start_time": "2023-05-03T04:04:15.296Z"
   },
   {
    "duration": 12,
    "start_time": "2023-05-03T04:04:15.310Z"
   },
   {
    "duration": 31,
    "start_time": "2023-05-03T04:04:15.323Z"
   },
   {
    "duration": 357,
    "start_time": "2023-05-03T04:04:15.356Z"
   },
   {
    "duration": 18,
    "start_time": "2023-05-03T04:04:15.714Z"
   },
   {
    "duration": 16,
    "start_time": "2023-05-03T04:04:15.733Z"
   },
   {
    "duration": 16,
    "start_time": "2023-05-03T04:04:15.752Z"
   },
   {
    "duration": 40,
    "start_time": "2023-05-03T04:04:15.770Z"
   },
   {
    "duration": 408,
    "start_time": "2023-05-03T04:04:15.812Z"
   },
   {
    "duration": 417,
    "start_time": "2023-05-03T04:04:16.221Z"
   },
   {
    "duration": 384,
    "start_time": "2023-05-03T04:04:16.640Z"
   },
   {
    "duration": 657,
    "start_time": "2023-05-03T04:04:17.026Z"
   },
   {
    "duration": 11,
    "start_time": "2023-05-03T04:04:17.684Z"
   },
   {
    "duration": 4,
    "start_time": "2023-05-03T04:04:17.697Z"
   },
   {
    "duration": 30,
    "start_time": "2023-05-03T04:04:17.702Z"
   },
   {
    "duration": 14,
    "start_time": "2023-05-03T04:04:17.734Z"
   },
   {
    "duration": 8,
    "start_time": "2023-05-03T04:04:17.749Z"
   },
   {
    "duration": 43,
    "start_time": "2023-05-03T04:04:17.759Z"
   },
   {
    "duration": 41,
    "start_time": "2023-05-03T04:04:17.803Z"
   },
   {
    "duration": 49,
    "start_time": "2023-05-03T04:08:59.969Z"
   },
   {
    "duration": 5,
    "start_time": "2023-05-03T04:09:05.232Z"
   },
   {
    "duration": 3,
    "start_time": "2023-05-03T04:09:10.687Z"
   },
   {
    "duration": 3,
    "start_time": "2023-05-03T04:09:27.100Z"
   },
   {
    "duration": 5,
    "start_time": "2023-05-03T04:09:36.421Z"
   },
   {
    "duration": 114,
    "start_time": "2023-05-03T04:10:11.881Z"
   },
   {
    "duration": 686,
    "start_time": "2023-05-03T04:13:56.170Z"
   },
   {
    "duration": 154,
    "start_time": "2023-05-03T04:14:22.840Z"
   },
   {
    "duration": 171,
    "start_time": "2023-05-03T04:14:38.225Z"
   },
   {
    "duration": 155,
    "start_time": "2023-05-03T04:14:56.415Z"
   },
   {
    "duration": 10,
    "start_time": "2023-05-03T04:18:43.718Z"
   },
   {
    "duration": 8,
    "start_time": "2023-05-03T04:21:30.377Z"
   },
   {
    "duration": 62,
    "start_time": "2023-05-03T04:22:15.332Z"
   },
   {
    "duration": 122,
    "start_time": "2023-05-03T04:22:21.270Z"
   },
   {
    "duration": 608,
    "start_time": "2023-05-03T04:27:05.150Z"
   },
   {
    "duration": 265,
    "start_time": "2023-05-03T04:27:07.644Z"
   },
   {
    "duration": 202,
    "start_time": "2023-05-03T04:28:02.106Z"
   },
   {
    "duration": 58,
    "start_time": "2023-05-03T04:31:28.425Z"
   },
   {
    "duration": 65,
    "start_time": "2023-05-03T04:32:21.877Z"
   },
   {
    "duration": 286,
    "start_time": "2023-05-03T04:32:47.666Z"
   },
   {
    "duration": 20,
    "start_time": "2023-05-03T04:35:48.382Z"
   },
   {
    "duration": 9,
    "start_time": "2023-05-03T04:38:25.245Z"
   },
   {
    "duration": 9,
    "start_time": "2023-05-03T04:39:33.397Z"
   },
   {
    "duration": 1310,
    "start_time": "2023-05-03T04:39:54.669Z"
   },
   {
    "duration": 836,
    "start_time": "2023-05-03T04:39:55.980Z"
   },
   {
    "duration": 17,
    "start_time": "2023-05-03T04:39:56.817Z"
   },
   {
    "duration": 14,
    "start_time": "2023-05-03T04:39:56.836Z"
   },
   {
    "duration": 13,
    "start_time": "2023-05-03T04:39:56.851Z"
   },
   {
    "duration": 36,
    "start_time": "2023-05-03T04:39:56.865Z"
   },
   {
    "duration": 13,
    "start_time": "2023-05-03T04:39:56.903Z"
   },
   {
    "duration": 21,
    "start_time": "2023-05-03T04:39:56.917Z"
   },
   {
    "duration": 15,
    "start_time": "2023-05-03T04:39:56.939Z"
   },
   {
    "duration": 12,
    "start_time": "2023-05-03T04:39:56.957Z"
   },
   {
    "duration": 83,
    "start_time": "2023-05-03T04:39:56.971Z"
   },
   {
    "duration": 12,
    "start_time": "2023-05-03T04:39:57.056Z"
   },
   {
    "duration": 31,
    "start_time": "2023-05-03T04:39:57.070Z"
   },
   {
    "duration": 12,
    "start_time": "2023-05-03T04:39:57.103Z"
   },
   {
    "duration": 4,
    "start_time": "2023-05-03T04:39:57.116Z"
   },
   {
    "duration": 5,
    "start_time": "2023-05-03T04:39:57.121Z"
   },
   {
    "duration": 5,
    "start_time": "2023-05-03T04:39:57.127Z"
   },
   {
    "duration": 14,
    "start_time": "2023-05-03T04:39:57.133Z"
   },
   {
    "duration": 52,
    "start_time": "2023-05-03T04:39:57.149Z"
   },
   {
    "duration": 15,
    "start_time": "2023-05-03T04:39:57.203Z"
   },
   {
    "duration": 20,
    "start_time": "2023-05-03T04:39:57.220Z"
   },
   {
    "duration": 13,
    "start_time": "2023-05-03T04:39:57.241Z"
   },
   {
    "duration": 15,
    "start_time": "2023-05-03T04:39:57.255Z"
   },
   {
    "duration": 33,
    "start_time": "2023-05-03T04:39:57.271Z"
   },
   {
    "duration": 19,
    "start_time": "2023-05-03T04:39:57.305Z"
   },
   {
    "duration": 17,
    "start_time": "2023-05-03T04:39:57.325Z"
   },
   {
    "duration": 12,
    "start_time": "2023-05-03T04:39:57.343Z"
   },
   {
    "duration": 13,
    "start_time": "2023-05-03T04:39:57.358Z"
   },
   {
    "duration": 40,
    "start_time": "2023-05-03T04:39:57.372Z"
   },
   {
    "duration": 14,
    "start_time": "2023-05-03T04:39:57.414Z"
   },
   {
    "duration": 400,
    "start_time": "2023-05-03T04:39:57.430Z"
   },
   {
    "duration": 439,
    "start_time": "2023-05-03T04:39:57.832Z"
   },
   {
    "duration": 377,
    "start_time": "2023-05-03T04:39:58.272Z"
   },
   {
    "duration": 663,
    "start_time": "2023-05-03T04:39:58.651Z"
   },
   {
    "duration": 5,
    "start_time": "2023-05-03T04:39:59.316Z"
   },
   {
    "duration": 5,
    "start_time": "2023-05-03T04:39:59.323Z"
   },
   {
    "duration": 17,
    "start_time": "2023-05-03T04:39:59.329Z"
   },
   {
    "duration": 13,
    "start_time": "2023-05-03T04:39:59.347Z"
   },
   {
    "duration": 71,
    "start_time": "2023-05-03T04:39:59.361Z"
   },
   {
    "duration": 140,
    "start_time": "2023-05-03T04:39:59.434Z"
   },
   {
    "duration": 4,
    "start_time": "2023-05-03T04:39:59.575Z"
   },
   {
    "duration": 14,
    "start_time": "2023-05-03T04:39:59.581Z"
   },
   {
    "duration": 8,
    "start_time": "2023-05-03T04:39:59.596Z"
   },
   {
    "duration": 9,
    "start_time": "2023-05-03T04:39:59.605Z"
   },
   {
    "duration": 41,
    "start_time": "2023-05-03T04:39:59.616Z"
   },
   {
    "duration": 68,
    "start_time": "2023-05-03T04:39:59.659Z"
   },
   {
    "duration": 132,
    "start_time": "2023-05-03T04:39:59.729Z"
   },
   {
    "duration": 240,
    "start_time": "2023-05-03T04:39:59.863Z"
   },
   {
    "duration": 8,
    "start_time": "2023-05-03T04:40:00.104Z"
   },
   {
    "duration": 66,
    "start_time": "2023-05-03T04:40:00.113Z"
   },
   {
    "duration": 87,
    "start_time": "2023-05-03T04:40:00.181Z"
   },
   {
    "duration": 112,
    "start_time": "2023-05-03T04:40:00.269Z"
   },
   {
    "duration": 0,
    "start_time": "2023-05-03T04:40:00.382Z"
   },
   {
    "duration": 0,
    "start_time": "2023-05-03T04:40:00.383Z"
   },
   {
    "duration": 0,
    "start_time": "2023-05-03T04:40:00.384Z"
   },
   {
    "duration": 0,
    "start_time": "2023-05-03T04:40:00.385Z"
   },
   {
    "duration": 0,
    "start_time": "2023-05-03T04:40:00.386Z"
   },
   {
    "duration": 197,
    "start_time": "2023-05-03T04:40:30.173Z"
   },
   {
    "duration": 744,
    "start_time": "2023-05-03T04:40:41.935Z"
   },
   {
    "duration": 189,
    "start_time": "2023-05-03T04:40:51.236Z"
   },
   {
    "duration": 16567,
    "start_time": "2023-05-03T04:40:56.131Z"
   },
   {
    "duration": 107,
    "start_time": "2023-05-03T04:41:42.179Z"
   },
   {
    "duration": 89,
    "start_time": "2023-05-03T04:42:30.437Z"
   },
   {
    "duration": 1279,
    "start_time": "2023-05-03T04:44:13.135Z"
   },
   {
    "duration": 4,
    "start_time": "2023-05-03T04:45:18.338Z"
   },
   {
    "duration": 109,
    "start_time": "2023-05-03T04:45:27.507Z"
   },
   {
    "duration": 55,
    "start_time": "2023-05-03T04:48:13.533Z"
   },
   {
    "duration": 68,
    "start_time": "2023-05-03T04:49:39.292Z"
   },
   {
    "duration": 3,
    "start_time": "2023-05-03T04:55:50.944Z"
   },
   {
    "duration": 1118,
    "start_time": "2023-05-03T04:55:50.982Z"
   },
   {
    "duration": 20,
    "start_time": "2023-05-03T04:55:52.102Z"
   },
   {
    "duration": 71,
    "start_time": "2023-05-03T04:55:52.124Z"
   },
   {
    "duration": 25,
    "start_time": "2023-05-03T04:55:52.197Z"
   },
   {
    "duration": 31,
    "start_time": "2023-05-03T04:55:52.223Z"
   },
   {
    "duration": 23,
    "start_time": "2023-05-03T04:55:52.255Z"
   },
   {
    "duration": 25,
    "start_time": "2023-05-03T04:55:52.280Z"
   },
   {
    "duration": 59,
    "start_time": "2023-05-03T04:55:52.307Z"
   },
   {
    "duration": 13,
    "start_time": "2023-05-03T04:55:52.368Z"
   },
   {
    "duration": 72,
    "start_time": "2023-05-03T04:55:52.384Z"
   },
   {
    "duration": 12,
    "start_time": "2023-05-03T04:55:52.458Z"
   },
   {
    "duration": 26,
    "start_time": "2023-05-03T04:55:52.471Z"
   },
   {
    "duration": 12,
    "start_time": "2023-05-03T04:55:52.499Z"
   },
   {
    "duration": 6,
    "start_time": "2023-05-03T04:55:52.512Z"
   },
   {
    "duration": 7,
    "start_time": "2023-05-03T04:55:52.519Z"
   },
   {
    "duration": 11,
    "start_time": "2023-05-03T04:55:52.527Z"
   },
   {
    "duration": 13,
    "start_time": "2023-05-03T04:55:52.539Z"
   },
   {
    "duration": 43,
    "start_time": "2023-05-03T04:55:52.553Z"
   },
   {
    "duration": 13,
    "start_time": "2023-05-03T04:55:52.598Z"
   },
   {
    "duration": 26,
    "start_time": "2023-05-03T04:55:52.613Z"
   },
   {
    "duration": 12,
    "start_time": "2023-05-03T04:55:52.641Z"
   },
   {
    "duration": 14,
    "start_time": "2023-05-03T04:55:52.654Z"
   },
   {
    "duration": 28,
    "start_time": "2023-05-03T04:55:52.669Z"
   },
   {
    "duration": 18,
    "start_time": "2023-05-03T04:55:52.699Z"
   },
   {
    "duration": 17,
    "start_time": "2023-05-03T04:55:52.718Z"
   },
   {
    "duration": 13,
    "start_time": "2023-05-03T04:55:52.737Z"
   },
   {
    "duration": 15,
    "start_time": "2023-05-03T04:55:52.751Z"
   },
   {
    "duration": 17,
    "start_time": "2023-05-03T04:55:52.794Z"
   },
   {
    "duration": 15,
    "start_time": "2023-05-03T04:55:52.812Z"
   },
   {
    "duration": 396,
    "start_time": "2023-05-03T04:55:52.828Z"
   },
   {
    "duration": 430,
    "start_time": "2023-05-03T04:55:53.226Z"
   },
   {
    "duration": 396,
    "start_time": "2023-05-03T04:55:53.657Z"
   },
   {
    "duration": 704,
    "start_time": "2023-05-03T04:55:54.057Z"
   },
   {
    "duration": 5,
    "start_time": "2023-05-03T04:55:54.763Z"
   },
   {
    "duration": 5,
    "start_time": "2023-05-03T04:55:54.769Z"
   },
   {
    "duration": 31,
    "start_time": "2023-05-03T04:55:54.776Z"
   },
   {
    "duration": 15,
    "start_time": "2023-05-03T04:55:54.809Z"
   },
   {
    "duration": 68,
    "start_time": "2023-05-03T04:55:54.826Z"
   },
   {
    "duration": 144,
    "start_time": "2023-05-03T04:55:54.896Z"
   },
   {
    "duration": 5,
    "start_time": "2023-05-03T04:55:55.042Z"
   },
   {
    "duration": 5,
    "start_time": "2023-05-03T04:55:55.049Z"
   },
   {
    "duration": 9,
    "start_time": "2023-05-03T04:55:55.056Z"
   },
   {
    "duration": 33,
    "start_time": "2023-05-03T04:55:55.066Z"
   },
   {
    "duration": 41,
    "start_time": "2023-05-03T04:55:55.100Z"
   },
   {
    "duration": 56,
    "start_time": "2023-05-03T04:55:55.143Z"
   },
   {
    "duration": 128,
    "start_time": "2023-05-03T04:55:55.201Z"
   },
   {
    "duration": 233,
    "start_time": "2023-05-03T04:55:55.330Z"
   },
   {
    "duration": 8,
    "start_time": "2023-05-03T04:55:55.564Z"
   },
   {
    "duration": 58,
    "start_time": "2023-05-03T04:55:55.573Z"
   },
   {
    "duration": 92,
    "start_time": "2023-05-03T04:55:55.632Z"
   },
   {
    "duration": 215,
    "start_time": "2023-05-03T04:55:55.726Z"
   },
   {
    "duration": 713,
    "start_time": "2023-05-03T04:55:55.942Z"
   },
   {
    "duration": 199,
    "start_time": "2023-05-03T04:55:56.657Z"
   },
   {
    "duration": 22846,
    "start_time": "2023-05-03T04:55:56.858Z"
   },
   {
    "duration": 91,
    "start_time": "2023-05-03T04:57:07.167Z"
   },
   {
    "duration": 1281,
    "start_time": "2023-05-03T04:57:25.208Z"
   },
   {
    "duration": 1136,
    "start_time": "2023-05-03T04:57:26.491Z"
   },
   {
    "duration": 19,
    "start_time": "2023-05-03T04:57:27.629Z"
   },
   {
    "duration": 14,
    "start_time": "2023-05-03T04:57:27.650Z"
   },
   {
    "duration": 30,
    "start_time": "2023-05-03T04:57:27.666Z"
   },
   {
    "duration": 23,
    "start_time": "2023-05-03T04:57:27.697Z"
   },
   {
    "duration": 13,
    "start_time": "2023-05-03T04:57:27.722Z"
   },
   {
    "duration": 29,
    "start_time": "2023-05-03T04:57:27.736Z"
   },
   {
    "duration": 37,
    "start_time": "2023-05-03T04:57:27.767Z"
   },
   {
    "duration": 21,
    "start_time": "2023-05-03T04:57:27.807Z"
   },
   {
    "duration": 78,
    "start_time": "2023-05-03T04:57:27.829Z"
   },
   {
    "duration": 12,
    "start_time": "2023-05-03T04:57:27.909Z"
   },
   {
    "duration": 28,
    "start_time": "2023-05-03T04:57:27.923Z"
   },
   {
    "duration": 13,
    "start_time": "2023-05-03T04:57:27.952Z"
   },
   {
    "duration": 7,
    "start_time": "2023-05-03T04:57:27.967Z"
   },
   {
    "duration": 22,
    "start_time": "2023-05-03T04:57:27.975Z"
   },
   {
    "duration": 5,
    "start_time": "2023-05-03T04:57:27.998Z"
   },
   {
    "duration": 12,
    "start_time": "2023-05-03T04:57:28.004Z"
   },
   {
    "duration": 16,
    "start_time": "2023-05-03T04:57:28.018Z"
   },
   {
    "duration": 13,
    "start_time": "2023-05-03T04:57:28.036Z"
   },
   {
    "duration": 17,
    "start_time": "2023-05-03T04:57:28.050Z"
   },
   {
    "duration": 14,
    "start_time": "2023-05-03T04:57:28.093Z"
   },
   {
    "duration": 14,
    "start_time": "2023-05-03T04:57:28.108Z"
   },
   {
    "duration": 13,
    "start_time": "2023-05-03T04:57:28.124Z"
   },
   {
    "duration": 19,
    "start_time": "2023-05-03T04:57:28.139Z"
   },
   {
    "duration": 39,
    "start_time": "2023-05-03T04:57:28.159Z"
   },
   {
    "duration": 12,
    "start_time": "2023-05-03T04:57:28.200Z"
   },
   {
    "duration": 20,
    "start_time": "2023-05-03T04:57:28.217Z"
   },
   {
    "duration": 21,
    "start_time": "2023-05-03T04:57:28.239Z"
   },
   {
    "duration": 34,
    "start_time": "2023-05-03T04:57:28.262Z"
   },
   {
    "duration": 369,
    "start_time": "2023-05-03T04:57:28.297Z"
   },
   {
    "duration": 426,
    "start_time": "2023-05-03T04:57:28.668Z"
   },
   {
    "duration": 385,
    "start_time": "2023-05-03T04:57:29.096Z"
   },
   {
    "duration": 665,
    "start_time": "2023-05-03T04:57:29.482Z"
   },
   {
    "duration": 5,
    "start_time": "2023-05-03T04:57:30.149Z"
   },
   {
    "duration": 28,
    "start_time": "2023-05-03T04:57:30.155Z"
   },
   {
    "duration": 45,
    "start_time": "2023-05-03T04:57:30.184Z"
   },
   {
    "duration": 20,
    "start_time": "2023-05-03T04:57:30.231Z"
   },
   {
    "duration": 48,
    "start_time": "2023-05-03T04:57:30.252Z"
   },
   {
    "duration": 137,
    "start_time": "2023-05-03T04:57:30.302Z"
   },
   {
    "duration": 4,
    "start_time": "2023-05-03T04:57:30.441Z"
   },
   {
    "duration": 23,
    "start_time": "2023-05-03T04:57:30.447Z"
   },
   {
    "duration": 31,
    "start_time": "2023-05-03T04:57:30.471Z"
   },
   {
    "duration": 28,
    "start_time": "2023-05-03T04:57:30.503Z"
   },
   {
    "duration": 68,
    "start_time": "2023-05-03T04:57:30.532Z"
   },
   {
    "duration": 42,
    "start_time": "2023-05-03T04:57:30.602Z"
   },
   {
    "duration": 148,
    "start_time": "2023-05-03T04:57:30.646Z"
   },
   {
    "duration": 252,
    "start_time": "2023-05-03T04:57:30.796Z"
   },
   {
    "duration": 8,
    "start_time": "2023-05-03T04:57:31.050Z"
   },
   {
    "duration": 65,
    "start_time": "2023-05-03T04:57:31.059Z"
   },
   {
    "duration": 91,
    "start_time": "2023-05-03T04:57:31.127Z"
   },
   {
    "duration": 230,
    "start_time": "2023-05-03T04:57:31.219Z"
   },
   {
    "duration": 773,
    "start_time": "2023-05-03T04:57:31.451Z"
   },
   {
    "duration": 191,
    "start_time": "2023-05-03T04:57:32.225Z"
   },
   {
    "duration": 17878,
    "start_time": "2023-05-03T04:57:32.418Z"
   },
   {
    "duration": 1260,
    "start_time": "2023-05-03T04:58:58.002Z"
   },
   {
    "duration": 1078,
    "start_time": "2023-05-03T04:58:59.264Z"
   },
   {
    "duration": 18,
    "start_time": "2023-05-03T04:59:00.343Z"
   },
   {
    "duration": 34,
    "start_time": "2023-05-03T04:59:00.362Z"
   },
   {
    "duration": 26,
    "start_time": "2023-05-03T04:59:00.397Z"
   },
   {
    "duration": 51,
    "start_time": "2023-05-03T04:59:00.424Z"
   },
   {
    "duration": 66,
    "start_time": "2023-05-03T04:59:00.476Z"
   },
   {
    "duration": 49,
    "start_time": "2023-05-03T04:59:00.543Z"
   },
   {
    "duration": 44,
    "start_time": "2023-05-03T04:59:00.594Z"
   },
   {
    "duration": 58,
    "start_time": "2023-05-03T04:59:00.640Z"
   },
   {
    "duration": 105,
    "start_time": "2023-05-03T04:59:00.699Z"
   },
   {
    "duration": 13,
    "start_time": "2023-05-03T04:59:00.806Z"
   },
   {
    "duration": 48,
    "start_time": "2023-05-03T04:59:00.821Z"
   },
   {
    "duration": 41,
    "start_time": "2023-05-03T04:59:00.871Z"
   },
   {
    "duration": 45,
    "start_time": "2023-05-03T04:59:00.913Z"
   },
   {
    "duration": 40,
    "start_time": "2023-05-03T04:59:00.960Z"
   },
   {
    "duration": 50,
    "start_time": "2023-05-03T04:59:01.002Z"
   },
   {
    "duration": 55,
    "start_time": "2023-05-03T04:59:01.054Z"
   },
   {
    "duration": 44,
    "start_time": "2023-05-03T04:59:01.111Z"
   },
   {
    "duration": 39,
    "start_time": "2023-05-03T04:59:01.157Z"
   },
   {
    "duration": 69,
    "start_time": "2023-05-03T04:59:01.197Z"
   },
   {
    "duration": 47,
    "start_time": "2023-05-03T04:59:01.268Z"
   },
   {
    "duration": 64,
    "start_time": "2023-05-03T04:59:01.317Z"
   },
   {
    "duration": 51,
    "start_time": "2023-05-03T04:59:01.382Z"
   },
   {
    "duration": 42,
    "start_time": "2023-05-03T04:59:01.434Z"
   },
   {
    "duration": 50,
    "start_time": "2023-05-03T04:59:01.478Z"
   },
   {
    "duration": 44,
    "start_time": "2023-05-03T04:59:01.530Z"
   },
   {
    "duration": 52,
    "start_time": "2023-05-03T04:59:01.577Z"
   },
   {
    "duration": 41,
    "start_time": "2023-05-03T04:59:01.630Z"
   },
   {
    "duration": 34,
    "start_time": "2023-05-03T04:59:01.673Z"
   },
   {
    "duration": 377,
    "start_time": "2023-05-03T04:59:01.708Z"
   },
   {
    "duration": 398,
    "start_time": "2023-05-03T04:59:02.086Z"
   },
   {
    "duration": 366,
    "start_time": "2023-05-03T04:59:02.486Z"
   },
   {
    "duration": 658,
    "start_time": "2023-05-03T04:59:02.853Z"
   },
   {
    "duration": 4,
    "start_time": "2023-05-03T04:59:03.512Z"
   },
   {
    "duration": 5,
    "start_time": "2023-05-03T04:59:03.517Z"
   },
   {
    "duration": 22,
    "start_time": "2023-05-03T04:59:03.523Z"
   },
   {
    "duration": 13,
    "start_time": "2023-05-03T04:59:03.547Z"
   },
   {
    "duration": 66,
    "start_time": "2023-05-03T04:59:03.562Z"
   },
   {
    "duration": 155,
    "start_time": "2023-05-03T04:59:03.630Z"
   },
   {
    "duration": 8,
    "start_time": "2023-05-03T04:59:03.787Z"
   },
   {
    "duration": 6,
    "start_time": "2023-05-03T04:59:03.797Z"
   },
   {
    "duration": 9,
    "start_time": "2023-05-03T04:59:03.804Z"
   },
   {
    "duration": 9,
    "start_time": "2023-05-03T04:59:03.814Z"
   },
   {
    "duration": 38,
    "start_time": "2023-05-03T04:59:03.825Z"
   },
   {
    "duration": 66,
    "start_time": "2023-05-03T04:59:03.865Z"
   },
   {
    "duration": 130,
    "start_time": "2023-05-03T04:59:03.932Z"
   },
   {
    "duration": 272,
    "start_time": "2023-05-03T04:59:04.064Z"
   },
   {
    "duration": 9,
    "start_time": "2023-05-03T04:59:04.338Z"
   },
   {
    "duration": 57,
    "start_time": "2023-05-03T04:59:04.349Z"
   },
   {
    "duration": 98,
    "start_time": "2023-05-03T04:59:04.408Z"
   },
   {
    "duration": 206,
    "start_time": "2023-05-03T04:59:04.508Z"
   },
   {
    "duration": 757,
    "start_time": "2023-05-03T04:59:04.716Z"
   },
   {
    "duration": 211,
    "start_time": "2023-05-03T04:59:05.475Z"
   },
   {
    "duration": 17004,
    "start_time": "2023-05-03T04:59:05.695Z"
   },
   {
    "duration": 190,
    "start_time": "2023-05-03T04:59:28.020Z"
   },
   {
    "duration": 49,
    "start_time": "2023-05-03T05:04:08.721Z"
   },
   {
    "duration": 1274,
    "start_time": "2023-05-03T05:19:59.635Z"
   },
   {
    "duration": 4,
    "start_time": "2023-05-03T05:20:59.409Z"
   },
   {
    "duration": 1087,
    "start_time": "2023-05-03T05:20:59.477Z"
   },
   {
    "duration": 32,
    "start_time": "2023-05-03T05:21:00.566Z"
   },
   {
    "duration": 53,
    "start_time": "2023-05-03T05:21:00.599Z"
   },
   {
    "duration": 34,
    "start_time": "2023-05-03T05:21:00.655Z"
   },
   {
    "duration": 69,
    "start_time": "2023-05-03T05:21:00.691Z"
   },
   {
    "duration": 18,
    "start_time": "2023-05-03T05:21:00.762Z"
   },
   {
    "duration": 52,
    "start_time": "2023-05-03T05:21:00.781Z"
   },
   {
    "duration": 32,
    "start_time": "2023-05-03T05:21:00.835Z"
   },
   {
    "duration": 61,
    "start_time": "2023-05-03T05:21:00.869Z"
   },
   {
    "duration": 87,
    "start_time": "2023-05-03T05:21:00.933Z"
   },
   {
    "duration": 15,
    "start_time": "2023-05-03T05:21:01.021Z"
   },
   {
    "duration": 62,
    "start_time": "2023-05-03T05:21:01.037Z"
   },
   {
    "duration": 32,
    "start_time": "2023-05-03T05:21:01.101Z"
   },
   {
    "duration": 27,
    "start_time": "2023-05-03T05:21:01.135Z"
   },
   {
    "duration": 51,
    "start_time": "2023-05-03T05:21:01.164Z"
   },
   {
    "duration": 69,
    "start_time": "2023-05-03T05:21:01.217Z"
   },
   {
    "duration": 58,
    "start_time": "2023-05-03T05:21:01.288Z"
   },
   {
    "duration": 64,
    "start_time": "2023-05-03T05:21:01.348Z"
   },
   {
    "duration": 70,
    "start_time": "2023-05-03T05:21:01.413Z"
   },
   {
    "duration": 72,
    "start_time": "2023-05-03T05:21:01.485Z"
   },
   {
    "duration": 69,
    "start_time": "2023-05-03T05:21:01.559Z"
   },
   {
    "duration": 31,
    "start_time": "2023-05-03T05:21:01.630Z"
   },
   {
    "duration": 39,
    "start_time": "2023-05-03T05:21:01.663Z"
   },
   {
    "duration": 57,
    "start_time": "2023-05-03T05:21:01.703Z"
   },
   {
    "duration": 45,
    "start_time": "2023-05-03T05:21:01.761Z"
   },
   {
    "duration": 22,
    "start_time": "2023-05-03T05:21:01.807Z"
   },
   {
    "duration": 36,
    "start_time": "2023-05-03T05:21:01.830Z"
   },
   {
    "duration": 22,
    "start_time": "2023-05-03T05:21:01.870Z"
   },
   {
    "duration": 33,
    "start_time": "2023-05-03T05:21:01.894Z"
   },
   {
    "duration": 384,
    "start_time": "2023-05-03T05:21:01.928Z"
   },
   {
    "duration": 422,
    "start_time": "2023-05-03T05:21:02.314Z"
   },
   {
    "duration": 367,
    "start_time": "2023-05-03T05:21:02.738Z"
   },
   {
    "duration": 665,
    "start_time": "2023-05-03T05:21:03.107Z"
   },
   {
    "duration": 4,
    "start_time": "2023-05-03T05:21:03.774Z"
   },
   {
    "duration": 21,
    "start_time": "2023-05-03T05:21:03.779Z"
   },
   {
    "duration": 26,
    "start_time": "2023-05-03T05:21:03.802Z"
   },
   {
    "duration": 13,
    "start_time": "2023-05-03T05:21:03.830Z"
   },
   {
    "duration": 50,
    "start_time": "2023-05-03T05:21:03.844Z"
   },
   {
    "duration": 136,
    "start_time": "2023-05-03T05:21:03.896Z"
   },
   {
    "duration": 4,
    "start_time": "2023-05-03T05:21:04.033Z"
   },
   {
    "duration": 7,
    "start_time": "2023-05-03T05:21:04.039Z"
   },
   {
    "duration": 9,
    "start_time": "2023-05-03T05:21:04.048Z"
   },
   {
    "duration": 9,
    "start_time": "2023-05-03T05:21:04.059Z"
   },
   {
    "duration": 48,
    "start_time": "2023-05-03T05:21:04.095Z"
   },
   {
    "duration": 55,
    "start_time": "2023-05-03T05:21:04.145Z"
   },
   {
    "duration": 149,
    "start_time": "2023-05-03T05:21:04.202Z"
   },
   {
    "duration": 258,
    "start_time": "2023-05-03T05:21:04.353Z"
   },
   {
    "duration": 7,
    "start_time": "2023-05-03T05:21:04.612Z"
   },
   {
    "duration": 40,
    "start_time": "2023-05-03T05:21:04.621Z"
   },
   {
    "duration": 102,
    "start_time": "2023-05-03T05:21:04.663Z"
   },
   {
    "duration": 280,
    "start_time": "2023-05-03T05:21:04.766Z"
   },
   {
    "duration": 789,
    "start_time": "2023-05-03T05:21:05.047Z"
   },
   {
    "duration": 199,
    "start_time": "2023-05-03T05:21:05.838Z"
   },
   {
    "duration": 18060,
    "start_time": "2023-05-03T05:21:06.038Z"
   },
   {
    "duration": 66,
    "start_time": "2023-05-03T05:21:29.324Z"
   },
   {
    "duration": 4,
    "start_time": "2023-05-03T05:23:10.201Z"
   },
   {
    "duration": 790,
    "start_time": "2023-05-03T05:23:21.812Z"
   },
   {
    "duration": 210,
    "start_time": "2023-05-03T05:25:16.796Z"
   },
   {
    "duration": 83,
    "start_time": "2023-05-03T05:28:25.692Z"
   },
   {
    "duration": 1256,
    "start_time": "2023-05-03T05:28:31.648Z"
   },
   {
    "duration": 1089,
    "start_time": "2023-05-03T05:28:32.906Z"
   },
   {
    "duration": 19,
    "start_time": "2023-05-03T05:28:33.998Z"
   },
   {
    "duration": 42,
    "start_time": "2023-05-03T05:28:34.019Z"
   },
   {
    "duration": 22,
    "start_time": "2023-05-03T05:28:34.063Z"
   },
   {
    "duration": 31,
    "start_time": "2023-05-03T05:28:34.087Z"
   },
   {
    "duration": 17,
    "start_time": "2023-05-03T05:28:34.120Z"
   },
   {
    "duration": 38,
    "start_time": "2023-05-03T05:28:34.139Z"
   },
   {
    "duration": 36,
    "start_time": "2023-05-03T05:28:34.179Z"
   },
   {
    "duration": 19,
    "start_time": "2023-05-03T05:28:34.219Z"
   },
   {
    "duration": 107,
    "start_time": "2023-05-03T05:28:34.240Z"
   },
   {
    "duration": 17,
    "start_time": "2023-05-03T05:28:34.350Z"
   },
   {
    "duration": 39,
    "start_time": "2023-05-03T05:28:34.368Z"
   },
   {
    "duration": 21,
    "start_time": "2023-05-03T05:28:34.409Z"
   },
   {
    "duration": 16,
    "start_time": "2023-05-03T05:28:34.432Z"
   },
   {
    "duration": 20,
    "start_time": "2023-05-03T05:28:34.450Z"
   },
   {
    "duration": 5,
    "start_time": "2023-05-03T05:28:34.472Z"
   },
   {
    "duration": 20,
    "start_time": "2023-05-03T05:28:34.478Z"
   },
   {
    "duration": 24,
    "start_time": "2023-05-03T05:28:34.499Z"
   },
   {
    "duration": 21,
    "start_time": "2023-05-03T05:28:34.525Z"
   },
   {
    "duration": 19,
    "start_time": "2023-05-03T05:28:34.548Z"
   },
   {
    "duration": 16,
    "start_time": "2023-05-03T05:28:34.569Z"
   },
   {
    "duration": 19,
    "start_time": "2023-05-03T05:28:34.587Z"
   },
   {
    "duration": 21,
    "start_time": "2023-05-03T05:28:34.607Z"
   },
   {
    "duration": 21,
    "start_time": "2023-05-03T05:28:34.629Z"
   },
   {
    "duration": 22,
    "start_time": "2023-05-03T05:28:34.652Z"
   },
   {
    "duration": 20,
    "start_time": "2023-05-03T05:28:34.676Z"
   },
   {
    "duration": 20,
    "start_time": "2023-05-03T05:28:34.699Z"
   },
   {
    "duration": 17,
    "start_time": "2023-05-03T05:28:34.721Z"
   },
   {
    "duration": 14,
    "start_time": "2023-05-03T05:28:34.740Z"
   },
   {
    "duration": 410,
    "start_time": "2023-05-03T05:28:34.756Z"
   },
   {
    "duration": 445,
    "start_time": "2023-05-03T05:28:35.168Z"
   },
   {
    "duration": 404,
    "start_time": "2023-05-03T05:28:35.615Z"
   },
   {
    "duration": 702,
    "start_time": "2023-05-03T05:28:36.021Z"
   },
   {
    "duration": 4,
    "start_time": "2023-05-03T05:28:36.724Z"
   },
   {
    "duration": 38,
    "start_time": "2023-05-03T05:28:36.730Z"
   },
   {
    "duration": 25,
    "start_time": "2023-05-03T05:28:36.769Z"
   },
   {
    "duration": 12,
    "start_time": "2023-05-03T05:28:36.796Z"
   },
   {
    "duration": 44,
    "start_time": "2023-05-03T05:28:36.810Z"
   },
   {
    "duration": 152,
    "start_time": "2023-05-03T05:28:36.856Z"
   },
   {
    "duration": 4,
    "start_time": "2023-05-03T05:28:37.010Z"
   },
   {
    "duration": 13,
    "start_time": "2023-05-03T05:28:37.016Z"
   },
   {
    "duration": 13,
    "start_time": "2023-05-03T05:28:37.030Z"
   },
   {
    "duration": 8,
    "start_time": "2023-05-03T05:28:37.045Z"
   },
   {
    "duration": 52,
    "start_time": "2023-05-03T05:28:37.054Z"
   },
   {
    "duration": 37,
    "start_time": "2023-05-03T05:28:37.108Z"
   },
   {
    "duration": 155,
    "start_time": "2023-05-03T05:28:37.147Z"
   },
   {
    "duration": 227,
    "start_time": "2023-05-03T05:28:37.303Z"
   },
   {
    "duration": 7,
    "start_time": "2023-05-03T05:28:37.531Z"
   },
   {
    "duration": 51,
    "start_time": "2023-05-03T05:28:37.539Z"
   },
   {
    "duration": 91,
    "start_time": "2023-05-03T05:28:37.594Z"
   },
   {
    "duration": 201,
    "start_time": "2023-05-03T05:28:37.693Z"
   },
   {
    "duration": 742,
    "start_time": "2023-05-03T05:28:37.896Z"
   },
   {
    "duration": 190,
    "start_time": "2023-05-03T05:28:38.639Z"
   },
   {
    "duration": 18067,
    "start_time": "2023-05-03T05:28:38.831Z"
   },
   {
    "duration": 953,
    "start_time": "2023-05-03T05:28:56.900Z"
   },
   {
    "duration": 198,
    "start_time": "2023-05-03T05:28:57.854Z"
   },
   {
    "duration": 1291,
    "start_time": "2023-05-03T05:31:19.796Z"
   },
   {
    "duration": 1120,
    "start_time": "2023-05-03T05:31:21.089Z"
   },
   {
    "duration": 18,
    "start_time": "2023-05-03T05:31:22.210Z"
   },
   {
    "duration": 15,
    "start_time": "2023-05-03T05:31:22.230Z"
   },
   {
    "duration": 24,
    "start_time": "2023-05-03T05:31:22.246Z"
   },
   {
    "duration": 32,
    "start_time": "2023-05-03T05:31:22.272Z"
   },
   {
    "duration": 13,
    "start_time": "2023-05-03T05:31:22.305Z"
   },
   {
    "duration": 25,
    "start_time": "2023-05-03T05:31:22.319Z"
   },
   {
    "duration": 29,
    "start_time": "2023-05-03T05:31:22.346Z"
   },
   {
    "duration": 13,
    "start_time": "2023-05-03T05:31:22.378Z"
   },
   {
    "duration": 67,
    "start_time": "2023-05-03T05:31:22.394Z"
   },
   {
    "duration": 14,
    "start_time": "2023-05-03T05:31:22.462Z"
   },
   {
    "duration": 36,
    "start_time": "2023-05-03T05:31:22.478Z"
   },
   {
    "duration": 12,
    "start_time": "2023-05-03T05:31:22.515Z"
   },
   {
    "duration": 6,
    "start_time": "2023-05-03T05:31:22.529Z"
   },
   {
    "duration": 5,
    "start_time": "2023-05-03T05:31:22.537Z"
   },
   {
    "duration": 5,
    "start_time": "2023-05-03T05:31:22.544Z"
   },
   {
    "duration": 53,
    "start_time": "2023-05-03T05:31:22.551Z"
   },
   {
    "duration": 38,
    "start_time": "2023-05-03T05:31:22.606Z"
   },
   {
    "duration": 32,
    "start_time": "2023-05-03T05:31:22.646Z"
   },
   {
    "duration": 24,
    "start_time": "2023-05-03T05:31:22.679Z"
   },
   {
    "duration": 23,
    "start_time": "2023-05-03T05:31:22.705Z"
   },
   {
    "duration": 24,
    "start_time": "2023-05-03T05:31:22.730Z"
   },
   {
    "duration": 19,
    "start_time": "2023-05-03T05:31:22.756Z"
   },
   {
    "duration": 31,
    "start_time": "2023-05-03T05:31:22.776Z"
   },
   {
    "duration": 26,
    "start_time": "2023-05-03T05:31:22.809Z"
   },
   {
    "duration": 13,
    "start_time": "2023-05-03T05:31:22.837Z"
   },
   {
    "duration": 13,
    "start_time": "2023-05-03T05:31:22.854Z"
   },
   {
    "duration": 30,
    "start_time": "2023-05-03T05:31:22.869Z"
   },
   {
    "duration": 24,
    "start_time": "2023-05-03T05:31:22.901Z"
   },
   {
    "duration": 348,
    "start_time": "2023-05-03T05:31:22.927Z"
   },
   {
    "duration": 484,
    "start_time": "2023-05-03T05:31:23.276Z"
   },
   {
    "duration": 399,
    "start_time": "2023-05-03T05:31:23.762Z"
   },
   {
    "duration": 711,
    "start_time": "2023-05-03T05:31:24.163Z"
   },
   {
    "duration": 4,
    "start_time": "2023-05-03T05:31:24.875Z"
   },
   {
    "duration": 15,
    "start_time": "2023-05-03T05:31:24.881Z"
   },
   {
    "duration": 13,
    "start_time": "2023-05-03T05:31:24.898Z"
   },
   {
    "duration": 12,
    "start_time": "2023-05-03T05:31:24.912Z"
   },
   {
    "duration": 68,
    "start_time": "2023-05-03T05:31:24.926Z"
   },
   {
    "duration": 168,
    "start_time": "2023-05-03T05:31:24.996Z"
   },
   {
    "duration": 4,
    "start_time": "2023-05-03T05:31:25.165Z"
   },
   {
    "duration": 25,
    "start_time": "2023-05-03T05:31:25.171Z"
   },
   {
    "duration": 10,
    "start_time": "2023-05-03T05:31:25.198Z"
   },
   {
    "duration": 10,
    "start_time": "2023-05-03T05:31:25.210Z"
   },
   {
    "duration": 45,
    "start_time": "2023-05-03T05:31:25.221Z"
   },
   {
    "duration": 53,
    "start_time": "2023-05-03T05:31:25.268Z"
   },
   {
    "duration": 142,
    "start_time": "2023-05-03T05:31:25.322Z"
   },
   {
    "duration": 234,
    "start_time": "2023-05-03T05:31:25.465Z"
   },
   {
    "duration": 7,
    "start_time": "2023-05-03T05:31:25.701Z"
   },
   {
    "duration": 40,
    "start_time": "2023-05-03T05:31:25.709Z"
   },
   {
    "duration": 108,
    "start_time": "2023-05-03T05:31:25.750Z"
   },
   {
    "duration": 200,
    "start_time": "2023-05-03T05:31:25.860Z"
   },
   {
    "duration": 762,
    "start_time": "2023-05-03T05:31:26.061Z"
   },
   {
    "duration": 200,
    "start_time": "2023-05-03T05:31:26.825Z"
   },
   {
    "duration": 22069,
    "start_time": "2023-05-03T05:31:27.026Z"
   },
   {
    "duration": 890,
    "start_time": "2023-05-03T05:31:49.096Z"
   },
   {
    "duration": 211,
    "start_time": "2023-05-03T05:31:49.988Z"
   },
   {
    "duration": 87,
    "start_time": "2023-05-03T05:33:33.520Z"
   },
   {
    "duration": 1261,
    "start_time": "2023-05-03T05:33:38.343Z"
   },
   {
    "duration": 1100,
    "start_time": "2023-05-03T05:33:39.606Z"
   },
   {
    "duration": 19,
    "start_time": "2023-05-03T05:33:40.707Z"
   },
   {
    "duration": 14,
    "start_time": "2023-05-03T05:33:40.729Z"
   },
   {
    "duration": 18,
    "start_time": "2023-05-03T05:33:40.745Z"
   },
   {
    "duration": 34,
    "start_time": "2023-05-03T05:33:40.765Z"
   },
   {
    "duration": 15,
    "start_time": "2023-05-03T05:33:40.801Z"
   },
   {
    "duration": 20,
    "start_time": "2023-05-03T05:33:40.818Z"
   },
   {
    "duration": 14,
    "start_time": "2023-05-03T05:33:40.840Z"
   },
   {
    "duration": 42,
    "start_time": "2023-05-03T05:33:40.856Z"
   },
   {
    "duration": 67,
    "start_time": "2023-05-03T05:33:40.899Z"
   },
   {
    "duration": 27,
    "start_time": "2023-05-03T05:33:40.967Z"
   },
   {
    "duration": 20,
    "start_time": "2023-05-03T05:33:40.996Z"
   },
   {
    "duration": 17,
    "start_time": "2023-05-03T05:33:41.017Z"
   },
   {
    "duration": 12,
    "start_time": "2023-05-03T05:33:41.035Z"
   },
   {
    "duration": 5,
    "start_time": "2023-05-03T05:33:41.048Z"
   },
   {
    "duration": 26,
    "start_time": "2023-05-03T05:33:41.054Z"
   },
   {
    "duration": 24,
    "start_time": "2023-05-03T05:33:41.082Z"
   },
   {
    "duration": 19,
    "start_time": "2023-05-03T05:33:41.108Z"
   },
   {
    "duration": 13,
    "start_time": "2023-05-03T05:33:41.129Z"
   },
   {
    "duration": 26,
    "start_time": "2023-05-03T05:33:41.144Z"
   },
   {
    "duration": 34,
    "start_time": "2023-05-03T05:33:41.171Z"
   },
   {
    "duration": 38,
    "start_time": "2023-05-03T05:33:41.207Z"
   },
   {
    "duration": 19,
    "start_time": "2023-05-03T05:33:41.247Z"
   },
   {
    "duration": 26,
    "start_time": "2023-05-03T05:33:41.268Z"
   },
   {
    "duration": 23,
    "start_time": "2023-05-03T05:33:41.296Z"
   },
   {
    "duration": 20,
    "start_time": "2023-05-03T05:33:41.321Z"
   },
   {
    "duration": 21,
    "start_time": "2023-05-03T05:33:41.346Z"
   },
   {
    "duration": 44,
    "start_time": "2023-05-03T05:33:41.369Z"
   },
   {
    "duration": 18,
    "start_time": "2023-05-03T05:33:41.415Z"
   },
   {
    "duration": 399,
    "start_time": "2023-05-03T05:33:41.435Z"
   },
   {
    "duration": 419,
    "start_time": "2023-05-03T05:33:41.836Z"
   },
   {
    "duration": 366,
    "start_time": "2023-05-03T05:33:42.257Z"
   },
   {
    "duration": 667,
    "start_time": "2023-05-03T05:33:42.625Z"
   },
   {
    "duration": 5,
    "start_time": "2023-05-03T05:33:43.293Z"
   },
   {
    "duration": 5,
    "start_time": "2023-05-03T05:33:43.299Z"
   },
   {
    "duration": 13,
    "start_time": "2023-05-03T05:33:43.305Z"
   },
   {
    "duration": 14,
    "start_time": "2023-05-03T05:33:43.320Z"
   },
   {
    "duration": 77,
    "start_time": "2023-05-03T05:33:43.335Z"
   },
   {
    "duration": 155,
    "start_time": "2023-05-03T05:33:43.414Z"
   },
   {
    "duration": 4,
    "start_time": "2023-05-03T05:33:43.570Z"
   },
   {
    "duration": 21,
    "start_time": "2023-05-03T05:33:43.576Z"
   },
   {
    "duration": 8,
    "start_time": "2023-05-03T05:33:43.599Z"
   },
   {
    "duration": 8,
    "start_time": "2023-05-03T05:33:43.608Z"
   },
   {
    "duration": 37,
    "start_time": "2023-05-03T05:33:43.618Z"
   },
   {
    "duration": 61,
    "start_time": "2023-05-03T05:33:43.656Z"
   },
   {
    "duration": 128,
    "start_time": "2023-05-03T05:33:43.718Z"
   },
   {
    "duration": 227,
    "start_time": "2023-05-03T05:33:43.847Z"
   },
   {
    "duration": 18,
    "start_time": "2023-05-03T05:33:44.076Z"
   },
   {
    "duration": 63,
    "start_time": "2023-05-03T05:33:44.095Z"
   },
   {
    "duration": 121,
    "start_time": "2023-05-03T05:33:44.160Z"
   },
   {
    "duration": 219,
    "start_time": "2023-05-03T05:33:44.283Z"
   },
   {
    "duration": 760,
    "start_time": "2023-05-03T05:33:44.504Z"
   },
   {
    "duration": 217,
    "start_time": "2023-05-03T05:33:45.266Z"
   },
   {
    "duration": 25120,
    "start_time": "2023-05-03T05:33:45.485Z"
   },
   {
    "duration": 853,
    "start_time": "2023-05-03T05:34:10.695Z"
   },
   {
    "duration": 207,
    "start_time": "2023-05-03T05:34:11.549Z"
   },
   {
    "duration": 90,
    "start_time": "2023-05-03T05:52:35.775Z"
   },
   {
    "duration": 1295,
    "start_time": "2023-05-03T05:52:44.434Z"
   },
   {
    "duration": 1098,
    "start_time": "2023-05-03T05:52:45.731Z"
   },
   {
    "duration": 18,
    "start_time": "2023-05-03T05:52:46.831Z"
   },
   {
    "duration": 16,
    "start_time": "2023-05-03T05:52:46.851Z"
   },
   {
    "duration": 34,
    "start_time": "2023-05-03T05:52:46.868Z"
   },
   {
    "duration": 26,
    "start_time": "2023-05-03T05:52:46.904Z"
   },
   {
    "duration": 14,
    "start_time": "2023-05-03T05:52:46.932Z"
   },
   {
    "duration": 19,
    "start_time": "2023-05-03T05:52:46.948Z"
   },
   {
    "duration": 34,
    "start_time": "2023-05-03T05:52:46.969Z"
   },
   {
    "duration": 16,
    "start_time": "2023-05-03T05:52:47.005Z"
   },
   {
    "duration": 79,
    "start_time": "2023-05-03T05:52:47.022Z"
   },
   {
    "duration": 13,
    "start_time": "2023-05-03T05:52:47.103Z"
   },
   {
    "duration": 22,
    "start_time": "2023-05-03T05:52:47.117Z"
   },
   {
    "duration": 16,
    "start_time": "2023-05-03T05:52:47.141Z"
   },
   {
    "duration": 36,
    "start_time": "2023-05-03T05:52:47.159Z"
   },
   {
    "duration": 6,
    "start_time": "2023-05-03T05:52:47.197Z"
   },
   {
    "duration": 21,
    "start_time": "2023-05-03T05:52:47.204Z"
   },
   {
    "duration": 25,
    "start_time": "2023-05-03T05:52:47.226Z"
   },
   {
    "duration": 28,
    "start_time": "2023-05-03T05:52:47.253Z"
   },
   {
    "duration": 15,
    "start_time": "2023-05-03T05:52:47.283Z"
   },
   {
    "duration": 26,
    "start_time": "2023-05-03T05:52:47.300Z"
   },
   {
    "duration": 18,
    "start_time": "2023-05-03T05:52:47.328Z"
   },
   {
    "duration": 18,
    "start_time": "2023-05-03T05:52:47.348Z"
   },
   {
    "duration": 28,
    "start_time": "2023-05-03T05:52:47.368Z"
   },
   {
    "duration": 36,
    "start_time": "2023-05-03T05:52:47.398Z"
   },
   {
    "duration": 25,
    "start_time": "2023-05-03T05:52:47.436Z"
   },
   {
    "duration": 34,
    "start_time": "2023-05-03T05:52:47.463Z"
   },
   {
    "duration": 15,
    "start_time": "2023-05-03T05:52:47.502Z"
   },
   {
    "duration": 21,
    "start_time": "2023-05-03T05:52:47.518Z"
   },
   {
    "duration": 12,
    "start_time": "2023-05-03T05:52:47.541Z"
   },
   {
    "duration": 398,
    "start_time": "2023-05-03T05:52:47.555Z"
   },
   {
    "duration": 417,
    "start_time": "2023-05-03T05:52:47.955Z"
   },
   {
    "duration": 371,
    "start_time": "2023-05-03T05:52:48.373Z"
   },
   {
    "duration": 693,
    "start_time": "2023-05-03T05:52:48.746Z"
   },
   {
    "duration": 5,
    "start_time": "2023-05-03T05:52:49.441Z"
   },
   {
    "duration": 7,
    "start_time": "2023-05-03T05:52:49.448Z"
   },
   {
    "duration": 13,
    "start_time": "2023-05-03T05:52:49.456Z"
   },
   {
    "duration": 35,
    "start_time": "2023-05-03T05:52:49.470Z"
   },
   {
    "duration": 45,
    "start_time": "2023-05-03T05:52:49.507Z"
   },
   {
    "duration": 165,
    "start_time": "2023-05-03T05:52:49.555Z"
   },
   {
    "duration": 4,
    "start_time": "2023-05-03T05:52:49.721Z"
   },
   {
    "duration": 9,
    "start_time": "2023-05-03T05:52:49.727Z"
   },
   {
    "duration": 15,
    "start_time": "2023-05-03T05:52:49.738Z"
   },
   {
    "duration": 9,
    "start_time": "2023-05-03T05:52:49.755Z"
   },
   {
    "duration": 66,
    "start_time": "2023-05-03T05:52:49.766Z"
   },
   {
    "duration": 38,
    "start_time": "2023-05-03T05:52:49.834Z"
   },
   {
    "duration": 146,
    "start_time": "2023-05-03T05:52:49.873Z"
   },
   {
    "duration": 254,
    "start_time": "2023-05-03T05:52:50.021Z"
   },
   {
    "duration": 8,
    "start_time": "2023-05-03T05:52:50.277Z"
   },
   {
    "duration": 38,
    "start_time": "2023-05-03T05:52:50.295Z"
   },
   {
    "duration": 107,
    "start_time": "2023-05-03T05:52:50.335Z"
   },
   {
    "duration": 197,
    "start_time": "2023-05-03T05:52:50.443Z"
   },
   {
    "duration": 710,
    "start_time": "2023-05-03T05:52:50.642Z"
   },
   {
    "duration": 206,
    "start_time": "2023-05-03T05:52:51.354Z"
   },
   {
    "duration": 26238,
    "start_time": "2023-05-03T05:52:51.562Z"
   },
   {
    "duration": 949,
    "start_time": "2023-05-03T05:53:17.802Z"
   },
   {
    "duration": 221,
    "start_time": "2023-05-03T05:53:18.754Z"
   },
   {
    "duration": 122,
    "start_time": "2023-05-03T05:54:27.175Z"
   },
   {
    "duration": 1572,
    "start_time": "2023-05-04T03:44:46.977Z"
   },
   {
    "duration": 3040,
    "start_time": "2023-05-04T03:44:48.550Z"
   },
   {
    "duration": 20,
    "start_time": "2023-05-04T03:44:51.592Z"
   },
   {
    "duration": 21,
    "start_time": "2023-05-04T03:44:51.614Z"
   },
   {
    "duration": 34,
    "start_time": "2023-05-04T03:44:51.637Z"
   },
   {
    "duration": 21,
    "start_time": "2023-05-04T03:44:51.672Z"
   },
   {
    "duration": 15,
    "start_time": "2023-05-04T03:44:51.695Z"
   },
   {
    "duration": 33,
    "start_time": "2023-05-04T03:44:51.711Z"
   },
   {
    "duration": 22,
    "start_time": "2023-05-04T03:44:51.745Z"
   },
   {
    "duration": 22,
    "start_time": "2023-05-04T03:44:51.769Z"
   },
   {
    "duration": 81,
    "start_time": "2023-05-04T03:44:51.792Z"
   },
   {
    "duration": 15,
    "start_time": "2023-05-04T03:44:51.874Z"
   },
   {
    "duration": 30,
    "start_time": "2023-05-04T03:44:51.891Z"
   },
   {
    "duration": 19,
    "start_time": "2023-05-04T03:44:51.923Z"
   },
   {
    "duration": 8,
    "start_time": "2023-05-04T03:44:51.944Z"
   },
   {
    "duration": 8,
    "start_time": "2023-05-04T03:44:51.953Z"
   },
   {
    "duration": 13,
    "start_time": "2023-05-04T03:44:51.963Z"
   },
   {
    "duration": 21,
    "start_time": "2023-05-04T03:44:51.977Z"
   },
   {
    "duration": 39,
    "start_time": "2023-05-04T03:44:52.000Z"
   },
   {
    "duration": 27,
    "start_time": "2023-05-04T03:44:52.041Z"
   },
   {
    "duration": 27,
    "start_time": "2023-05-04T03:44:52.069Z"
   },
   {
    "duration": 21,
    "start_time": "2023-05-04T03:44:52.098Z"
   },
   {
    "duration": 20,
    "start_time": "2023-05-04T03:44:52.121Z"
   },
   {
    "duration": 19,
    "start_time": "2023-05-04T03:44:52.143Z"
   },
   {
    "duration": 30,
    "start_time": "2023-05-04T03:44:52.163Z"
   },
   {
    "duration": 34,
    "start_time": "2023-05-04T03:44:52.195Z"
   },
   {
    "duration": 18,
    "start_time": "2023-05-04T03:44:52.231Z"
   },
   {
    "duration": 17,
    "start_time": "2023-05-04T03:44:52.252Z"
   },
   {
    "duration": 22,
    "start_time": "2023-05-04T03:44:52.271Z"
   },
   {
    "duration": 16,
    "start_time": "2023-05-04T03:44:52.294Z"
   },
   {
    "duration": 371,
    "start_time": "2023-05-04T03:44:52.311Z"
   },
   {
    "duration": 411,
    "start_time": "2023-05-04T03:44:52.683Z"
   },
   {
    "duration": 427,
    "start_time": "2023-05-04T03:44:53.095Z"
   },
   {
    "duration": 824,
    "start_time": "2023-05-04T03:44:53.524Z"
   },
   {
    "duration": 5,
    "start_time": "2023-05-04T03:44:54.350Z"
   },
   {
    "duration": 24,
    "start_time": "2023-05-04T03:44:54.356Z"
   },
   {
    "duration": 30,
    "start_time": "2023-05-04T03:44:54.382Z"
   },
   {
    "duration": 15,
    "start_time": "2023-05-04T03:44:54.414Z"
   },
   {
    "duration": 106,
    "start_time": "2023-05-04T03:44:54.431Z"
   },
   {
    "duration": 224,
    "start_time": "2023-05-04T03:44:54.538Z"
   },
   {
    "duration": 4,
    "start_time": "2023-05-04T03:44:54.763Z"
   },
   {
    "duration": 6,
    "start_time": "2023-05-04T03:44:54.769Z"
   },
   {
    "duration": 8,
    "start_time": "2023-05-04T03:44:54.777Z"
   },
   {
    "duration": 9,
    "start_time": "2023-05-04T03:44:54.787Z"
   },
   {
    "duration": 67,
    "start_time": "2023-05-04T03:44:54.797Z"
   },
   {
    "duration": 39,
    "start_time": "2023-05-04T03:44:54.866Z"
   },
   {
    "duration": 242,
    "start_time": "2023-05-04T03:44:54.907Z"
   },
   {
    "duration": 192,
    "start_time": "2023-05-04T03:44:55.151Z"
   },
   {
    "duration": 10,
    "start_time": "2023-05-04T03:44:55.345Z"
   },
   {
    "duration": 40,
    "start_time": "2023-05-04T03:44:55.357Z"
   },
   {
    "duration": 149,
    "start_time": "2023-05-04T03:44:55.399Z"
   },
   {
    "duration": 196,
    "start_time": "2023-05-04T03:44:55.550Z"
   },
   {
    "duration": 874,
    "start_time": "2023-05-04T03:44:55.747Z"
   },
   {
    "duration": 254,
    "start_time": "2023-05-04T03:44:56.623Z"
   },
   {
    "duration": 17878,
    "start_time": "2023-05-04T03:44:56.878Z"
   },
   {
    "duration": 890,
    "start_time": "2023-05-04T03:45:14.834Z"
   },
   {
    "duration": 192,
    "start_time": "2023-05-04T03:45:15.726Z"
   },
   {
    "duration": 183,
    "start_time": "2023-05-04T03:45:20.311Z"
   },
   {
    "duration": 4,
    "start_time": "2023-05-04T03:45:35.300Z"
   },
   {
    "duration": 1055,
    "start_time": "2023-05-04T03:45:48.186Z"
   },
   {
    "duration": 1499,
    "start_time": "2023-05-04T03:50:34.463Z"
   },
   {
    "duration": 2843,
    "start_time": "2023-05-04T03:50:55.045Z"
   },
   {
    "duration": 8213,
    "start_time": "2023-05-04T03:51:22.412Z"
   },
   {
    "duration": 1354,
    "start_time": "2023-05-04T03:51:35.451Z"
   },
   {
    "duration": 5,
    "start_time": "2023-05-04T03:53:20.559Z"
   },
   {
    "duration": 13342,
    "start_time": "2023-05-04T03:53:31.646Z"
   },
   {
    "duration": 92,
    "start_time": "2023-05-04T03:54:34.478Z"
   },
   {
    "duration": 1707,
    "start_time": "2023-05-04T08:28:18.877Z"
   },
   {
    "duration": 1396,
    "start_time": "2023-05-04T08:28:20.586Z"
   },
   {
    "duration": 27,
    "start_time": "2023-05-04T08:28:21.984Z"
   },
   {
    "duration": 36,
    "start_time": "2023-05-04T08:28:22.014Z"
   },
   {
    "duration": 36,
    "start_time": "2023-05-04T08:28:22.052Z"
   },
   {
    "duration": 44,
    "start_time": "2023-05-04T08:28:22.090Z"
   },
   {
    "duration": 21,
    "start_time": "2023-05-04T08:28:22.136Z"
   },
   {
    "duration": 47,
    "start_time": "2023-05-04T08:28:22.159Z"
   },
   {
    "duration": 36,
    "start_time": "2023-05-04T08:28:22.208Z"
   },
   {
    "duration": 32,
    "start_time": "2023-05-04T08:28:22.246Z"
   },
   {
    "duration": 113,
    "start_time": "2023-05-04T08:28:22.280Z"
   },
   {
    "duration": 19,
    "start_time": "2023-05-04T08:28:22.397Z"
   },
   {
    "duration": 37,
    "start_time": "2023-05-04T08:28:22.418Z"
   },
   {
    "duration": 33,
    "start_time": "2023-05-04T08:28:22.459Z"
   },
   {
    "duration": 5,
    "start_time": "2023-05-04T08:28:22.494Z"
   },
   {
    "duration": 18,
    "start_time": "2023-05-04T08:28:22.500Z"
   },
   {
    "duration": 25,
    "start_time": "2023-05-04T08:28:22.520Z"
   },
   {
    "duration": 34,
    "start_time": "2023-05-04T08:28:22.546Z"
   },
   {
    "duration": 21,
    "start_time": "2023-05-04T08:28:22.582Z"
   },
   {
    "duration": 31,
    "start_time": "2023-05-04T08:28:22.605Z"
   },
   {
    "duration": 25,
    "start_time": "2023-05-04T08:28:22.638Z"
   },
   {
    "duration": 33,
    "start_time": "2023-05-04T08:28:22.666Z"
   },
   {
    "duration": 43,
    "start_time": "2023-05-04T08:28:22.700Z"
   },
   {
    "duration": 20,
    "start_time": "2023-05-04T08:28:22.745Z"
   },
   {
    "duration": 27,
    "start_time": "2023-05-04T08:28:22.766Z"
   },
   {
    "duration": 39,
    "start_time": "2023-05-04T08:28:22.795Z"
   },
   {
    "duration": 35,
    "start_time": "2023-05-04T08:28:22.836Z"
   },
   {
    "duration": 25,
    "start_time": "2023-05-04T08:28:22.876Z"
   },
   {
    "duration": 31,
    "start_time": "2023-05-04T08:28:22.903Z"
   },
   {
    "duration": 24,
    "start_time": "2023-05-04T08:28:22.936Z"
   },
   {
    "duration": 463,
    "start_time": "2023-05-04T08:28:22.962Z"
   },
   {
    "duration": 491,
    "start_time": "2023-05-04T08:28:23.426Z"
   },
   {
    "duration": 460,
    "start_time": "2023-05-04T08:28:23.919Z"
   },
   {
    "duration": 831,
    "start_time": "2023-05-04T08:28:24.382Z"
   },
   {
    "duration": 5,
    "start_time": "2023-05-04T08:28:25.215Z"
   },
   {
    "duration": 43,
    "start_time": "2023-05-04T08:28:25.222Z"
   },
   {
    "duration": 19,
    "start_time": "2023-05-04T08:28:25.267Z"
   },
   {
    "duration": 31,
    "start_time": "2023-05-04T08:28:25.288Z"
   },
   {
    "duration": 60,
    "start_time": "2023-05-04T08:28:25.321Z"
   },
   {
    "duration": 170,
    "start_time": "2023-05-04T08:28:25.384Z"
   },
   {
    "duration": 6,
    "start_time": "2023-05-04T08:28:25.558Z"
   },
   {
    "duration": 10,
    "start_time": "2023-05-04T08:28:25.566Z"
   },
   {
    "duration": 28,
    "start_time": "2023-05-04T08:28:25.578Z"
   },
   {
    "duration": 23,
    "start_time": "2023-05-04T08:28:25.608Z"
   },
   {
    "duration": 43,
    "start_time": "2023-05-04T08:28:25.633Z"
   },
   {
    "duration": 40,
    "start_time": "2023-05-04T08:28:25.678Z"
   },
   {
    "duration": 230,
    "start_time": "2023-05-04T08:28:25.719Z"
   },
   {
    "duration": 186,
    "start_time": "2023-05-04T08:28:25.951Z"
   },
   {
    "duration": 10,
    "start_time": "2023-05-04T08:28:26.139Z"
   },
   {
    "duration": 72,
    "start_time": "2023-05-04T08:28:26.150Z"
   },
   {
    "duration": 175,
    "start_time": "2023-05-04T08:28:26.225Z"
   },
   {
    "duration": 232,
    "start_time": "2023-05-04T08:28:26.402Z"
   },
   {
    "duration": 814,
    "start_time": "2023-05-04T08:28:26.636Z"
   },
   {
    "duration": 219,
    "start_time": "2023-05-04T08:28:27.452Z"
   },
   {
    "duration": 24293,
    "start_time": "2023-05-04T08:28:27.673Z"
   },
   {
    "duration": 991,
    "start_time": "2023-05-04T08:28:51.968Z"
   },
   {
    "duration": 221,
    "start_time": "2023-05-04T08:28:52.961Z"
   },
   {
    "duration": 15570,
    "start_time": "2023-05-04T08:28:53.184Z"
   },
   {
    "duration": 1579,
    "start_time": "2023-05-04T08:29:08.758Z"
   },
   {
    "duration": 161,
    "start_time": "2023-05-04T08:29:15.296Z"
   },
   {
    "duration": 95,
    "start_time": "2023-05-04T08:30:08.421Z"
   },
   {
    "duration": 61,
    "start_time": "2023-05-04T08:30:58.444Z"
   },
   {
    "duration": 89,
    "start_time": "2023-05-04T08:31:38.349Z"
   },
   {
    "duration": 52,
    "start_time": "2023-05-04T08:32:27.907Z"
   },
   {
    "duration": 61,
    "start_time": "2023-05-04T08:48:29.282Z"
   },
   {
    "duration": 85,
    "start_time": "2023-05-04T08:56:24.184Z"
   },
   {
    "duration": 83,
    "start_time": "2023-05-04T09:15:59.874Z"
   },
   {
    "duration": 72,
    "start_time": "2023-05-04T09:20:21.333Z"
   },
   {
    "duration": 1890,
    "start_time": "2023-05-04T13:58:23.138Z"
   },
   {
    "duration": 1847,
    "start_time": "2023-05-04T13:58:25.032Z"
   },
   {
    "duration": 51,
    "start_time": "2023-05-04T13:58:26.882Z"
   },
   {
    "duration": 28,
    "start_time": "2023-05-04T13:58:26.935Z"
   },
   {
    "duration": 20,
    "start_time": "2023-05-04T13:58:26.965Z"
   },
   {
    "duration": 57,
    "start_time": "2023-05-04T13:58:26.986Z"
   },
   {
    "duration": 28,
    "start_time": "2023-05-04T13:58:27.048Z"
   },
   {
    "duration": 26,
    "start_time": "2023-05-04T13:58:27.079Z"
   },
   {
    "duration": 39,
    "start_time": "2023-05-04T13:58:27.112Z"
   },
   {
    "duration": 18,
    "start_time": "2023-05-04T13:58:27.157Z"
   },
   {
    "duration": 104,
    "start_time": "2023-05-04T13:58:27.177Z"
   },
   {
    "duration": 19,
    "start_time": "2023-05-04T13:58:27.283Z"
   },
   {
    "duration": 52,
    "start_time": "2023-05-04T13:58:27.305Z"
   },
   {
    "duration": 18,
    "start_time": "2023-05-04T13:58:27.358Z"
   },
   {
    "duration": 7,
    "start_time": "2023-05-04T13:58:27.377Z"
   },
   {
    "duration": 5,
    "start_time": "2023-05-04T13:58:27.385Z"
   },
   {
    "duration": 18,
    "start_time": "2023-05-04T13:58:27.413Z"
   },
   {
    "duration": 22,
    "start_time": "2023-05-04T13:58:27.445Z"
   },
   {
    "duration": 27,
    "start_time": "2023-05-04T13:58:27.469Z"
   },
   {
    "duration": 34,
    "start_time": "2023-05-04T13:58:27.498Z"
   },
   {
    "duration": 30,
    "start_time": "2023-05-04T13:58:27.538Z"
   },
   {
    "duration": 18,
    "start_time": "2023-05-04T13:58:27.570Z"
   },
   {
    "duration": 41,
    "start_time": "2023-05-04T13:58:27.590Z"
   },
   {
    "duration": 25,
    "start_time": "2023-05-04T13:58:27.637Z"
   },
   {
    "duration": 43,
    "start_time": "2023-05-04T13:58:27.664Z"
   },
   {
    "duration": 42,
    "start_time": "2023-05-04T13:58:27.709Z"
   },
   {
    "duration": 23,
    "start_time": "2023-05-04T13:58:27.754Z"
   },
   {
    "duration": 19,
    "start_time": "2023-05-04T13:58:27.781Z"
   },
   {
    "duration": 38,
    "start_time": "2023-05-04T13:58:27.811Z"
   },
   {
    "duration": 20,
    "start_time": "2023-05-04T13:58:27.851Z"
   },
   {
    "duration": 527,
    "start_time": "2023-05-04T13:58:27.873Z"
   },
   {
    "duration": 576,
    "start_time": "2023-05-04T13:58:28.402Z"
   },
   {
    "duration": 619,
    "start_time": "2023-05-04T13:58:28.981Z"
   },
   {
    "duration": 901,
    "start_time": "2023-05-04T13:58:29.602Z"
   },
   {
    "duration": 24,
    "start_time": "2023-05-04T13:58:30.514Z"
   },
   {
    "duration": 21,
    "start_time": "2023-05-04T13:58:30.540Z"
   },
   {
    "duration": 36,
    "start_time": "2023-05-04T13:58:30.562Z"
   },
   {
    "duration": 24,
    "start_time": "2023-05-04T13:58:30.600Z"
   },
   {
    "duration": 76,
    "start_time": "2023-05-04T13:58:30.627Z"
   },
   {
    "duration": 188,
    "start_time": "2023-05-04T13:58:30.705Z"
   },
   {
    "duration": 21,
    "start_time": "2023-05-04T13:58:30.896Z"
   },
   {
    "duration": 37,
    "start_time": "2023-05-04T13:58:30.921Z"
   },
   {
    "duration": 48,
    "start_time": "2023-05-04T13:58:30.961Z"
   },
   {
    "duration": 52,
    "start_time": "2023-05-04T13:58:31.011Z"
   },
   {
    "duration": 81,
    "start_time": "2023-05-04T13:58:31.064Z"
   },
   {
    "duration": 41,
    "start_time": "2023-05-04T13:58:31.147Z"
   },
   {
    "duration": 274,
    "start_time": "2023-05-04T13:58:31.190Z"
   },
   {
    "duration": 200,
    "start_time": "2023-05-04T13:58:31.466Z"
   },
   {
    "duration": 8,
    "start_time": "2023-05-04T13:58:31.668Z"
   },
   {
    "duration": 89,
    "start_time": "2023-05-04T13:58:31.678Z"
   },
   {
    "duration": 155,
    "start_time": "2023-05-04T13:58:31.769Z"
   },
   {
    "duration": 245,
    "start_time": "2023-05-04T13:58:31.932Z"
   },
   {
    "duration": 908,
    "start_time": "2023-05-04T13:58:32.179Z"
   },
   {
    "duration": 302,
    "start_time": "2023-05-04T13:58:33.089Z"
   },
   {
    "duration": 77925,
    "start_time": "2023-05-04T13:58:33.393Z"
   },
   {
    "duration": 1247,
    "start_time": "2023-05-04T13:59:51.329Z"
   },
   {
    "duration": 311,
    "start_time": "2023-05-04T13:59:52.577Z"
   },
   {
    "duration": 19418,
    "start_time": "2023-05-04T13:59:52.890Z"
   },
   {
    "duration": 1702,
    "start_time": "2023-05-04T14:00:12.314Z"
   },
   {
    "duration": 235,
    "start_time": "2023-05-04T14:00:54.845Z"
   },
   {
    "duration": 141,
    "start_time": "2023-05-04T14:01:30.634Z"
   },
   {
    "duration": 107,
    "start_time": "2023-05-04T14:04:42.590Z"
   },
   {
    "duration": 73,
    "start_time": "2023-05-04T14:12:57.677Z"
   },
   {
    "duration": 59,
    "start_time": "2023-05-04T14:20:35.658Z"
   },
   {
    "duration": 6591,
    "start_time": "2023-05-04T14:27:02.544Z"
   },
   {
    "duration": 12,
    "start_time": "2023-05-04T14:35:06.645Z"
   },
   {
    "duration": 9,
    "start_time": "2023-05-04T14:35:13.639Z"
   },
   {
    "duration": 87,
    "start_time": "2023-05-04T14:35:33.706Z"
   },
   {
    "duration": 96,
    "start_time": "2023-05-04T14:37:04.212Z"
   },
   {
    "duration": 67,
    "start_time": "2023-05-04T14:37:33.840Z"
   },
   {
    "duration": 97,
    "start_time": "2023-05-04T14:45:55.168Z"
   },
   {
    "duration": 26953,
    "start_time": "2023-05-04T14:47:04.763Z"
   },
   {
    "duration": 25733,
    "start_time": "2023-05-04T14:54:06.153Z"
   },
   {
    "duration": 22695,
    "start_time": "2023-05-04T14:55:16.877Z"
   },
   {
    "duration": 17923,
    "start_time": "2023-05-04T14:57:26.950Z"
   },
   {
    "duration": 24655,
    "start_time": "2023-05-04T15:00:55.620Z"
   },
   {
    "duration": 24275,
    "start_time": "2023-05-04T15:02:07.536Z"
   },
   {
    "duration": 27,
    "start_time": "2023-05-04T15:03:00.810Z"
   },
   {
    "duration": 13,
    "start_time": "2023-05-04T15:03:15.765Z"
   },
   {
    "duration": 327,
    "start_time": "2023-05-04T15:03:41.800Z"
   },
   {
    "duration": 12,
    "start_time": "2023-05-04T15:04:04.456Z"
   },
   {
    "duration": 982,
    "start_time": "2023-05-04T15:06:48.768Z"
   },
   {
    "duration": 366,
    "start_time": "2023-05-04T15:07:10.969Z"
   },
   {
    "duration": 12,
    "start_time": "2023-05-04T15:07:17.772Z"
   },
   {
    "duration": 30,
    "start_time": "2023-05-04T15:13:02.793Z"
   },
   {
    "duration": 388,
    "start_time": "2023-05-04T15:13:59.449Z"
   },
   {
    "duration": 396,
    "start_time": "2023-05-04T15:16:03.653Z"
   },
   {
    "duration": 25973,
    "start_time": "2023-05-04T15:16:31.071Z"
   },
   {
    "duration": 382,
    "start_time": "2023-05-04T15:17:01.884Z"
   },
   {
    "duration": 329,
    "start_time": "2023-05-04T15:35:07.729Z"
   },
   {
    "duration": 947,
    "start_time": "2023-05-04T15:36:58.323Z"
   },
   {
    "duration": 1527,
    "start_time": "2023-05-05T12:22:10.799Z"
   },
   {
    "duration": 1334,
    "start_time": "2023-05-05T12:22:12.330Z"
   },
   {
    "duration": 22,
    "start_time": "2023-05-05T12:22:13.665Z"
   },
   {
    "duration": 30,
    "start_time": "2023-05-05T12:22:13.690Z"
   },
   {
    "duration": 33,
    "start_time": "2023-05-05T12:22:13.722Z"
   },
   {
    "duration": 42,
    "start_time": "2023-05-05T12:22:13.757Z"
   },
   {
    "duration": 22,
    "start_time": "2023-05-05T12:22:13.803Z"
   },
   {
    "duration": 25,
    "start_time": "2023-05-05T12:22:13.827Z"
   },
   {
    "duration": 32,
    "start_time": "2023-05-05T12:22:13.854Z"
   },
   {
    "duration": 20,
    "start_time": "2023-05-05T12:22:13.890Z"
   },
   {
    "duration": 123,
    "start_time": "2023-05-05T12:22:13.911Z"
   },
   {
    "duration": 20,
    "start_time": "2023-05-05T12:22:14.036Z"
   },
   {
    "duration": 46,
    "start_time": "2023-05-05T12:22:14.058Z"
   },
   {
    "duration": 23,
    "start_time": "2023-05-05T12:22:14.106Z"
   },
   {
    "duration": 9,
    "start_time": "2023-05-05T12:22:14.131Z"
   },
   {
    "duration": 21,
    "start_time": "2023-05-05T12:22:14.145Z"
   },
   {
    "duration": 17,
    "start_time": "2023-05-05T12:22:14.168Z"
   },
   {
    "duration": 28,
    "start_time": "2023-05-05T12:22:14.188Z"
   },
   {
    "duration": 24,
    "start_time": "2023-05-05T12:22:14.218Z"
   },
   {
    "duration": 44,
    "start_time": "2023-05-05T12:22:14.244Z"
   },
   {
    "duration": 21,
    "start_time": "2023-05-05T12:22:14.291Z"
   },
   {
    "duration": 17,
    "start_time": "2023-05-05T12:22:14.314Z"
   },
   {
    "duration": 16,
    "start_time": "2023-05-05T12:22:14.333Z"
   },
   {
    "duration": 49,
    "start_time": "2023-05-05T12:22:14.350Z"
   },
   {
    "duration": 23,
    "start_time": "2023-05-05T12:22:14.402Z"
   },
   {
    "duration": 26,
    "start_time": "2023-05-05T12:22:14.426Z"
   },
   {
    "duration": 38,
    "start_time": "2023-05-05T12:22:14.454Z"
   },
   {
    "duration": 18,
    "start_time": "2023-05-05T12:22:14.497Z"
   },
   {
    "duration": 22,
    "start_time": "2023-05-05T12:22:14.517Z"
   },
   {
    "duration": 15,
    "start_time": "2023-05-05T12:22:14.541Z"
   },
   {
    "duration": 467,
    "start_time": "2023-05-05T12:22:14.558Z"
   },
   {
    "duration": 488,
    "start_time": "2023-05-05T12:22:15.027Z"
   },
   {
    "duration": 446,
    "start_time": "2023-05-05T12:22:15.518Z"
   },
   {
    "duration": 735,
    "start_time": "2023-05-05T12:22:15.966Z"
   },
   {
    "duration": 5,
    "start_time": "2023-05-05T12:22:16.702Z"
   },
   {
    "duration": 5,
    "start_time": "2023-05-05T12:22:16.709Z"
   },
   {
    "duration": 20,
    "start_time": "2023-05-05T12:22:16.717Z"
   },
   {
    "duration": 14,
    "start_time": "2023-05-05T12:22:16.739Z"
   },
   {
    "duration": 76,
    "start_time": "2023-05-05T12:22:16.754Z"
   },
   {
    "duration": 162,
    "start_time": "2023-05-05T12:22:16.832Z"
   },
   {
    "duration": 5,
    "start_time": "2023-05-05T12:22:16.995Z"
   },
   {
    "duration": 6,
    "start_time": "2023-05-05T12:22:17.001Z"
   },
   {
    "duration": 8,
    "start_time": "2023-05-05T12:22:17.009Z"
   },
   {
    "duration": 10,
    "start_time": "2023-05-05T12:22:17.019Z"
   },
   {
    "duration": 66,
    "start_time": "2023-05-05T12:22:17.030Z"
   },
   {
    "duration": 39,
    "start_time": "2023-05-05T12:22:17.097Z"
   },
   {
    "duration": 221,
    "start_time": "2023-05-05T12:22:17.138Z"
   },
   {
    "duration": 182,
    "start_time": "2023-05-05T12:22:17.361Z"
   },
   {
    "duration": 8,
    "start_time": "2023-05-05T12:22:17.545Z"
   },
   {
    "duration": 56,
    "start_time": "2023-05-05T12:22:17.554Z"
   },
   {
    "duration": 122,
    "start_time": "2023-05-05T12:22:17.612Z"
   },
   {
    "duration": 205,
    "start_time": "2023-05-05T12:22:17.736Z"
   },
   {
    "duration": 784,
    "start_time": "2023-05-05T12:22:17.943Z"
   },
   {
    "duration": 216,
    "start_time": "2023-05-05T12:22:18.729Z"
   },
   {
    "duration": 25041,
    "start_time": "2023-05-05T12:22:18.946Z"
   },
   {
    "duration": 1030,
    "start_time": "2023-05-05T12:22:43.989Z"
   },
   {
    "duration": 221,
    "start_time": "2023-05-05T12:22:45.021Z"
   },
   {
    "duration": 14623,
    "start_time": "2023-05-05T12:22:45.244Z"
   },
   {
    "duration": 1438,
    "start_time": "2023-05-05T12:22:59.869Z"
   },
   {
    "duration": 4,
    "start_time": "2023-05-05T12:23:01.309Z"
   },
   {
    "duration": 14585,
    "start_time": "2023-05-05T12:23:01.314Z"
   },
   {
    "duration": 138,
    "start_time": "2023-05-05T12:23:15.986Z"
   },
   {
    "duration": 17,
    "start_time": "2023-05-05T12:23:24.100Z"
   },
   {
    "duration": 5878,
    "start_time": "2023-05-05T12:40:17.013Z"
   },
   {
    "duration": 11,
    "start_time": "2023-05-05T12:40:36.237Z"
   },
   {
    "duration": 293,
    "start_time": "2023-05-05T12:40:51.099Z"
   },
   {
    "duration": 343,
    "start_time": "2023-05-05T12:41:22.376Z"
   },
   {
    "duration": 254,
    "start_time": "2023-05-05T12:41:30.843Z"
   },
   {
    "duration": 43448,
    "start_time": "2023-05-05T12:56:45.845Z"
   },
   {
    "duration": 39145,
    "start_time": "2023-05-05T13:00:45.554Z"
   },
   {
    "duration": 38790,
    "start_time": "2023-05-05T13:01:28.696Z"
   },
   {
    "duration": 64,
    "start_time": "2023-05-05T13:04:42.990Z"
   },
   {
    "duration": 106,
    "start_time": "2023-05-05T13:04:46.565Z"
   },
   {
    "duration": 70773,
    "start_time": "2023-05-05T13:04:48.845Z"
   },
   {
    "duration": 10,
    "start_time": "2023-05-05T13:07:36.921Z"
   },
   {
    "duration": 1480,
    "start_time": "2023-05-05T13:20:13.569Z"
   },
   {
    "duration": 982,
    "start_time": "2023-05-05T13:20:15.051Z"
   },
   {
    "duration": 22,
    "start_time": "2023-05-05T13:20:16.035Z"
   },
   {
    "duration": 31,
    "start_time": "2023-05-05T13:20:16.059Z"
   },
   {
    "duration": 16,
    "start_time": "2023-05-05T13:20:16.092Z"
   },
   {
    "duration": 35,
    "start_time": "2023-05-05T13:20:16.110Z"
   },
   {
    "duration": 17,
    "start_time": "2023-05-05T13:20:16.147Z"
   },
   {
    "duration": 36,
    "start_time": "2023-05-05T13:20:16.166Z"
   },
   {
    "duration": 22,
    "start_time": "2023-05-05T13:20:16.204Z"
   },
   {
    "duration": 20,
    "start_time": "2023-05-05T13:20:16.228Z"
   },
   {
    "duration": 87,
    "start_time": "2023-05-05T13:20:16.250Z"
   },
   {
    "duration": 16,
    "start_time": "2023-05-05T13:20:16.339Z"
   },
   {
    "duration": 37,
    "start_time": "2023-05-05T13:20:16.357Z"
   },
   {
    "duration": 16,
    "start_time": "2023-05-05T13:20:16.396Z"
   },
   {
    "duration": 7,
    "start_time": "2023-05-05T13:20:16.413Z"
   },
   {
    "duration": 10,
    "start_time": "2023-05-05T13:20:16.421Z"
   },
   {
    "duration": 15,
    "start_time": "2023-05-05T13:20:16.433Z"
   },
   {
    "duration": 19,
    "start_time": "2023-05-05T13:20:16.450Z"
   },
   {
    "duration": 20,
    "start_time": "2023-05-05T13:20:16.486Z"
   },
   {
    "duration": 20,
    "start_time": "2023-05-05T13:20:16.508Z"
   },
   {
    "duration": 22,
    "start_time": "2023-05-05T13:20:16.530Z"
   },
   {
    "duration": 32,
    "start_time": "2023-05-05T13:20:16.554Z"
   },
   {
    "duration": 18,
    "start_time": "2023-05-05T13:20:16.588Z"
   },
   {
    "duration": 19,
    "start_time": "2023-05-05T13:20:16.608Z"
   },
   {
    "duration": 28,
    "start_time": "2023-05-05T13:20:16.628Z"
   },
   {
    "duration": 37,
    "start_time": "2023-05-05T13:20:16.658Z"
   },
   {
    "duration": 17,
    "start_time": "2023-05-05T13:20:16.697Z"
   },
   {
    "duration": 17,
    "start_time": "2023-05-05T13:20:16.717Z"
   },
   {
    "duration": 22,
    "start_time": "2023-05-05T13:20:16.736Z"
   },
   {
    "duration": 54,
    "start_time": "2023-05-05T13:20:16.759Z"
   },
   {
    "duration": 417,
    "start_time": "2023-05-05T13:20:16.815Z"
   },
   {
    "duration": 457,
    "start_time": "2023-05-05T13:20:17.234Z"
   },
   {
    "duration": 416,
    "start_time": "2023-05-05T13:20:17.693Z"
   },
   {
    "duration": 766,
    "start_time": "2023-05-05T13:20:18.111Z"
   },
   {
    "duration": 7,
    "start_time": "2023-05-05T13:20:18.879Z"
   },
   {
    "duration": 6,
    "start_time": "2023-05-05T13:20:18.887Z"
   },
   {
    "duration": 18,
    "start_time": "2023-05-05T13:20:18.894Z"
   },
   {
    "duration": 13,
    "start_time": "2023-05-05T13:20:18.913Z"
   },
   {
    "duration": 76,
    "start_time": "2023-05-05T13:20:18.928Z"
   },
   {
    "duration": 149,
    "start_time": "2023-05-05T13:20:19.006Z"
   },
   {
    "duration": 5,
    "start_time": "2023-05-05T13:20:19.156Z"
   },
   {
    "duration": 6,
    "start_time": "2023-05-05T13:20:19.162Z"
   },
   {
    "duration": 8,
    "start_time": "2023-05-05T13:20:19.184Z"
   },
   {
    "duration": 9,
    "start_time": "2023-05-05T13:20:19.194Z"
   },
   {
    "duration": 40,
    "start_time": "2023-05-05T13:20:19.205Z"
   },
   {
    "duration": 60,
    "start_time": "2023-05-05T13:20:19.246Z"
   },
   {
    "duration": 140,
    "start_time": "2023-05-05T13:20:19.308Z"
   },
   {
    "duration": 253,
    "start_time": "2023-05-05T13:20:19.450Z"
   },
   {
    "duration": 8,
    "start_time": "2023-05-05T13:20:19.705Z"
   },
   {
    "duration": 41,
    "start_time": "2023-05-05T13:20:19.714Z"
   },
   {
    "duration": 139,
    "start_time": "2023-05-05T13:20:19.757Z"
   },
   {
    "duration": 207,
    "start_time": "2023-05-05T13:20:19.898Z"
   },
   {
    "duration": 721,
    "start_time": "2023-05-05T13:20:20.107Z"
   },
   {
    "duration": 238,
    "start_time": "2023-05-05T13:20:20.830Z"
   },
   {
    "duration": 20058,
    "start_time": "2023-05-05T13:20:21.070Z"
   },
   {
    "duration": 927,
    "start_time": "2023-05-05T13:20:41.129Z"
   },
   {
    "duration": 223,
    "start_time": "2023-05-05T13:20:42.058Z"
   },
   {
    "duration": 15790,
    "start_time": "2023-05-05T13:20:42.285Z"
   },
   {
    "duration": 1586,
    "start_time": "2023-05-05T13:20:58.076Z"
   },
   {
    "duration": 4,
    "start_time": "2023-05-05T13:20:59.663Z"
   },
   {
    "duration": 7317,
    "start_time": "2023-05-05T13:20:59.669Z"
   },
   {
    "duration": 320,
    "start_time": "2023-05-05T13:21:06.992Z"
   },
   {
    "duration": 176,
    "start_time": "2023-05-05T13:21:07.313Z"
   },
   {
    "duration": 29398,
    "start_time": "2023-05-05T13:21:07.491Z"
   },
   {
    "duration": 20005,
    "start_time": "2023-05-05T13:23:27.082Z"
   },
   {
    "duration": 1344,
    "start_time": "2023-05-05T13:23:56.722Z"
   },
   {
    "duration": 1007,
    "start_time": "2023-05-05T13:23:58.068Z"
   },
   {
    "duration": 22,
    "start_time": "2023-05-05T13:23:59.076Z"
   },
   {
    "duration": 17,
    "start_time": "2023-05-05T13:23:59.100Z"
   },
   {
    "duration": 28,
    "start_time": "2023-05-05T13:23:59.119Z"
   },
   {
    "duration": 36,
    "start_time": "2023-05-05T13:23:59.149Z"
   },
   {
    "duration": 17,
    "start_time": "2023-05-05T13:23:59.186Z"
   },
   {
    "duration": 25,
    "start_time": "2023-05-05T13:23:59.204Z"
   },
   {
    "duration": 38,
    "start_time": "2023-05-05T13:23:59.230Z"
   },
   {
    "duration": 26,
    "start_time": "2023-05-05T13:23:59.271Z"
   },
   {
    "duration": 79,
    "start_time": "2023-05-05T13:23:59.299Z"
   },
   {
    "duration": 18,
    "start_time": "2023-05-05T13:23:59.380Z"
   },
   {
    "duration": 36,
    "start_time": "2023-05-05T13:23:59.399Z"
   },
   {
    "duration": 18,
    "start_time": "2023-05-05T13:23:59.437Z"
   },
   {
    "duration": 21,
    "start_time": "2023-05-05T13:23:59.457Z"
   },
   {
    "duration": 5,
    "start_time": "2023-05-05T13:23:59.480Z"
   },
   {
    "duration": 13,
    "start_time": "2023-05-05T13:23:59.487Z"
   },
   {
    "duration": 25,
    "start_time": "2023-05-05T13:23:59.501Z"
   },
   {
    "duration": 23,
    "start_time": "2023-05-05T13:23:59.528Z"
   },
   {
    "duration": 61,
    "start_time": "2023-05-05T13:23:59.552Z"
   },
   {
    "duration": 19,
    "start_time": "2023-05-05T13:23:59.614Z"
   },
   {
    "duration": 20,
    "start_time": "2023-05-05T13:23:59.635Z"
   },
   {
    "duration": 20,
    "start_time": "2023-05-05T13:23:59.656Z"
   },
   {
    "duration": 26,
    "start_time": "2023-05-05T13:23:59.677Z"
   },
   {
    "duration": 22,
    "start_time": "2023-05-05T13:23:59.705Z"
   },
   {
    "duration": 38,
    "start_time": "2023-05-05T13:23:59.728Z"
   },
   {
    "duration": 17,
    "start_time": "2023-05-05T13:23:59.768Z"
   },
   {
    "duration": 17,
    "start_time": "2023-05-05T13:23:59.789Z"
   },
   {
    "duration": 23,
    "start_time": "2023-05-05T13:23:59.807Z"
   },
   {
    "duration": 17,
    "start_time": "2023-05-05T13:23:59.832Z"
   },
   {
    "duration": 437,
    "start_time": "2023-05-05T13:23:59.851Z"
   },
   {
    "duration": 485,
    "start_time": "2023-05-05T13:24:00.289Z"
   },
   {
    "duration": 439,
    "start_time": "2023-05-05T13:24:00.776Z"
   },
   {
    "duration": 767,
    "start_time": "2023-05-05T13:24:01.217Z"
   },
   {
    "duration": 6,
    "start_time": "2023-05-05T13:24:01.986Z"
   },
   {
    "duration": 10,
    "start_time": "2023-05-05T13:24:01.993Z"
   },
   {
    "duration": 38,
    "start_time": "2023-05-05T13:24:02.005Z"
   },
   {
    "duration": 16,
    "start_time": "2023-05-05T13:24:02.045Z"
   },
   {
    "duration": 68,
    "start_time": "2023-05-05T13:24:02.063Z"
   },
   {
    "duration": 146,
    "start_time": "2023-05-05T13:24:02.133Z"
   },
   {
    "duration": 5,
    "start_time": "2023-05-05T13:24:02.281Z"
   },
   {
    "duration": 22,
    "start_time": "2023-05-05T13:24:02.288Z"
   },
   {
    "duration": 17,
    "start_time": "2023-05-05T13:24:02.311Z"
   },
   {
    "duration": 25,
    "start_time": "2023-05-05T13:24:02.330Z"
   },
   {
    "duration": 52,
    "start_time": "2023-05-05T13:24:02.357Z"
   },
   {
    "duration": 43,
    "start_time": "2023-05-05T13:24:02.410Z"
   },
   {
    "duration": 147,
    "start_time": "2023-05-05T13:24:02.455Z"
   },
   {
    "duration": 246,
    "start_time": "2023-05-05T13:24:02.603Z"
   },
   {
    "duration": 8,
    "start_time": "2023-05-05T13:24:02.850Z"
   },
   {
    "duration": 54,
    "start_time": "2023-05-05T13:24:02.859Z"
   },
   {
    "duration": 126,
    "start_time": "2023-05-05T13:24:02.914Z"
   },
   {
    "duration": 207,
    "start_time": "2023-05-05T13:24:03.041Z"
   },
   {
    "duration": 738,
    "start_time": "2023-05-05T13:24:03.250Z"
   },
   {
    "duration": 261,
    "start_time": "2023-05-05T13:24:03.990Z"
   },
   {
    "duration": 18034,
    "start_time": "2023-05-05T13:24:04.252Z"
   },
   {
    "duration": 994,
    "start_time": "2023-05-05T13:24:22.288Z"
   },
   {
    "duration": 220,
    "start_time": "2023-05-05T13:24:23.283Z"
   },
   {
    "duration": 15298,
    "start_time": "2023-05-05T13:24:23.504Z"
   },
   {
    "duration": 1340,
    "start_time": "2023-05-05T13:24:38.803Z"
   },
   {
    "duration": 4,
    "start_time": "2023-05-05T13:24:40.144Z"
   },
   {
    "duration": 3443,
    "start_time": "2023-05-05T13:24:40.149Z"
   },
   {
    "duration": 391,
    "start_time": "2023-05-05T13:24:43.594Z"
   },
   {
    "duration": 121,
    "start_time": "2023-05-05T13:24:43.987Z"
   },
   {
    "duration": 22898,
    "start_time": "2023-05-05T13:24:44.110Z"
   }
  ],
  "kernelspec": {
   "display_name": "Python 3 (ipykernel)",
   "language": "python",
   "name": "python3"
  },
  "language_info": {
   "codemirror_mode": {
    "name": "ipython",
    "version": 3
   },
   "file_extension": ".py",
   "mimetype": "text/x-python",
   "name": "python",
   "nbconvert_exporter": "python",
   "pygments_lexer": "ipython3",
   "version": "3.9.13"
  },
  "toc": {
   "base_numbering": 1,
   "nav_menu": {},
   "number_sections": true,
   "sideBar": true,
   "skip_h1_title": true,
   "title_cell": "Table of Contents",
   "title_sidebar": "Contents",
   "toc_cell": false,
   "toc_position": {},
   "toc_section_display": true,
   "toc_window_display": false
  }
 },
 "nbformat": 4,
 "nbformat_minor": 4
}
